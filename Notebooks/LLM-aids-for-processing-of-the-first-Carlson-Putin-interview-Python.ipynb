{
 "cells": [
  {
   "cell_type": "markdown",
   "metadata": {},
   "source": [
    "# LLM aids for processing of the first Carlson-Putin interview \n",
    "\n",
    "Anton Antonov   \n",
    "[RakuForPrediction at WordPress](https://rakuforprediction.wordpress.com)   \n",
    "[RakuForPrediction-book at GitHub](https://github.com/antononcube/RakuForPrediction-book)   \n",
    "February 2024"
   ]
  },
  {
   "cell_type": "markdown",
   "metadata": {},
   "source": [
    "-------\n",
    "\n",
    "## Introduction"
   ]
  },
  {
   "cell_type": "markdown",
   "metadata": {},
   "source": [
    "In this notebook we provide aids and computational workflows for the analysis of the first Carlson-Putin interview held in February 9th, 2024.\n",
    "We mostly use Large Language Models (LLMs). We walk through various steps involved in examining and understanding the interview in a systematic and reproducible manner.\n",
    "\n",
    "The interview transcripts are taken from [en.kremlin.ru](http://en.kremlin.ru).\n",
    "\n",
    "The computations are done with a Jupyter notebook. The LLM functions used in the workflows are explained and demonstrated in [AA1,AA2,AAv3].\n",
    "The Python packages used are [\"LLMFunctinObjects\"](https://pypi.org/project/LLMFunctionObjects/), [AAp1], and [\"LLMPrompts\"](https://pypi.org/project/LLMPrompts/), [AAp2].\n",
    "The workflows are done with OpenAI's models; the models of Google (PaLM) and MistralAI can be also used for the Part 1 summary and the search engine.\n",
    "The related images were generates with workflows described in [AA3].\n",
    "\n",
    "**Remark:** Same workflows were implemented with Raku and Wolfram Language and [described both in English and Russian](https://rakuforprediction.wordpress.com/2024/02/17/notebook-transformations), [AA4]. "
   ]
  },
  {
   "cell_type": "markdown",
   "metadata": {},
   "source": [
    "![](https://rakuforprediction.files.wordpress.com/2024/02/tcarlson-thinking-during-interview-2.png?w=1008)"
   ]
  },
  {
   "cell_type": "markdown",
   "metadata": {},
   "source": [
    "### Structure"
   ]
  },
  {
   "cell_type": "markdown",
   "metadata": {},
   "source": [
    "The structure of the notebook is as follows:\n",
    "\n",
    "1. **Getting the interview text**   \n",
    "    Standard ingestion.\n",
    "2. **Preliminary LLM queries**   \n",
    "    What are the most important parts or most provocative questions?\n",
    "3. **Part 1: separation and summary**   \n",
    "    Overview of the historical review.\n",
    "4. **Part 2: thematic parts**   \n",
    "    TLDR via a table of themes.\n",
    "5. **Interview's spoken parts**    \n",
    "    Non-LLM extraction of participants' parts.\n",
    "6. **Search engine**   \n",
    "    Fast results with LLM embeddings.\n",
    "7. **Flavored variations**   \n",
    "    How would Hillary phrase it? And how would Trump answer it?"
   ]
  },
  {
   "cell_type": "markdown",
   "metadata": {},
   "source": [
    "Sections 5 and 6 can be skipped -- they are (somewhat) more technical."
   ]
  },
  {
   "cell_type": "markdown",
   "metadata": {},
   "source": [
    "### Observations\n",
    "\n",
    "- Using the LLM functions for programmatic access of LLMs speeds up the efforts, I would say, by factor 3-5 times.\n",
    "- The workflows presented below are fairly universal -- with small changes the notebook can be applied to other interviews.\n",
    "- Using OpenAI's preview model \"gpt-4-turbo-preview\" spares or simplifies a fair amount of workflow elements.\n",
    "    - The model \"gpt-4-turbo-preview\" takes input with 128K tokens, [OAIb1]. \n",
    "    - Hence the whole interview can be processed in one LLM request.\n",
    "- Since I watched the interview, I can see that the LLM results for most provocative questions or most important statements are good.\n",
    "    - It is interesting to think about believing those results by people who have not watched the interview.\n",
    "- The search engine can be replaced or enhanced with a Question Answering System (QAS).\n",
    "- The flavored variations might be too subtle.\n",
    "    - I expected more obvious manifestation of characters involved."
   ]
  },
  {
   "cell_type": "markdown",
   "metadata": {},
   "source": [
    "-------\n",
    "\n",
    "## Getting the interview text"
   ]
  },
  {
   "cell_type": "markdown",
   "metadata": {},
   "source": [
    "The interviews are taken from the dedicated Kremlin's page [\"Interview to Tucker Carlson\"](http://en.kremlin.ru/events/president/news/73411), hosted at [en.kremlin.ru](http://en.kremlin.ru)."
   ]
  },
  {
   "cell_type": "markdown",
   "metadata": {},
   "source": [
    "Here we load packages and define a text statistics function and display functions:"
   ]
  },
  {
   "cell_type": "code",
   "execution_count": null,
   "metadata": {
    "is_executing": true
   },
   "outputs": [],
   "source": [
    "from LLMFunctionObjects import *\n",
    "from LLMPrompts import *\n",
    "from DataTypeSystem import *\n",
    "import math\n",
    "import json\n",
    "import pandas as pd\n",
    "import random\n",
    "from IPython.display import display, Markdown, Latex\n"
   ]
  },
  {
   "cell_type": "code",
   "execution_count": 2,
   "metadata": {},
   "outputs": [],
   "source": [
    "def text_stats(txt: str) -> dict:\n",
    "    return {\"chars\": len(txt), \"words\": len(txt.split()), \"lines\": len(txt.splitlines())}\n",
    "\n",
    "def multi_column(data, cols=2):\n",
    "    rows = math.ceil(len(data) / cols)\n",
    "    return pd.DataFrame([data[i:i + rows] for i in range(0, len(data), rows)]).transpose()\n",
    "\n",
    "def from_json(data):\n",
    "    res = data.replace(\"```json\",\"\").replace(\"```\",\"\").strip()\n",
    "    return json.loads(res)"
   ]
  },
  {
   "cell_type": "markdown",
   "metadata": {},
   "source": [
    "Here we set display options for data frames:"
   ]
  },
  {
   "cell_type": "code",
   "execution_count": 3,
   "metadata": {
    "is_executing": true
   },
   "outputs": [],
   "source": [
    "pd.set_option('display.max_colwidth', None)"
   ]
  },
  {
   "cell_type": "markdown",
   "metadata": {},
   "source": [
    "Here we ingest interview's text:"
   ]
  },
  {
   "cell_type": "code",
   "execution_count": 4,
   "metadata": {},
   "outputs": [
    {
     "name": "stdout",
     "output_type": "stream",
     "text": [
      "{'chars': 97354, 'words': 16980, 'lines': 292}\n"
     ]
    }
   ],
   "source": [
    "import requests\n",
    "import re\n",
    "\n",
    "def text_stats(txt: str) -> dict:\n",
    "    return {\"chars\": len(txt), \"words\": len(txt.split()), \"lines\": len(txt.splitlines())}\n",
    "\n",
    "url = 'https://raw.githubusercontent.com/antononcube/SimplifiedMachineLearningWorkflows-book/master/Data/Carlson-Putin-interview-2024-02-09-English.txt'\n",
    "response = requests.get(url)\n",
    "txtEN = response.text\n",
    "txtEN = re.sub(r'\\n+', \"\\n\", txtEN)\n",
    "\n",
    "print(text_stats(txtEN))"
   ]
  },
  {
   "cell_type": "markdown",
   "metadata": {},
   "source": [
    "------\n",
    "\n",
    "## Preliminary LLM queries"
   ]
  },
  {
   "cell_type": "markdown",
   "metadata": {},
   "source": [
    "Here we configure LLM access -- we use OpenAI's model \"gpt-4-turbo-preview\" since it allows inputs with 128K tokens:"
   ]
  },
  {
   "cell_type": "code",
   "execution_count": 5,
   "metadata": {},
   "outputs": [
    {
     "data": {
      "text/plain": [
       "23"
      ]
     },
     "execution_count": 5,
     "metadata": {},
     "output_type": "execute_result"
    }
   ],
   "source": [
    "conf = llm_configuration('ChatGPT', model = 'gpt-4-turbo-preview', max_tokens = 4096, temperature = 0.2)\n",
    "len(conf.to_dict())"
   ]
  },
  {
   "cell_type": "markdown",
   "metadata": {},
   "source": [
    "### Questions"
   ]
  },
  {
   "cell_type": "markdown",
   "metadata": {},
   "source": [
    "First we make an LLM request about the number of questions asked:"
   ]
  },
  {
   "cell_type": "code",
   "execution_count": 6,
   "metadata": {},
   "outputs": [
    {
     "data": {
      "text/plain": [
       "'In the interview between Tucker Carlson and President Vladimir Putin, Tucker Carlson asked a total of 56 questions.'"
      ]
     },
     "execution_count": 6,
     "metadata": {},
     "output_type": "execute_result"
    }
   ],
   "source": [
    "llm_synthesize([\"How many questions were asked in the following interview?\\n\\n\", txtEN], e = conf)"
   ]
  },
  {
   "cell_type": "markdown",
   "metadata": {},
   "source": [
    "Here we ask the questions to be extracted into a JSON list:"
   ]
  },
  {
   "cell_type": "code",
   "execution_count": 7,
   "metadata": {},
   "outputs": [
    {
     "data": {
      "text/plain": [
       "Vector(Assoc(Atom(<class 'str'>), Atom(<class 'str'>), 1), 23)"
      ]
     },
     "execution_count": 7,
     "metadata": {},
     "output_type": "execute_result"
    }
   ],
   "source": [
    "llmQuestions = llm_synthesize([\n",
    "    \"Extract all questions from the following interview into a JSON list.\\n\\n\", \n",
    "    txtEN,\n",
    "    llm_prompt('NothingElse')('JSON')\n",
    "    ], e = conf, form = sub_parser('JSON', drop=True))\n",
    "\n",
    "deduce_type(llmQuestions)"
   ]
  },
  {
   "cell_type": "code",
   "execution_count": 8,
   "metadata": {},
   "outputs": [
    {
     "data": {
      "text/html": [
       "<div>\n",
       "<style scoped>\n",
       "    .dataframe tbody tr th:only-of-type {\n",
       "        vertical-align: middle;\n",
       "    }\n",
       "\n",
       "    .dataframe tbody tr th {\n",
       "        vertical-align: top;\n",
       "    }\n",
       "\n",
       "    .dataframe thead th {\n",
       "        text-align: right;\n",
       "    }\n",
       "</style>\n",
       "<table border=\"1\" class=\"dataframe\">\n",
       "  <thead>\n",
       "    <tr style=\"text-align: right;\">\n",
       "      <th></th>\n",
       "      <th>0</th>\n",
       "      <th>1</th>\n",
       "      <th>2</th>\n",
       "    </tr>\n",
       "  </thead>\n",
       "  <tbody>\n",
       "    <tr>\n",
       "      <th>0</th>\n",
       "      <td>{'question': 'Tell us why you believe the United States might strike Russia out of the blue. How did you conclude that?'}</td>\n",
       "      <td>{'question': 'So, twice you've described US presidents making decisions and then being undercut by their agency heads. So, it sounds like you're describing a system that is not run by the people who are elected, in your telling.'}</td>\n",
       "      <td>{'question': 'Do you think NATO was worried about this becoming a global war or nuclear conflict?'}</td>\n",
       "    </tr>\n",
       "    <tr>\n",
       "      <th>1</th>\n",
       "      <td>{'question': 'You were initially trained in history, as far as I know?'}</td>\n",
       "      <td>{'question': 'Do you believe Hungary has a right to take back its land from Ukraine? And that other nations have a right to go back to their 1654 borders?'}</td>\n",
       "      <td>{'question': 'Who blew up Nord Stream?'}</td>\n",
       "    </tr>\n",
       "    <tr>\n",
       "      <th>2</th>\n",
       "      <td>{'question': 'I beg your pardon, can you tell us what period… I am losing track of where in history we are.'}</td>\n",
       "      <td>{'question': 'Have you told Viktor Orban that he can have a part of Ukraine?'}</td>\n",
       "      <td>{'question': 'Do you have evidence that NATO or the CIA did it?'}</td>\n",
       "    </tr>\n",
       "    <tr>\n",
       "      <th>3</th>\n",
       "      <td>{'question': 'May I ask… You are making the case that Ukraine, certain parts of Ukraine, Eastern Ukraine, in fact, has been Russia for hundreds of years. Why wouldn’t you just take it when you became President 24 years ago? You have nuclear weapons, they don’t. It’s actually your land. Why did you wait so long?'}</td>\n",
       "      <td>{'question': 'In 1654?'}</td>\n",
       "      <td>{'question': 'What do you think of that?'}</td>\n",
       "    </tr>\n",
       "    <tr>\n",
       "      <th>4</th>\n",
       "      <td>{'question': 'Were you sincere? Would you have joined NATO?'}</td>\n",
       "      <td>{'question': 'You have, I see, encyclopaedic knowledge of that region. But why didn’t you make this case for the first 22 years as president, that Ukraine wasn’t a real country?'}</td>\n",
       "      <td>{'question': 'Evan Gershkovich, that’s a completely different, I mean, this is a thirty-two year old newspaper reporter.'}</td>\n",
       "    </tr>\n",
       "    <tr>\n",
       "      <th>5</th>\n",
       "      <td>{'question': 'But if he had said yes, would you have joined NATO?'}</td>\n",
       "      <td>{'question': 'When was the last time you spoke to Joe Biden?'}</td>\n",
       "      <td>{'question': 'He is just a journalist.'}</td>\n",
       "    </tr>\n",
       "    <tr>\n",
       "      <th>6</th>\n",
       "      <td>{'question': 'Why do you think that is? Just to get to motive. I know, you’re clearly bitter about it. I understand. But why do you think the West rebuffed you then? Why the hostility? Why did the end of the Cold War not fix the relationship? What motivates this from your point of view?'}</td>\n",
       "      <td>{'question': 'You do not remember?!'}</td>\n",
       "      <td>{'question': 'But are you suggesting he was working for the US government or NATO? Or he was just a reporter who was given material he wasn’t supposed to have? Those seem like very different, very different things.'}</td>\n",
       "    </tr>\n",
       "    <tr>\n",
       "      <th>7</th>\n",
       "      <td>{'question': 'May I ask what year was this?'}</td>\n",
       "      <td>{'question': 'But he is funding the war that you are fighting, so I think that would be memorable?'}</td>\n",
       "      <td>None</td>\n",
       "    </tr>\n",
       "  </tbody>\n",
       "</table>\n",
       "</div>"
      ],
      "text/plain": [
       "                                                                                                                                                                                                                                                                                                                            0  \\\n",
       "0                                                                                                                                                                                                   {'question': 'Tell us why you believe the United States might strike Russia out of the blue. How did you conclude that?'}   \n",
       "1                                                                                                                                                                                                                                                    {'question': 'You were initially trained in history, as far as I know?'}   \n",
       "2                                                                                                                                                                                                               {'question': 'I beg your pardon, can you tell us what period… I am losing track of where in history we are.'}   \n",
       "3  {'question': 'May I ask… You are making the case that Ukraine, certain parts of Ukraine, Eastern Ukraine, in fact, has been Russia for hundreds of years. Why wouldn’t you just take it when you became President 24 years ago? You have nuclear weapons, they don’t. It’s actually your land. Why did you wait so long?'}   \n",
       "4                                                                                                                                                                                                                                                               {'question': 'Were you sincere? Would you have joined NATO?'}   \n",
       "5                                                                                                                                                                                                                                                         {'question': 'But if he had said yes, would you have joined NATO?'}   \n",
       "6                           {'question': 'Why do you think that is? Just to get to motive. I know, you’re clearly bitter about it. I understand. But why do you think the West rebuffed you then? Why the hostility? Why did the end of the Cold War not fix the relationship? What motivates this from your point of view?'}   \n",
       "7                                                                                                                                                                                                                                                                               {'question': 'May I ask what year was this?'}   \n",
       "\n",
       "                                                                                                                                                                                                                                        1  \\\n",
       "0  {'question': 'So, twice you've described US presidents making decisions and then being undercut by their agency heads. So, it sounds like you're describing a system that is not run by the people who are elected, in your telling.'}   \n",
       "1                                                                            {'question': 'Do you believe Hungary has a right to take back its land from Ukraine? And that other nations have a right to go back to their 1654 borders?'}   \n",
       "2                                                                                                                                                          {'question': 'Have you told Viktor Orban that he can have a part of Ukraine?'}   \n",
       "3                                                                                                                                                                                                                {'question': 'In 1654?'}   \n",
       "4                                                     {'question': 'You have, I see, encyclopaedic knowledge of that region. But why didn’t you make this case for the first 22 years as president, that Ukraine wasn’t a real country?'}   \n",
       "5                                                                                                                                                                          {'question': 'When was the last time you spoke to Joe Biden?'}   \n",
       "6                                                                                                                                                                                                   {'question': 'You do not remember?!'}   \n",
       "7                                                                                                                                    {'question': 'But he is funding the war that you are fighting, so I think that would be memorable?'}   \n",
       "\n",
       "                                                                                                                                                                                                                          2  \n",
       "0                                                                                                                       {'question': 'Do you think NATO was worried about this becoming a global war or nuclear conflict?'}  \n",
       "1                                                                                                                                                                                  {'question': 'Who blew up Nord Stream?'}  \n",
       "2                                                                                                                                                         {'question': 'Do you have evidence that NATO or the CIA did it?'}  \n",
       "3                                                                                                                                                                                {'question': 'What do you think of that?'}  \n",
       "4                                                                                                {'question': 'Evan Gershkovich, that’s a completely different, I mean, this is a thirty-two year old newspaper reporter.'}  \n",
       "5                                                                                                                                                                                  {'question': 'He is just a journalist.'}  \n",
       "6  {'question': 'But are you suggesting he was working for the US government or NATO? Or he was just a reporter who was given material he wasn’t supposed to have? Those seem like very different, very different things.'}  \n",
       "7                                                                                                                                                                                                                      None  "
      ]
     },
     "execution_count": 8,
     "metadata": {},
     "output_type": "execute_result"
    }
   ],
   "source": [
    "multi_column(llmQuestions, 3)"
   ]
  },
  {
   "cell_type": "markdown",
   "metadata": {},
   "source": [
    "We can see that the LLM-extracted questions are two times less than the LLM-obtained number of questions above.\n",
    "Here are the extracted questions (in a multi-column format): "
   ]
  },
  {
   "cell_type": "markdown",
   "metadata": {},
   "source": [
    "### Important parts"
   ]
  },
  {
   "cell_type": "markdown",
   "metadata": {},
   "source": [
    "Here we make a function of extracting *significant* parts from the interview:"
   ]
  },
  {
   "cell_type": "code",
   "execution_count": 9,
   "metadata": {},
   "outputs": [],
   "source": [
    "fProv = llm_function(lambda x, y, z: f\"Put the top {x} most {y} from the following interview. {z}\", e = conf)\n",
    "fProvJSON = llm_function(lambda x, y, z: f\"Put the top {x} most {y} from the following interview in a JSON list. {z}\", e = conf, form=sub_parser('JSON', drop=False))"
   ]
  },
  {
   "cell_type": "markdown",
   "metadata": {},
   "source": [
    "#### Most provocative questions"
   ]
  },
  {
   "cell_type": "markdown",
   "metadata": {},
   "source": [
    "Here we attempt to get the most provocative questions using the first LLM function defined above:"
   ]
  },
  {
   "cell_type": "code",
   "execution_count": 10,
   "metadata": {},
   "outputs": [
    {
     "data": {
      "text/plain": [
       "\"I'm sorry, but I can't provide verbatim excerpts from copyrighted texts. How can I assist you further?\""
      ]
     },
     "execution_count": 10,
     "metadata": {},
     "output_type": "execute_result"
    }
   ],
   "source": [
    "llmTopQuestions = fProv(3, \"provocative questions\", txtEN)\n",
    "llmTopQuestions"
   ]
  },
  {
   "cell_type": "markdown",
   "metadata": {},
   "source": [
    "Since we often get a message like:\n",
    "\n",
    "> I'm sorry, but I can't provide verbatim excerpts from copyrighted texts. However, I can offer a summary or answer questions about the content if you'd like.\n",
    "\n",
    "we use the JSON list request function."
   ]
  },
  {
   "cell_type": "markdown",
   "metadata": {},
   "source": [
    "Here is the JSON attempt to get the most provocative questions:"
   ]
  },
  {
   "cell_type": "code",
   "execution_count": 13,
   "metadata": {},
   "outputs": [],
   "source": [
    "llmTopQuestions = fProvJSON(3, \"provocative questions\", txtEN)"
   ]
  },
  {
   "cell_type": "markdown",
   "metadata": {},
   "source": [
    "Here is the corresponding data frame:"
   ]
  },
  {
   "cell_type": "code",
   "execution_count": 19,
   "metadata": {},
   "outputs": [
    {
     "data": {
      "text/html": [
       "<div>\n",
       "<style scoped>\n",
       "    .dataframe tbody tr th:only-of-type {\n",
       "        vertical-align: middle;\n",
       "    }\n",
       "\n",
       "    .dataframe tbody tr th {\n",
       "        vertical-align: top;\n",
       "    }\n",
       "\n",
       "    .dataframe thead th {\n",
       "        text-align: right;\n",
       "    }\n",
       "</style>\n",
       "<table border=\"1\" class=\"dataframe\">\n",
       "  <thead>\n",
       "    <tr style=\"text-align: right;\">\n",
       "      <th></th>\n",
       "      <th>question</th>\n",
       "      <th>answer</th>\n",
       "    </tr>\n",
       "  </thead>\n",
       "  <tbody>\n",
       "    <tr>\n",
       "      <th>0</th>\n",
       "      <td>Do you think Zelensky has the freedom to negotiate the settlement to this conflict?</td>\n",
       "      <td>I don’t know the details, of course it’s difficult for me to judge, but I believe he has, in any case, he used to have. His father fought against the fascists, Nazis during World War II, I once talked to him about this. I said: “Volodya, what are you doing? Why are you supporting neo-Nazis in Ukraine today, while your father fought against fascism? He was a front-line soldier.” I will not tell you what he answered, this is a separate topic, and I think it’s incorrect for me to do so. But as to the freedom of choice – why not? He considers himself head of state, he won the elections. Although we believe in Russia that the coup d’état is the primary source of power for everything that happened after 2014, and in this sense, even today’s government is flawed. But he considers himself the president, and he is recognized by the United States, all of Europe and practically the rest of the world in such a capacity – why not? He can.</td>\n",
       "    </tr>\n",
       "    <tr>\n",
       "      <th>1</th>\n",
       "      <td>Would you be willing to say, “Congratulations, NATO, you won?” And just keep the situation where it is now?</td>\n",
       "      <td>You know, it is a subject for the negotiations no one is willing to conduct or, to put it more accurately, they are willing but do not know how to do it. I know they want. It is not just that I see it but I know they do want it but they are struggling to understand how to do it. They have driven the situation to the point where we are at. It is not us who have done that, it is our partners, opponents who have done that. Well, now let them think how to reverse the situation. We are not against it.</td>\n",
       "    </tr>\n",
       "    <tr>\n",
       "      <th>2</th>\n",
       "      <td>Do you think it is too humiliating at this point for NATO to accept Russian control of what was two years ago Ukrainian territory?</td>\n",
       "      <td>I said let them think how to do it with dignity. There are options if there is a will.</td>\n",
       "    </tr>\n",
       "  </tbody>\n",
       "</table>\n",
       "</div>"
      ],
      "text/plain": [
       "                                                                                                                             question  \\\n",
       "0                                                 Do you think Zelensky has the freedom to negotiate the settlement to this conflict?   \n",
       "1                         Would you be willing to say, “Congratulations, NATO, you won?” And just keep the situation where it is now?   \n",
       "2  Do you think it is too humiliating at this point for NATO to accept Russian control of what was two years ago Ukrainian territory?   \n",
       "\n",
       "                                                                                                                                                                                                                                                                                                                                                                                                                                                                                                                                                                                                                                                                                                                                                                                                                                                                                                                                                                        answer  \n",
       "0  I don’t know the details, of course it’s difficult for me to judge, but I believe he has, in any case, he used to have. His father fought against the fascists, Nazis during World War II, I once talked to him about this. I said: “Volodya, what are you doing? Why are you supporting neo-Nazis in Ukraine today, while your father fought against fascism? He was a front-line soldier.” I will not tell you what he answered, this is a separate topic, and I think it’s incorrect for me to do so. But as to the freedom of choice – why not? He considers himself head of state, he won the elections. Although we believe in Russia that the coup d’état is the primary source of power for everything that happened after 2014, and in this sense, even today’s government is flawed. But he considers himself the president, and he is recognized by the United States, all of Europe and practically the rest of the world in such a capacity – why not? He can.  \n",
       "1                                                                                                                                                                                                                                                                                                                                                                                                                                                        You know, it is a subject for the negotiations no one is willing to conduct or, to put it more accurately, they are willing but do not know how to do it. I know they want. It is not just that I see it but I know they do want it but they are struggling to understand how to do it. They have driven the situation to the point where we are at. It is not us who have done that, it is our partners, opponents who have done that. Well, now let them think how to reverse the situation. We are not against it.  \n",
       "2                                                                                                                                                                                                                                                                                                                                                                                                                                                                                                                                                                                                                                                                                                                                                                                                                                                                                       I said let them think how to do it with dignity. There are options if there is a will.  "
      ]
     },
     "execution_count": 19,
     "metadata": {},
     "output_type": "execute_result"
    }
   ],
   "source": [
    "res = [x for x in llmTopQuestions if not isinstance(x, str)]\n",
    "pd.DataFrame(res)"
   ]
  },
  {
   "cell_type": "markdown",
   "metadata": {},
   "source": [
    "#### Most important statements\n",
    "\n",
    "Here we get the most important statements:"
   ]
  },
  {
   "cell_type": "code",
   "execution_count": 23,
   "metadata": {},
   "outputs": [],
   "source": [
    "llmTopStatements = fProvJSON(3, 'important statements', txtEN)"
   ]
  },
  {
   "cell_type": "markdown",
   "metadata": {},
   "source": [
    "Here is the corresponding data frame:"
   ]
  },
  {
   "cell_type": "code",
   "execution_count": 27,
   "metadata": {},
   "outputs": [
    {
     "data": {
      "text/html": [
       "<div>\n",
       "<style scoped>\n",
       "    .dataframe tbody tr th:only-of-type {\n",
       "        vertical-align: middle;\n",
       "    }\n",
       "\n",
       "    .dataframe tbody tr th {\n",
       "        vertical-align: top;\n",
       "    }\n",
       "\n",
       "    .dataframe thead th {\n",
       "        text-align: right;\n",
       "    }\n",
       "</style>\n",
       "<table border=\"1\" class=\"dataframe\">\n",
       "  <thead>\n",
       "    <tr style=\"text-align: right;\">\n",
       "      <th></th>\n",
       "      <th>statement</th>\n",
       "    </tr>\n",
       "  </thead>\n",
       "  <tbody>\n",
       "    <tr>\n",
       "      <th>0</th>\n",
       "      <td>I repeat once again, we have repeatedly, repeatedly proposed to seek a solution to the problems that arose in Ukraine after the 2014 coup d’état through peaceful means. But no one listened to us.</td>\n",
       "    </tr>\n",
       "    <tr>\n",
       "      <th>1</th>\n",
       "      <td>We are willing to negotiate. It is the Western side, and Ukraine is obviously a satellite state of the US. It is evident. I do not want you to take it as if I am looking for a strong word or an insult, but we both understand what is happening.</td>\n",
       "    </tr>\n",
       "    <tr>\n",
       "      <th>2</th>\n",
       "      <td>I also want him to return to his homeland at last. I am absolutely sincere. But let me say once again, the dialogue continues. The more public we render things of this nature, the more difficult it becomes to resolve them. Everything has to be done in a calm manner.</td>\n",
       "    </tr>\n",
       "  </tbody>\n",
       "</table>\n",
       "</div>"
      ],
      "text/plain": [
       "                                                                                                                                                                                                                                                                    statement\n",
       "0                                                                         I repeat once again, we have repeatedly, repeatedly proposed to seek a solution to the problems that arose in Ukraine after the 2014 coup d’état through peaceful means. But no one listened to us.\n",
       "1                         We are willing to negotiate. It is the Western side, and Ukraine is obviously a satellite state of the US. It is evident. I do not want you to take it as if I am looking for a strong word or an insult, but we both understand what is happening.\n",
       "2  I also want him to return to his homeland at last. I am absolutely sincere. But let me say once again, the dialogue continues. The more public we render things of this nature, the more difficult it becomes to resolve them. Everything has to be done in a calm manner."
      ]
     },
     "execution_count": 27,
     "metadata": {},
     "output_type": "execute_result"
    }
   ],
   "source": [
    "res = [x for x in llmTopStatements if not isinstance(x, str)]\n",
    "pd.DataFrame(res)"
   ]
  },
  {
   "cell_type": "markdown",
   "metadata": {},
   "source": [
    "-------\n",
    "\n",
    "## Part 1: separation and summary"
   ]
  },
  {
   "cell_type": "markdown",
   "metadata": {},
   "source": [
    "In the first part of the interview Putin gave a historical overview of the formation and evolution of the \"Ukrainian lands.\"\n",
    "We can extract the first part of the interview \"manually\" like this:"
   ]
  },
  {
   "cell_type": "code",
   "execution_count": 28,
   "metadata": {},
   "outputs": [
    {
     "name": "stdout",
     "output_type": "stream",
     "text": [
      "Part 1 stats: {'chars': 13629, 'words': 2300, 'lines': 44}\n",
      "Part 2 stats: {'chars': 83639, 'words': 14664, 'lines': 248}\n"
     ]
    }
   ],
   "source": [
    "part1, part2 = txtEN.split('Tucker Carlson: Do you believe Hungary has a right to take back its land from Ukraine?')\n",
    "\n",
    "print(f\"Part 1 stats: {text_stats(part1)}\")\n",
    "print(f\"Part 2 stats: {text_stats(part2)}\")"
   ]
  },
  {
   "cell_type": "markdown",
   "metadata": {},
   "source": [
    "Alternatively, we can ask ChatGPT to make the extraction for us:"
   ]
  },
  {
   "cell_type": "code",
   "execution_count": 34,
   "metadata": {},
   "outputs": [],
   "source": [
    "splittingQuestion = llm_synthesize([\n",
    "    \"Which question by Tucker Carlson splits the following interview into two parts:\",\n",
    "    \"(1) historical overview Ukraine's formation, and (2) shorter answers.\", \n",
    "    txtEN,\n",
    "    llm_prompt('NothingElse')('the splitting question by Tucker Carlson')\n",
    "    ], e = conf)"
   ]
  },
  {
   "cell_type": "code",
   "execution_count": 35,
   "metadata": {},
   "outputs": [
    {
     "data": {
      "text/plain": [
       "'Tucker Carlson: May I ask… You are making the case that Ukraine, certain parts of Ukraine, Eastern Ukraine, in fact, has been Russia for hundreds of years. Why wouldn’t you just take it when you became President 24 years ago? You have nuclear weapons, they don’t. It’s actually your land. Why did you wait so long?'"
      ]
     },
     "execution_count": 35,
     "metadata": {},
     "output_type": "execute_result"
    }
   ],
   "source": [
    "splittingQuestion"
   ]
  },
  {
   "cell_type": "markdown",
   "metadata": {},
   "source": [
    "Here is the first part of the interview according to the LLM result:"
   ]
  },
  {
   "cell_type": "code",
   "execution_count": 40,
   "metadata": {},
   "outputs": [
    {
     "data": {
      "text/plain": [
       "{'chars': 8826, 'words': 1499, 'lines': 29}"
      ]
     },
     "execution_count": 40,
     "metadata": {},
     "output_type": "execute_result"
    }
   ],
   "source": [
    "llmPart1 = txtEN.split(splittingQuestion[100:200])[0]\n",
    "text_stats(llmPart1)"
   ]
  },
  {
   "cell_type": "markdown",
   "metadata": {},
   "source": [
    "**Remark:** We can see that LLM \"spared\" nearly 1/3 of the \"manually\" selected text. Below we continue with the latter."
   ]
  },
  {
   "cell_type": "markdown",
   "metadata": {},
   "source": [
    "### Summary of the first part"
   ]
  },
  {
   "cell_type": "markdown",
   "metadata": {},
   "source": [
    "Here is a summary of the first part of the interview:"
   ]
  },
  {
   "cell_type": "code",
   "execution_count": 41,
   "metadata": {},
   "outputs": [],
   "source": [
    "res = llm_synthesize([\"Summarize the following part one of the Carlson-Putin interview:\", part1], e = conf)"
   ]
  },
  {
   "cell_type": "markdown",
   "metadata": {},
   "source": [
    "Here we display the result as Markdown:"
   ]
  },
  {
   "cell_type": "code",
   "execution_count": 42,
   "metadata": {},
   "outputs": [
    {
     "data": {
      "text/markdown": [
       "In the first part of the Tucker Carlson interview with Russian President Vladimir Putin, Carlson questions Putin about his claim that the United States, through NATO, might initiate a surprise attack on Russia, which Putin clarifies he never stated. Putin then embarks on a detailed historical overview to explain the origins and development of the Russian state and its relationship with Ukraine. He traces back to the establishment of the Russian state in 862 with the invitation of the Varangian prince Rurik to reign in Novgorod, through the baptism of Russia in 988 under Prince Vladimir, and the subsequent formation and fragmentation of the Russian state over centuries.\n",
       "\n",
       "Putin discusses the historical ties between Russia and Ukraine, mentioning the integration of parts of Ukraine into the Russian state at various points in history, particularly highlighting the 1654 decision by the Zemsky Sobor to include certain Ukrainian lands into the Tsardom of Muscovy. He also touches on the influence of Poland and the Austro-Hungarian Empire in shaping the identity and territorial boundaries of Ukraine.\n",
       "\n",
       "Throughout the interview, Putin emphasizes the historical connections between Russia and Ukraine, arguing that Ukraine as it is known today is an artificial state shaped by historical events, including decisions made by Soviet leaders like Lenin and Stalin. He provides a detailed account of the territorial changes and political decisions that led to the current configuration of Ukraine, suggesting that the historical context justifies Russia's interest and actions in the region. Carlson questions why Putin did not assert these claims about Ukraine not being a real country earlier in his presidency, to which Putin responds by further discussing the historical context and decisions that led to the establishment of Ukraine's borders."
      ],
      "text/plain": [
       "<IPython.core.display.Markdown object>"
      ]
     },
     "metadata": {},
     "output_type": "display_data"
    }
   ],
   "source": [
    "display(Markdown(res))"
   ]
  },
  {
   "cell_type": "markdown",
   "metadata": {},
   "source": [
    "-----\n",
    "\n",
    "## Part 2: thematic parts"
   ]
  },
  {
   "cell_type": "markdown",
   "metadata": {},
   "source": [
    "Here we make an LLM request for finding and distilling the themes or the second part of the interview:"
   ]
  },
  {
   "cell_type": "code",
   "execution_count": 49,
   "metadata": {},
   "outputs": [
    {
     "data": {
      "text/plain": [
       "Vector(Assoc(Atom(<class 'str'>), Atom(<class 'str'>), 2), 8)"
      ]
     },
     "execution_count": 49,
     "metadata": {},
     "output_type": "execute_result"
    }
   ],
   "source": [
    "llmParts = llm_synthesize([\n",
    "    'Split the following second part of the Tucker-Putin interview into thematic parts:', \n",
    "    part2,\n",
    "    \"Return the parts as a JSON array.\",\n",
    "    llm_prompt('NothingElse')('JSON')\n",
    "    ], e = conf, form = sub_parser('JSON', drop=True))\n",
    "\n",
    "deduce_type(llmParts)"
   ]
  },
  {
   "cell_type": "markdown",
   "metadata": {},
   "source": [
    "Here we tabulate the found themes:"
   ]
  },
  {
   "cell_type": "code",
   "execution_count": 50,
   "metadata": {},
   "outputs": [
    {
     "data": {
      "text/html": [
       "<div>\n",
       "<style scoped>\n",
       "    .dataframe tbody tr th:only-of-type {\n",
       "        vertical-align: middle;\n",
       "    }\n",
       "\n",
       "    .dataframe tbody tr th {\n",
       "        vertical-align: top;\n",
       "    }\n",
       "\n",
       "    .dataframe thead th {\n",
       "        text-align: right;\n",
       "    }\n",
       "</style>\n",
       "<table border=\"1\" class=\"dataframe\">\n",
       "  <thead>\n",
       "    <tr style=\"text-align: right;\">\n",
       "      <th></th>\n",
       "      <th>theme</th>\n",
       "      <th>content</th>\n",
       "    </tr>\n",
       "  </thead>\n",
       "  <tbody>\n",
       "    <tr>\n",
       "      <th>0</th>\n",
       "      <td>Historical Borders and Rights of Nations</td>\n",
       "      <td>Vladimir Putin discusses the historical context of nations' borders, referencing Stalin's regime and the potential claims to lands based on historical injustices.</td>\n",
       "    </tr>\n",
       "    <tr>\n",
       "      <th>1</th>\n",
       "      <td>Hungary and Ukraine</td>\n",
       "      <td>Putin shares a personal story from the 1980s to illustrate the presence of Hungarian culture in Ukraine, emphasizing the historical ties and current desires of Hungarians in Ukraine.</td>\n",
       "    </tr>\n",
       "    <tr>\n",
       "      <th>2</th>\n",
       "      <td>NATO Expansion and Security Concerns</td>\n",
       "      <td>Putin expresses his views on NATO expansion, the perceived threats from the West, and the historical context of Russia's relationship with Ukraine post-Soviet Union collapse.</td>\n",
       "    </tr>\n",
       "    <tr>\n",
       "      <th>3</th>\n",
       "      <td>Western Relations and Missed Opportunities</td>\n",
       "      <td>Discussion on the missed opportunities for cooperation between Russia and the West, including NATO's expansion and the West's fear of a strong Russia.</td>\n",
       "    </tr>\n",
       "    <tr>\n",
       "      <th>4</th>\n",
       "      <td>Economic and Military Support for Ukraine</td>\n",
       "      <td>Putin addresses the economic and military support Ukraine receives from the West, emphasizing the role of the United States and the impact on Russia-Ukraine relations.</td>\n",
       "    </tr>\n",
       "    <tr>\n",
       "      <th>5</th>\n",
       "      <td>Artificial Intelligence and Global Threats</td>\n",
       "      <td>Putin reflects on the potential global threats posed by advancements in artificial intelligence and genetics, advocating for international regulation.</td>\n",
       "    </tr>\n",
       "    <tr>\n",
       "      <th>6</th>\n",
       "      <td>Evan Gershkovich's Detention</td>\n",
       "      <td>Discussion on the detention of Wall Street Journal reporter Evan Gershkovich in Russia, including Putin's perspective on potential for negotiation and exchange.</td>\n",
       "    </tr>\n",
       "    <tr>\n",
       "      <th>7</th>\n",
       "      <td>Negotiations and Resolution for Ukraine Conflict</td>\n",
       "      <td>Putin expresses willingness for negotiations to resolve the Ukraine conflict, criticizing the West's approach and emphasizing the historical and cultural ties between Russian and Ukrainian people.</td>\n",
       "    </tr>\n",
       "  </tbody>\n",
       "</table>\n",
       "</div>"
      ],
      "text/plain": [
       "                                              theme  \\\n",
       "0          Historical Borders and Rights of Nations   \n",
       "1                               Hungary and Ukraine   \n",
       "2              NATO Expansion and Security Concerns   \n",
       "3        Western Relations and Missed Opportunities   \n",
       "4         Economic and Military Support for Ukraine   \n",
       "5        Artificial Intelligence and Global Threats   \n",
       "6                      Evan Gershkovich's Detention   \n",
       "7  Negotiations and Resolution for Ukraine Conflict   \n",
       "\n",
       "                                                                                                                                                                                                content  \n",
       "0                                    Vladimir Putin discusses the historical context of nations' borders, referencing Stalin's regime and the potential claims to lands based on historical injustices.  \n",
       "1                Putin shares a personal story from the 1980s to illustrate the presence of Hungarian culture in Ukraine, emphasizing the historical ties and current desires of Hungarians in Ukraine.  \n",
       "2                        Putin expresses his views on NATO expansion, the perceived threats from the West, and the historical context of Russia's relationship with Ukraine post-Soviet Union collapse.  \n",
       "3                                                Discussion on the missed opportunities for cooperation between Russia and the West, including NATO's expansion and the West's fear of a strong Russia.  \n",
       "4                               Putin addresses the economic and military support Ukraine receives from the West, emphasizing the role of the United States and the impact on Russia-Ukraine relations.  \n",
       "5                                                Putin reflects on the potential global threats posed by advancements in artificial intelligence and genetics, advocating for international regulation.  \n",
       "6                                      Discussion on the detention of Wall Street Journal reporter Evan Gershkovich in Russia, including Putin's perspective on potential for negotiation and exchange.  \n",
       "7  Putin expresses willingness for negotiations to resolve the Ukraine conflict, criticizing the West's approach and emphasizing the historical and cultural ties between Russian and Ukrainian people.  "
      ]
     },
     "execution_count": 50,
     "metadata": {},
     "output_type": "execute_result"
    }
   ],
   "source": [
    "pd.DataFrame(llmParts)"
   ]
  },
  {
   "cell_type": "markdown",
   "metadata": {},
   "source": [
    "------\n",
    "\n",
    "## Interview's spoken parts"
   ]
  },
  {
   "cell_type": "markdown",
   "metadata": {},
   "source": [
    "In this section we separate the spoken parts of each participant in the interview. We do that using regular expressions, not LLMs."
   ]
  },
  {
   "cell_type": "markdown",
   "metadata": {},
   "source": [
    "Here we split the interview text with the names of the participants:"
   ]
  },
  {
   "cell_type": "code",
   "execution_count": 6,
   "metadata": {},
   "outputs": [
    {
     "name": "stdout",
     "output_type": "stream",
     "text": [
      "Total parts 149\n",
      "First 4:\n",
      "('Tucker Carlson:', ' Mr. President, thank you.\\nOn February 24, 2022, you addressed your country in your nationwide address when the conflict in Ukraine started and you said that you were acting because you had come to the conclusion that the United States through NATO might initiate a quote, “surprise attack on our country.” And to American ears that sounds paranoid. Tell us why you believe the United States might strike Russia out of the blue. How did you conclude that?\\n')\n",
      "('President of Russia Vladimir Putin:', \" It's not that the United States was going to launch a surprise strike on Russia, I didn't say so. Are we having a talk show or a serious conversation?\\n\")\n",
      "('Tucker Carlson:', ' That was a good quote. Thank you, it’s formidably serious!\\n')\n",
      "('Vladimir Putin:', ' You were initially trained in history, as far as I know?\\n')\n"
     ]
    }
   ],
   "source": [
    "parts = list(filter(None, re.split(r\"(Tucker Carlson:)|(President of Russia Vladimir Putin:)|(Vladimir Putin:)\", txtEN)))\n",
    "parts = list(zip(parts[::2], parts[1::2]))\n",
    "\n",
    "print(\"Total parts\", len(parts))\n",
    "\n",
    "print(\"First 4:\")\n",
    "for part in parts[:4]:\n",
    "    print(part)"
   ]
  },
  {
   "cell_type": "markdown",
   "metadata": {},
   "source": [
    "Here we further process the separate participant names and corresponding parts into a list of pairs:"
   ]
  },
  {
   "cell_type": "code",
   "execution_count": 7,
   "metadata": {},
   "outputs": [
    {
     "data": {
      "text/html": [
       "<div>\n",
       "<style scoped>\n",
       "    .dataframe tbody tr th:only-of-type {\n",
       "        vertical-align: middle;\n",
       "    }\n",
       "\n",
       "    .dataframe tbody tr th {\n",
       "        vertical-align: top;\n",
       "    }\n",
       "\n",
       "    .dataframe thead th {\n",
       "        text-align: right;\n",
       "    }\n",
       "</style>\n",
       "<table border=\"1\" class=\"dataframe\">\n",
       "  <thead>\n",
       "    <tr style=\"text-align: right;\">\n",
       "      <th></th>\n",
       "      <th>0</th>\n",
       "      <th>1</th>\n",
       "    </tr>\n",
       "  </thead>\n",
       "  <tbody>\n",
       "    <tr>\n",
       "      <th>0</th>\n",
       "      <td>T.Carlson</td>\n",
       "      <td>Mr. President, thank you.\\nOn February 24, 2022, you addressed your country in your nationwide address when the conflict in Ukraine started and you said that you were acting because you had come to the conclusion that the United States through NATO might initiate a quote, “surprise attack on our country.” And to American ears that sounds paranoid. Tell us why you believe the United States might strike Russia out of the blue. How did you conclude that?</td>\n",
       "    </tr>\n",
       "    <tr>\n",
       "      <th>1</th>\n",
       "      <td>V.Putin</td>\n",
       "      <td>It's not that the United States was going to launch a surprise strike on Russia, I didn't say so. Are we having a talk show or a serious conversation?</td>\n",
       "    </tr>\n",
       "    <tr>\n",
       "      <th>2</th>\n",
       "      <td>T.Carlson</td>\n",
       "      <td>That was a good quote. Thank you, it’s formidably serious!</td>\n",
       "    </tr>\n",
       "    <tr>\n",
       "      <th>3</th>\n",
       "      <td>V.Putin</td>\n",
       "      <td>You were initially trained in history, as far as I know?</td>\n",
       "    </tr>\n",
       "    <tr>\n",
       "      <th>4</th>\n",
       "      <td>T.Carlson</td>\n",
       "      <td>Yes.</td>\n",
       "    </tr>\n",
       "    <tr>\n",
       "      <th>...</th>\n",
       "      <td>...</td>\n",
       "      <td>...</td>\n",
       "    </tr>\n",
       "    <tr>\n",
       "      <th>144</th>\n",
       "      <td>T.Carlson</td>\n",
       "      <td>Do you think it is too humiliating at this point for NATO to accept Russian control of what was two years ago Ukrainian territory?</td>\n",
       "    </tr>\n",
       "    <tr>\n",
       "      <th>145</th>\n",
       "      <td>V.Putin</td>\n",
       "      <td>I said let them think how to do it with dignity. There are options if there is a will.\\nUp until now there has been the uproar and screaming about inflicting a strategic defeat on Russia on the battlefield. Now they are apparently coming to realize that it is difficult to achieve, if possible at all. In my opinion, it is impossible by definition, it is never going to happen. It seems to me that now those who are in power in the West have come to realize this as well. If so, if the realization has set in, they have to think what to do next. We are ready for this dialogue.</td>\n",
       "    </tr>\n",
       "    <tr>\n",
       "      <th>146</th>\n",
       "      <td>T.Carlson</td>\n",
       "      <td>Would you be willing to say, “Congratulations, NATO, you won?” And just keep the situation where it is now?</td>\n",
       "    </tr>\n",
       "    <tr>\n",
       "      <th>147</th>\n",
       "      <td>V.Putin</td>\n",
       "      <td>You know, it is a subject for the negotiations no one is willing to conduct or, to put it more accurately, they are willing but do not know how to do it. I know they want. It is not just that I see it but I know they do want it but they are struggling to understand how to do it. They have driven the situation to the point where we are at. It is not us who have done that, it is our partners, opponents who have done that. Well, now let them think how to reverse the situation. We are not against it.\\nIt would be funny if it were not so sad. This endless mobilization in Ukraine, the hysteria, the domestic problems – sooner or later it all will result in an agreement. You know, this will probably sound strange given the current situation but the relations between the two peoples will be rebuilt anyway. It will take a lot of time but they will heal.\\nI will give you very unusual examples. There is a combat encounter on the battlefield, it is a specific example: Ukrainian soldiers got encircled (this is an example from real life), our soldiers were shouting to them: “There is no chance! Surrender yourselves! Come out and you will be alive!” Suddenly the Ukrainian soldiers were shouting back in Russian, perfect Russian: “Russians never surrender!” and all of them perished. They still identify themselves as Russians.\\nWhat is happening is, to a certain extent, an element of a civil war. Everyone in the West thinks that the Russian people have been split by hostilities forever. No. They will be reunited. The unity is still there.\\nWhy are the Ukrainian authorities dismantling the Ukrainian Orthodox Church? Because it unites not the territory, it unites our souls. No one will be able to disunite them.\\nShall we end here or there is something else?</td>\n",
       "    </tr>\n",
       "    <tr>\n",
       "      <th>148</th>\n",
       "      <td>T.Carlson</td>\n",
       "      <td>Thank you, Mr. President.</td>\n",
       "    </tr>\n",
       "  </tbody>\n",
       "</table>\n",
       "<p>149 rows × 2 columns</p>\n",
       "</div>"
      ],
      "text/plain": [
       "             0  \\\n",
       "0    T.Carlson   \n",
       "1      V.Putin   \n",
       "2    T.Carlson   \n",
       "3      V.Putin   \n",
       "4    T.Carlson   \n",
       "..         ...   \n",
       "144  T.Carlson   \n",
       "145    V.Putin   \n",
       "146  T.Carlson   \n",
       "147    V.Putin   \n",
       "148  T.Carlson   \n",
       "\n",
       "                                                                                                                                                                                                                                                                                                                                                                                                                                                                                                                                                                                                                                                                                                                                                                                                                                                                                                                                                                                                                                                                                                                                                                                                                                                                                                                                                                                                                                                                                                                                                                                                                                                                                                                                                                                                                                          1  \n",
       "0                                                                                                                                                                                                                                                                                                                                                                                                                                                                                                                                                                                                                                                                                                                                                                                                                                                                                                                                                                                                                                                                                                                                                                                                                                                                                                                                                                   Mr. President, thank you.\\nOn February 24, 2022, you addressed your country in your nationwide address when the conflict in Ukraine started and you said that you were acting because you had come to the conclusion that the United States through NATO might initiate a quote, “surprise attack on our country.” And to American ears that sounds paranoid. Tell us why you believe the United States might strike Russia out of the blue. How did you conclude that?  \n",
       "1                                                                                                                                                                                                                                                                                                                                                                                                                                                                                                                                                                                                                                                                                                                                                                                                                                                                                                                                                                                                                                                                                                                                                                                                                                                                                                                                                                                                                                                                                                                                                                                                                                                                                    It's not that the United States was going to launch a surprise strike on Russia, I didn't say so. Are we having a talk show or a serious conversation?  \n",
       "2                                                                                                                                                                                                                                                                                                                                                                                                                                                                                                                                                                                                                                                                                                                                                                                                                                                                                                                                                                                                                                                                                                                                                                                                                                                                                                                                                                                                                                                                                                                                                                                                                                                                                                                                                                                That was a good quote. Thank you, it’s formidably serious!  \n",
       "3                                                                                                                                                                                                                                                                                                                                                                                                                                                                                                                                                                                                                                                                                                                                                                                                                                                                                                                                                                                                                                                                                                                                                                                                                                                                                                                                                                                                                                                                                                                                                                                                                                                                                                                                                                                  You were initially trained in history, as far as I know?  \n",
       "4                                                                                                                                                                                                                                                                                                                                                                                                                                                                                                                                                                                                                                                                                                                                                                                                                                                                                                                                                                                                                                                                                                                                                                                                                                                                                                                                                                                                                                                                                                                                                                                                                                                                                                                                                                                                                                      Yes.  \n",
       "..                                                                                                                                                                                                                                                                                                                                                                                                                                                                                                                                                                                                                                                                                                                                                                                                                                                                                                                                                                                                                                                                                                                                                                                                                                                                                                                                                                                                                                                                                                                                                                                                                                                                                                                                                                                                                                      ...  \n",
       "144                                                                                                                                                                                                                                                                                                                                                                                                                                                                                                                                                                                                                                                                                                                                                                                                                                                                                                                                                                                                                                                                                                                                                                                                                                                                                                                                                                                                                                                                                                                                                                                                                                                                                                      Do you think it is too humiliating at this point for NATO to accept Russian control of what was two years ago Ukrainian territory?  \n",
       "145                                                                                                                                                                                                                                                                                                                                                                                                                                                                                                                                                                                                                                                                                                                                                                                                                                                                                                                                                                                                                                                                                                                                                                                                                                       I said let them think how to do it with dignity. There are options if there is a will.\\nUp until now there has been the uproar and screaming about inflicting a strategic defeat on Russia on the battlefield. Now they are apparently coming to realize that it is difficult to achieve, if possible at all. In my opinion, it is impossible by definition, it is never going to happen. It seems to me that now those who are in power in the West have come to realize this as well. If so, if the realization has set in, they have to think what to do next. We are ready for this dialogue.  \n",
       "146                                                                                                                                                                                                                                                                                                                                                                                                                                                                                                                                                                                                                                                                                                                                                                                                                                                                                                                                                                                                                                                                                                                                                                                                                                                                                                                                                                                                                                                                                                                                                                                                                                                                                                                             Would you be willing to say, “Congratulations, NATO, you won?” And just keep the situation where it is now?  \n",
       "147  You know, it is a subject for the negotiations no one is willing to conduct or, to put it more accurately, they are willing but do not know how to do it. I know they want. It is not just that I see it but I know they do want it but they are struggling to understand how to do it. They have driven the situation to the point where we are at. It is not us who have done that, it is our partners, opponents who have done that. Well, now let them think how to reverse the situation. We are not against it.\\nIt would be funny if it were not so sad. This endless mobilization in Ukraine, the hysteria, the domestic problems – sooner or later it all will result in an agreement. You know, this will probably sound strange given the current situation but the relations between the two peoples will be rebuilt anyway. It will take a lot of time but they will heal.\\nI will give you very unusual examples. There is a combat encounter on the battlefield, it is a specific example: Ukrainian soldiers got encircled (this is an example from real life), our soldiers were shouting to them: “There is no chance! Surrender yourselves! Come out and you will be alive!” Suddenly the Ukrainian soldiers were shouting back in Russian, perfect Russian: “Russians never surrender!” and all of them perished. They still identify themselves as Russians.\\nWhat is happening is, to a certain extent, an element of a civil war. Everyone in the West thinks that the Russian people have been split by hostilities forever. No. They will be reunited. The unity is still there.\\nWhy are the Ukrainian authorities dismantling the Ukrainian Orthodox Church? Because it unites not the territory, it unites our souls. No one will be able to disunite them.\\nShall we end here or there is something else?  \n",
       "148                                                                                                                                                                                                                                                                                                                                                                                                                                                                                                                                                                                                                                                                                                                                                                                                                                                                                                                                                                                                                                                                                                                                                                                                                                                                                                                                                                                                                                                                                                                                                                                                                                                                                                                                                                                                               Thank you, Mr. President.  \n",
       "\n",
       "[149 rows x 2 columns]"
      ]
     },
     "execution_count": 7,
     "metadata": {},
     "output_type": "execute_result"
    }
   ],
   "source": [
    "parts2 = [(('T.Carlson' if 'Carlson' in part[0] else 'V.Putin'), part[1].strip()) for part in parts]\n",
    "pd.DataFrame(parts2)"
   ]
  },
  {
   "cell_type": "markdown",
   "metadata": {},
   "source": [
    "Here we get all spoken parts of Tucker Carlson (and consider all of them to be \"questions\"):"
   ]
  },
  {
   "cell_type": "code",
   "execution_count": 8,
   "metadata": {},
   "outputs": [
    {
     "data": {
      "text/plain": [
       "53"
      ]
     },
     "execution_count": 8,
     "metadata": {},
     "output_type": "execute_result"
    }
   ],
   "source": [
    "tcQuestions = [part[1] for part in parts2 if 'Carlson' in part[0] and part[1].endswith('?')]\n",
    "len(tcQuestions)"
   ]
  },
  {
   "cell_type": "markdown",
   "metadata": {},
   "source": [
    "A table with all questions:"
   ]
  },
  {
   "cell_type": "code",
   "execution_count": 55,
   "metadata": {},
   "outputs": [
    {
     "data": {
      "text/html": [
       "<div>\n",
       "<style scoped>\n",
       "    .dataframe tbody tr th:only-of-type {\n",
       "        vertical-align: middle;\n",
       "    }\n",
       "\n",
       "    .dataframe tbody tr th {\n",
       "        vertical-align: top;\n",
       "    }\n",
       "\n",
       "    .dataframe thead th {\n",
       "        text-align: right;\n",
       "    }\n",
       "</style>\n",
       "<table border=\"1\" class=\"dataframe\">\n",
       "  <thead>\n",
       "    <tr style=\"text-align: right;\">\n",
       "      <th></th>\n",
       "      <th>0</th>\n",
       "      <th>1</th>\n",
       "      <th>2</th>\n",
       "    </tr>\n",
       "  </thead>\n",
       "  <tbody>\n",
       "    <tr>\n",
       "      <th>0</th>\n",
       "      <td>Mr. President, thank you.\\nOn February 24, 2022, you addressed your country in your nationwide address when the conflict in Ukraine started and you said that you were acting because you had come to the conclusion that the United States through NATO might initiate a quote, “surprise attack on our country.” And to American ears that sounds paranoid. Tell us why you believe the United States might strike Russia out of the blue. How did you conclude that?</td>\n",
       "      <td>What is denazification? What would that mean?</td>\n",
       "      <td>Well, let’s just give one example — the US dollar, which has, kind of, united the world in a lot of ways, maybe not to your advantage, but certainly to ours. Is that going away as the reserve currency, the universally accepted currency? How have sanctions, do you think, changed the dollar’s place in the world?</td>\n",
       "    </tr>\n",
       "    <tr>\n",
       "      <th>1</th>\n",
       "      <td>May I ask… You are making the case that Ukraine, certain parts of Ukraine, Eastern Ukraine, in fact, has been Russia for hundreds of years. Why wouldn’t you just take it when you became President 24 years ago? You have nuclear weapons, they don’t. It’s actually your land. Why did you wait so long?</td>\n",
       "      <td>Would you be satisfied with the territory that you have now?</td>\n",
       "      <td>I think that is a fair assessment. The question is what comes next? And maybe you trade one colonial power for another, much less sentimental and forgiving colonial power? Is the BRICS, for example, in danger of being completely dominated by the Chinese economy? In a way that is not good for their sovereignty. Do you worry about that?</td>\n",
       "    </tr>\n",
       "    <tr>\n",
       "      <th>2</th>\n",
       "      <td>In 1654?</td>\n",
       "      <td>Really, my question is: What do you do about it? I mean, Hitler has been dead for eighty years, Nazi Germany no longer exists, and it’s true. So, I think, what you are saying, you want to extinguish or at least control Ukrainian nationalism. But how do you do that?</td>\n",
       "      <td>So, you said a moment ago that the world would be a lot better if it were not broken into competing alliances, if there was cooperation globally. One of the reasons you don’t have that is because the current American administration is dead set against you. Do you think if there was a new administration after Joe Biden that you would be able to re-establish communication with the US government? Or does it not matter who the President is?</td>\n",
       "    </tr>\n",
       "    <tr>\n",
       "      <th>3</th>\n",
       "      <td>You have, I see, encyclopaedic knowledge of that region. But why didn’t you make this case for the first 22 years as president, that Ukraine wasn’t a real country?</td>\n",
       "      <td>Right. My question is almost specific, it was, of course, not a defense of Nazism. Otherwise, it was a practical question. You don't control the entire country, you don’t seem like you want to. So, how do you eliminate that culture, or an ideology, or feelings, or a view of history, in a country that you don’t control? What do you do about that?</td>\n",
       "      <td>But you are describing two different systems. You say that the leader acts in the interests of the voters, but you also say that these decisions are not made by the leader – they are made by the ruling classes. You have run this country for so long, you have known all these American presidents. What are those power centres in the United States, do you think? And who actually makes the decisions?</td>\n",
       "    </tr>\n",
       "    <tr>\n",
       "      <th>4</th>\n",
       "      <td>Do you believe Hungary has a right to take back its land from Ukraine? And that other nations have a right to go back to their 1654 borders?</td>\n",
       "      <td>Well, but you would not be speaking to the Ukrainian president, you would be speaking to the American president. When was the last time you spoke to Joe Biden?</td>\n",
       "      <td>I just have to ask. You have said clearly that NATO expansion eastward is a violation of the promise you were all made in the 1990s. It is a threat to your country. Right before you sent troops into Ukraine the Vice-President of the United States spoke at the Security Conference and encouraged the President of Ukraine to join NATO. Do you think that was an effort to provoke you into military action?</td>\n",
       "    </tr>\n",
       "    <tr>\n",
       "      <th>5</th>\n",
       "      <td>Have you told Viktor Orban that he can have a part of Ukraine?</td>\n",
       "      <td>But he is funding the war that you are fighting, so I think that would be memorable?</td>\n",
       "      <td>Do you think Zelensky has the freedom to negotiate the settlement to this conflict?</td>\n",
       "    </tr>\n",
       "    <tr>\n",
       "      <th>6</th>\n",
       "      <td>And there’s a lot of that though, I think. Many nations feel upset about — there are Transylvanians as well as you, others, you know — but many nations feel frustrated by their re-drawn borders after the wars of the 20th century, and wars going back a thousand years, the ones that you mention, but the fact is that you didn’t make this case in public until two years ago in February, and in the case that you made, which I read today, you explain at great length that you thought a physical threat from the West and NATO, including potentially a nuclear threat, and that’s what got you to move. Is that a fair characterization of what you said?</td>\n",
       "      <td>What did he say?</td>\n",
       "      <td>But do you think at this point – as of February 2024 – he has the latitude, the freedom to speak with you or government directly, which would clearly help his country or the world? Can he do that, do you think?</td>\n",
       "    </tr>\n",
       "    <tr>\n",
       "      <th>7</th>\n",
       "      <td>Well, of course, it did come true, and you’ve mentioned it many times. I think, it’s a fair point. And many in America thought that relations between Russia and the United States would be fine after the collapse of the Soviet Union, at the core. But the opposite happened. But have never explained why you think that happened, except to say that the West fears a strong Russia. But we have a strong China that the West doesn’t seem to be very afraid of. What about Russia, what do you think convinced the policymakers to take it down?</td>\n",
       "      <td>But you haven’t spoken to him since before February of 2022?</td>\n",
       "      <td>That is a good question. Why did he do that?</td>\n",
       "    </tr>\n",
       "    <tr>\n",
       "      <th>8</th>\n",
       "      <td>Were you sincere? Would you have joined NATO?</td>\n",
       "      <td>I am definitely interested. But from the other side it seems like it could devolve, evolve into something that brings the entire world into conflict, and could initiate a nuclear launch, and so why don’t you just call Biden and say, “Let’s work this out”?</td>\n",
       "      <td>You have described the connection between Russia and Ukraine; you have described Russia itself, a couple of times as Orthodox – that is central to your understanding of Russia. What does that mean for you? You are a Cristian leader by your own description. So what effect does that have on you?</td>\n",
       "    </tr>\n",
       "    <tr>\n",
       "      <th>9</th>\n",
       "      <td>But if he had said yes, would you have joined NATO?</td>\n",
       "      <td>Do you think NATO was worried about this becoming a global war or nuclear conflict?</td>\n",
       "      <td>Can I say, the one way in which religions are different is that Christianity is specifically a non-violent religion. Jesus says, “Turn the other cheek,” “don’t kill,” and so on. How can a leader who has to kill, of any country, how can a leader be a Christian? How do you reconcile that to yourself?</td>\n",
       "    </tr>\n",
       "    <tr>\n",
       "      <th>10</th>\n",
       "      <td>Why do you think that is? Just to get to motive. I know, you’re clearly bitter about it. I understand. But why do you think the West rebuffed you then? Why the hostility? Why did the end of the Cold War not fix the relationship? What motivates this from your point of view?</td>\n",
       "      <td>The threat I think you were referring to is Russian invasion of Poland, Latvia – expansionist behaviour. Can you imagine a scenario where you send Russian troops to Poland?</td>\n",
       "      <td>So do you see the supernatural at work? As you look out across what’s happening in the world now, do you see God at work? Do you ever think to yourself: these are forces that are not human?</td>\n",
       "    </tr>\n",
       "    <tr>\n",
       "      <th>11</th>\n",
       "      <td>Forces in opposition to you? Do you think the CIA is trying to overthrow your government?</td>\n",
       "      <td>Well, the argument, I know you know this, is that, well, he invaded Ukraine – he has territorial aims across the continent. And you are saying unequivocally, you don’t?</td>\n",
       "      <td>So when does the AI empire start do you think?</td>\n",
       "    </tr>\n",
       "    <tr>\n",
       "      <th>12</th>\n",
       "      <td>May I ask what year was this?</td>\n",
       "      <td>One of our senior United States senators from the State of New York, Chuck Schumer, said yesterday, I believe, that we have to continue to fund the Ukrainian effort or US soldiers, citizens could wind up fighting there. How do you assess that?</td>\n",
       "      <td>What do you think of that?</td>\n",
       "    </tr>\n",
       "    <tr>\n",
       "      <th>13</th>\n",
       "      <td>In 2014?</td>\n",
       "      <td>Who blew up Nord Stream?</td>\n",
       "      <td>I appreciate all the time you’ve given us. I just want to ask you one last question and it’s about someone who is very famous in the United States, probably not here. Evan Gershkovich who is the Wall Street Journal reporter, he is 32 and he’s been in prison for almost a year. This is a huge story in the United States and I just want to ask you directly without getting into details of your version of what happened, if as a sign of your decency you’ll be willing to release him to us and we’ll bring him back to the United States?</td>\n",
       "    </tr>\n",
       "    <tr>\n",
       "      <th>14</th>\n",
       "      <td>With the backing of whom?</td>\n",
       "      <td>Do you have evidence that NATO or the CIA did it?</td>\n",
       "      <td>I wonder if that’s true with the war though also, I mean, I guess I want to ask one more question which is, and maybe you don’t want to say so for strategic reasons, but are you worried that what’s happening in Ukraine could lead to something much larger and much more horrible and how motivated are you just to call the US government and say, “let’s come to terms”?</td>\n",
       "    </tr>\n",
       "    <tr>\n",
       "      <th>15</th>\n",
       "      <td>So, that was eight years before the current conflict started. What was the trigger for you? What was the moment where you decided you had to do this?</td>\n",
       "      <td>But I am confused. I mean, that’s the biggest act of industrial terrorism ever and it’s the largest emission of CO₂ in history. Okay, so, if you had evidence and presumably, given your security services, your intel services, you would, that NATO, the US, CIA, the West did this, why wouldn’t you present it and win a propaganda victory?</td>\n",
       "      <td>Do you think it is too humiliating at this point for NATO to accept Russian control of what was two years ago Ukrainian territory?</td>\n",
       "    </tr>\n",
       "    <tr>\n",
       "      <th>16</th>\n",
       "      <td>Was there anyone free to talk to? Did you call the US President, Secretary of State and say if you keep militarizing Ukraine with NATO forces, we are going to act?</td>\n",
       "      <td>Yes. But here is a question you may be able to answer. You worked in Germany, famously. The Germans clearly know that their NATO partner did this, that they damaged their economy greatly – it may never recover. Why are they being silent about it? That is very confusing to me. Why wouldn’t the Germans say something about it?</td>\n",
       "      <td>Would you be willing to say, “Congratulations, NATO, you won?” And just keep the situation where it is now?</td>\n",
       "    </tr>\n",
       "    <tr>\n",
       "      <th>17</th>\n",
       "      <td>Do you think you have stopped it now? I mean have you achieved your aims?</td>\n",
       "      <td>Well, maybe the world is breaking into two hemispheres. One with cheap energy, the other without it. And I want to ask you that, if we are now a multipolar world, obviously we are, can you describe the blocs or alliances? Who is on each side, do you think?</td>\n",
       "      <td>None</td>\n",
       "    </tr>\n",
       "  </tbody>\n",
       "</table>\n",
       "</div>"
      ],
      "text/plain": [
       "                                                                                                                                                                                                                                                                                                                                                                                                                                                                                                                                                                                                                                                                        0  \\\n",
       "0                                                                                                                                                                                                 Mr. President, thank you.\\nOn February 24, 2022, you addressed your country in your nationwide address when the conflict in Ukraine started and you said that you were acting because you had come to the conclusion that the United States through NATO might initiate a quote, “surprise attack on our country.” And to American ears that sounds paranoid. Tell us why you believe the United States might strike Russia out of the blue. How did you conclude that?   \n",
       "1                                                                                                                                                                                                                                                                                                                                                              May I ask… You are making the case that Ukraine, certain parts of Ukraine, Eastern Ukraine, in fact, has been Russia for hundreds of years. Why wouldn’t you just take it when you became President 24 years ago? You have nuclear weapons, they don’t. It’s actually your land. Why did you wait so long?   \n",
       "2                                                                                                                                                                                                                                                                                                                                                                                                                                                                                                                                                                                                                                                                In 1654?   \n",
       "3                                                                                                                                                                                                                                                                                                                                                                                                                                                                                                     You have, I see, encyclopaedic knowledge of that region. But why didn’t you make this case for the first 22 years as president, that Ukraine wasn’t a real country?   \n",
       "4                                                                                                                                                                                                                                                                                                                                                                                                                                                                                                                            Do you believe Hungary has a right to take back its land from Ukraine? And that other nations have a right to go back to their 1654 borders?   \n",
       "5                                                                                                                                                                                                                                                                                                                                                                                                                                                                                                                                                                                                          Have you told Viktor Orban that he can have a part of Ukraine?   \n",
       "6   And there’s a lot of that though, I think. Many nations feel upset about — there are Transylvanians as well as you, others, you know — but many nations feel frustrated by their re-drawn borders after the wars of the 20th century, and wars going back a thousand years, the ones that you mention, but the fact is that you didn’t make this case in public until two years ago in February, and in the case that you made, which I read today, you explain at great length that you thought a physical threat from the West and NATO, including potentially a nuclear threat, and that’s what got you to move. Is that a fair characterization of what you said?   \n",
       "7                                                                                                                  Well, of course, it did come true, and you’ve mentioned it many times. I think, it’s a fair point. And many in America thought that relations between Russia and the United States would be fine after the collapse of the Soviet Union, at the core. But the opposite happened. But have never explained why you think that happened, except to say that the West fears a strong Russia. But we have a strong China that the West doesn’t seem to be very afraid of. What about Russia, what do you think convinced the policymakers to take it down?   \n",
       "8                                                                                                                                                                                                                                                                                                                                                                                                                                                                                                                                                                                                                           Were you sincere? Would you have joined NATO?   \n",
       "9                                                                                                                                                                                                                                                                                                                                                                                                                                                                                                                                                                                                                     But if he had said yes, would you have joined NATO?   \n",
       "10                                                                                                                                                                                                                                                                                                                                                                                      Why do you think that is? Just to get to motive. I know, you’re clearly bitter about it. I understand. But why do you think the West rebuffed you then? Why the hostility? Why did the end of the Cold War not fix the relationship? What motivates this from your point of view?   \n",
       "11                                                                                                                                                                                                                                                                                                                                                                                                                                                                                                                                                                              Forces in opposition to you? Do you think the CIA is trying to overthrow your government?   \n",
       "12                                                                                                                                                                                                                                                                                                                                                                                                                                                                                                                                                                                                                                          May I ask what year was this?   \n",
       "13                                                                                                                                                                                                                                                                                                                                                                                                                                                                                                                                                                                                                                                               In 2014?   \n",
       "14                                                                                                                                                                                                                                                                                                                                                                                                                                                                                                                                                                                                                                              With the backing of whom?   \n",
       "15                                                                                                                                                                                                                                                                                                                                                                                                                                                                                                                  So, that was eight years before the current conflict started. What was the trigger for you? What was the moment where you decided you had to do this?   \n",
       "16                                                                                                                                                                                                                                                                                                                                                                                                                                                                                                    Was there anyone free to talk to? Did you call the US President, Secretary of State and say if you keep militarizing Ukraine with NATO forces, we are going to act?   \n",
       "17                                                                                                                                                                                                                                                                                                                                                                                                                                                                                                                                                                                              Do you think you have stopped it now? I mean have you achieved your aims?   \n",
       "\n",
       "                                                                                                                                                                                                                                                                                                                                                              1  \\\n",
       "0                                                                                                                                                                                                                                                                                                                 What is denazification? What would that mean?   \n",
       "1                                                                                                                                                                                                                                                                                                  Would you be satisfied with the territory that you have now?   \n",
       "2                                                                                     Really, my question is: What do you do about it? I mean, Hitler has been dead for eighty years, Nazi Germany no longer exists, and it’s true. So, I think, what you are saying, you want to extinguish or at least control Ukrainian nationalism. But how do you do that?   \n",
       "3   Right. My question is almost specific, it was, of course, not a defense of Nazism. Otherwise, it was a practical question. You don't control the entire country, you don’t seem like you want to. So, how do you eliminate that culture, or an ideology, or feelings, or a view of history, in a country that you don’t control? What do you do about that?   \n",
       "4                                                                                                                                                                                               Well, but you would not be speaking to the Ukrainian president, you would be speaking to the American president. When was the last time you spoke to Joe Biden?   \n",
       "5                                                                                                                                                                                                                                                                          But he is funding the war that you are fighting, so I think that would be memorable?   \n",
       "6                                                                                                                                                                                                                                                                                                                                              What did he say?   \n",
       "7                                                                                                                                                                                                                                                                                                  But you haven’t spoken to him since before February of 2022?   \n",
       "8                                                                                               I am definitely interested. But from the other side it seems like it could devolve, evolve into something that brings the entire world into conflict, and could initiate a nuclear launch, and so why don’t you just call Biden and say, “Let’s work this out”?   \n",
       "9                                                                                                                                                                                                                                                                           Do you think NATO was worried about this becoming a global war or nuclear conflict?   \n",
       "10                                                                                                                                                                                 The threat I think you were referring to is Russian invasion of Poland, Latvia – expansionist behaviour. Can you imagine a scenario where you send Russian troops to Poland?   \n",
       "11                                                                                                                                                                                     Well, the argument, I know you know this, is that, well, he invaded Ukraine – he has territorial aims across the continent. And you are saying unequivocally, you don’t?   \n",
       "12                                                                                                          One of our senior United States senators from the State of New York, Chuck Schumer, said yesterday, I believe, that we have to continue to fund the Ukrainian effort or US soldiers, citizens could wind up fighting there. How do you assess that?   \n",
       "13                                                                                                                                                                                                                                                                                                                                     Who blew up Nord Stream?   \n",
       "14                                                                                                                                                                                                                                                                                                            Do you have evidence that NATO or the CIA did it?   \n",
       "15             But I am confused. I mean, that’s the biggest act of industrial terrorism ever and it’s the largest emission of CO₂ in history. Okay, so, if you had evidence and presumably, given your security services, your intel services, you would, that NATO, the US, CIA, the West did this, why wouldn’t you present it and win a propaganda victory?   \n",
       "16                        Yes. But here is a question you may be able to answer. You worked in Germany, famously. The Germans clearly know that their NATO partner did this, that they damaged their economy greatly – it may never recover. Why are they being silent about it? That is very confusing to me. Why wouldn’t the Germans say something about it?   \n",
       "17                                                                                             Well, maybe the world is breaking into two hemispheres. One with cheap energy, the other without it. And I want to ask you that, if we are now a multipolar world, obviously we are, can you describe the blocs or alliances? Who is on each side, do you think?   \n",
       "\n",
       "                                                                                                                                                                                                                                                                                                                                                                                                                                                                                                                                                       2  \n",
       "0                                                                                                                                                                                                                                Well, let’s just give one example — the US dollar, which has, kind of, united the world in a lot of ways, maybe not to your advantage, but certainly to ours. Is that going away as the reserve currency, the universally accepted currency? How have sanctions, do you think, changed the dollar’s place in the world?  \n",
       "1                                                                                                                                                                                                       I think that is a fair assessment. The question is what comes next? And maybe you trade one colonial power for another, much less sentimental and forgiving colonial power? Is the BRICS, for example, in danger of being completely dominated by the Chinese economy? In a way that is not good for their sovereignty. Do you worry about that?  \n",
       "2                                                                                               So, you said a moment ago that the world would be a lot better if it were not broken into competing alliances, if there was cooperation globally. One of the reasons you don’t have that is because the current American administration is dead set against you. Do you think if there was a new administration after Joe Biden that you would be able to re-establish communication with the US government? Or does it not matter who the President is?  \n",
       "3                                                                                                                                         But you are describing two different systems. You say that the leader acts in the interests of the voters, but you also say that these decisions are not made by the leader – they are made by the ruling classes. You have run this country for so long, you have known all these American presidents. What are those power centres in the United States, do you think? And who actually makes the decisions?  \n",
       "4                                                                                                                                     I just have to ask. You have said clearly that NATO expansion eastward is a violation of the promise you were all made in the 1990s. It is a threat to your country. Right before you sent troops into Ukraine the Vice-President of the United States spoke at the Security Conference and encouraged the President of Ukraine to join NATO. Do you think that was an effort to provoke you into military action?  \n",
       "5                                                                                                                                                                                                                                                                                                                                                                                                                                                                    Do you think Zelensky has the freedom to negotiate the settlement to this conflict?  \n",
       "6                                                                                                                                                                                                                                                                                                                                     But do you think at this point – as of February 2024 – he has the latitude, the freedom to speak with you or government directly, which would clearly help his country or the world? Can he do that, do you think?  \n",
       "7                                                                                                                                                                                                                                                                                                                                                                                                                                                                                                           That is a good question. Why did he do that?  \n",
       "8                                                                                                                                                                                                                                                 You have described the connection between Russia and Ukraine; you have described Russia itself, a couple of times as Orthodox – that is central to your understanding of Russia. What does that mean for you? You are a Cristian leader by your own description. So what effect does that have on you?  \n",
       "9                                                                                                                                                                                                                                            Can I say, the one way in which religions are different is that Christianity is specifically a non-violent religion. Jesus says, “Turn the other cheek,” “don’t kill,” and so on. How can a leader who has to kill, of any country, how can a leader be a Christian? How do you reconcile that to yourself?  \n",
       "10                                                                                                                                                                                                                                                                                                                                                         So do you see the supernatural at work? As you look out across what’s happening in the world now, do you see God at work? Do you ever think to yourself: these are forces that are not human?  \n",
       "11                                                                                                                                                                                                                                                                                                                                                                                                                                                                                                        So when does the AI empire start do you think?  \n",
       "12                                                                                                                                                                                                                                                                                                                                                                                                                                                                                                                            What do you think of that?  \n",
       "13  I appreciate all the time you’ve given us. I just want to ask you one last question and it’s about someone who is very famous in the United States, probably not here. Evan Gershkovich who is the Wall Street Journal reporter, he is 32 and he’s been in prison for almost a year. This is a huge story in the United States and I just want to ask you directly without getting into details of your version of what happened, if as a sign of your decency you’ll be willing to release him to us and we’ll bring him back to the United States?  \n",
       "14                                                                                                                                                                        I wonder if that’s true with the war though also, I mean, I guess I want to ask one more question which is, and maybe you don’t want to say so for strategic reasons, but are you worried that what’s happening in Ukraine could lead to something much larger and much more horrible and how motivated are you just to call the US government and say, “let’s come to terms”?  \n",
       "15                                                                                                                                                                                                                                                                                                                                                                                                                    Do you think it is too humiliating at this point for NATO to accept Russian control of what was two years ago Ukrainian territory?  \n",
       "16                                                                                                                                                                                                                                                                                                                                                                                                                                           Would you be willing to say, “Congratulations, NATO, you won?” And just keep the situation where it is now?  \n",
       "17                                                                                                                                                                                                                                                                                                                                                                                                                                                                                                                                                  None  "
      ]
     },
     "execution_count": 55,
     "metadata": {},
     "output_type": "execute_result"
    }
   ],
   "source": [
    "multi_column(tcQuestions, 3)"
   ]
  },
  {
   "cell_type": "markdown",
   "metadata": {},
   "source": [
    "-------\n",
    "\n",
    "## Search engine"
   ]
  },
  {
   "cell_type": "markdown",
   "metadata": {},
   "source": [
    "In this section we make a (mini) search engines of the interview parts obtained above.\n",
    "\n",
    "Here are the steps:\n",
    "\n",
    "1. Make sure the interview parts are associated with unique identifiers that also identify the speakers\n",
    "2. Find the embedding vectors for each part.\n",
    "3. Create a recommendation function that:\n",
    "   - Filters the embeddings according to specified type \n",
    "   - Finds the vector embedding of given query\n",
    "   - Finds the dot products of query-vector with the part-vectors\n",
    "   - Pick the top results"
   ]
  },
  {
   "cell_type": "markdown",
   "metadata": {},
   "source": [
    "Here we make a hash-map of the interview parts obtained above:"
   ]
  },
  {
   "cell_type": "code",
   "execution_count": 9,
   "metadata": {},
   "outputs": [
    {
     "data": {
      "text/plain": [
       "149"
      ]
     },
     "execution_count": 9,
     "metadata": {},
     "output_type": "execute_result"
    }
   ],
   "source": [
    "k = 0\n",
    "parts = {f\"{k} {key}\": value for k, (key, value) in enumerate(parts)}\n",
    "len(parts)"
   ]
  },
  {
   "cell_type": "markdown",
   "metadata": {},
   "source": [
    "Here we find the LLM embedding vectors of the interview parts:"
   ]
  },
  {
   "cell_type": "code",
   "execution_count": 10,
   "metadata": {},
   "outputs": [
    {
     "data": {
      "text/plain": [
       "149"
      ]
     },
     "execution_count": 10,
     "metadata": {},
     "output_type": "execute_result"
    }
   ],
   "source": [
    "from openai import OpenAI\n",
    "client = OpenAI()\n",
    "\n",
    "embs = {key: client.embeddings.create(input=value, model = \"text-embedding-3-large\").data[0].embedding for key, value in parts.items()}\n",
    "len(embs)\n"
   ]
  },
  {
   "cell_type": "markdown",
   "metadata": {},
   "source": [
    "Here is a function to find the most relevant parts of the interview for a given query (using dot product):"
   ]
  },
  {
   "cell_type": "code",
   "execution_count": 11,
   "metadata": {},
   "outputs": [],
   "source": [
    "def top_parts(query, n=3, type='answers'):\n",
    "    vec = client.embeddings.create(input=query, model = \"text-embedding-3-large\").data[0].embedding\n",
    "\n",
    "    if type is None:\n",
    "        type = 'part'\n",
    "\n",
    "    if type in ['part', 'statement']:\n",
    "        embsLocal = embs\n",
    "    elif type in ['answer', 'answers', 'Putin']:\n",
    "        embsLocal = {key: value for key, value in embs.items() if 'Putin' in key}\n",
    "    elif type in ['question', 'questions', 'Carlson', 'Tucker']:\n",
    "        embsLocal = {key: value for key, value in embs.items() if 'Carlson' in key}\n",
    "    else:\n",
    "        raise ValueError(f\"Do not know how to process the {type} argument.\")\n",
    "\n",
    "    sres = {key: sum([v1*v2 for v1, v2 in zip(value, vec)]) for key, value in embsLocal.items()}\n",
    "\n",
    "    sres = sorted(sres.items(), key=lambda x: -x[1])\n",
    "    return [{'Score': score, 'Text': parts[key]} for key, score in sres[:n]]\n"
   ]
  },
  {
   "cell_type": "markdown",
   "metadata": {},
   "source": [
    "Here we find the top 3 results for a query (and highlight key words):"
   ]
  },
  {
   "cell_type": "code",
   "execution_count": 12,
   "metadata": {},
   "outputs": [
    {
     "data": {
      "text/markdown": [
       "<table border=\"1\" class=\"dataframe\">\n",
       "  <thead>\n",
       "    <tr style=\"text-align: right;\">\n",
       "      <th></th>\n",
       "      <th>Score</th>\n",
       "      <th>Text</th>\n",
       "    </tr>\n",
       "  </thead>\n",
       "  <tbody>\n",
       "    <tr>\n",
       "      <th>0</th>\n",
       "      <td>0.878258</td>\n",
       "      <td>Who blew up <span style=\"color: orange\"> Nord Stream </span>?\\n</td>\n",
       "    </tr>\n",
       "    <tr>\n",
       "      <th>1</th>\n",
       "      <td>0.500830</td>\n",
       "      <td>I was busy that day. I did not blow up <span style=\"color: orange\"> Nord Stream </span>.\\n</td>\n",
       "    </tr>\n",
       "    <tr>\n",
       "      <th>2</th>\n",
       "      <td>0.443272</td>\n",
       "      <td>This also confuses me. But today's German leadership is guided by the interests of the collective West rather than its national interests, otherwise it is difficult to explain the logic of their action or inaction. After all, it is not only about <span style=\"color: orange\"> Nord Stream </span>-1, which was blown up, and <span style=\"color: orange\"> Nord Stream </span>-2 was damaged, but one pipe is safe and sound, and gas can be supplied to Europe through it, but Germany does not open it. We are ready, please.\\nThere is another route through Poland, called Yamal-Europe, which also allows for a large flow. Poland has closed it, but Poland pecks from the German hand, it receives money from pan-European funds, and Germany is the main donor to these pan-European funds. Germany feeds Poland to a certain extent. And they closed the route to Germany. Why? I don't understand.\\nUkraine, to which the Germans supply weapons and give money. Germany is the second sponsor after the United States in terms of financial aid to Ukraine. There are two gas routes through Ukraine. They simply closed one route, the Ukrainians. Open the second route and get gas from Russia. They do not open it. Why don't the Germans say: “Look, guys, we give you money and weapons. Open up the valve, please, let the gas from Russia pass through for us.\\nWe are buying liquefied gas at exorbitant prices in Europe, which brings the level of our competitiveness, and economy in general down to zero. Do you want us to give you money? Let us have a decent existence, make money for our economy, because this is where the money we give you comes from.” They refuse to do so. Why? Ask them. (Knocks on the table.) That is what it is like in their heads. Those are highly incompetent people.\\n</td>\n",
       "    </tr>\n",
       "  </tbody>\n",
       "</table>"
      ],
      "text/plain": [
       "<IPython.core.display.Markdown object>"
      ]
     },
     "metadata": {},
     "output_type": "display_data"
    }
   ],
   "source": [
    "res1 = top_parts(\"Who blew up NordStream 1 and 2?\", 3, type = 'part')\n",
    "tbl1 = pd.DataFrame(res1).to_html()\n",
    "display(Markdown(re.sub(r\"(Nord St\\w+)\", r'<span style=\"color: orange\"> \\1 </span>', tbl1)))"
   ]
  },
  {
   "cell_type": "markdown",
   "metadata": {},
   "source": [
    "Here we find the top 2 results for another query:"
   ]
  },
  {
   "cell_type": "code",
   "execution_count": 13,
   "metadata": {},
   "outputs": [
    {
     "data": {
      "text/markdown": [
       "<table border=\"1\" class=\"dataframe\">\n",
       "  <thead>\n",
       "    <tr style=\"text-align: right;\">\n",
       "      <th></th>\n",
       "      <th>Score</th>\n",
       "      <th>Text</th>\n",
       "    </tr>\n",
       "  </thead>\n",
       "  <tbody>\n",
       "    <tr>\n",
       "      <th>0</th>\n",
       "      <td>0.510021</td>\n",
       "      <td>They have been. They reached a very high stage of coordination of positions in a complex process, but still they were almost finalized. But after we withdrew our troops from Kiev, as I have already said, the other side (Ukraine) threw away all these agreements and obeyed the instructions of Western countries, European countries, and the United States to fight Russia to the bitter end.\\nMoreover, the President of Ukraine has legislated a ban on <span style=\"color: orange\"> negotiating </span> with Russia. He signed a decree forbidding everyone to <span style=\"color: orange\"> negotiate </span> with Russia. But how are we going to <span style=\"color: orange\"> negotiate </span> if he forbade himself and everyone to do this? We know that he is putting forward some ideas about this settlement. But in order to agree on something, we need to have a dialogue. Is not that right?\\n</td>\n",
       "    </tr>\n",
       "    <tr>\n",
       "      <th>1</th>\n",
       "      <td>0.447505</td>\n",
       "      <td>Initially, it was the coup in Ukraine that provoked the conflict.\\nBy the way, back then the representatives of three European countries – Germany, Poland and France – arrived. They were the guarantors of the signed agreement between the Government of Yanukovych and the opposition. They signed it as guarantors. Despite that, the opposition staged a coup and all these countries pretended that they didn’t remember that they were guarantors of a peaceful settlement. They just threw it in the stove right away and nobody recalls that.\\nI don’t know if the US know anything about that agreement between the opposition and the authorities and its three guarantors who, instead of bringing this whole situation back in the political field, supported the coup. Although, it was meaningless, believe me. Because President Yanukovych agreed to all conditions, he was ready to hold early election which he had no chance to win, frankly speaking. Everyone knew that.\\nBut then why the coup, why the victims? Why threaten Crimea? Why launch an operation in Donbass? This I do not understand. That is exactly what the miscalculation is. The CIA did its job to complete the coup. I think one of the Deputy Secretaries of State said that it cost a large sum of money, almost 5 billion dollars. But the political mistake was colossal! Why would they have to do that? All this could have been done legally, without victims, without military action, without losing Crimea. We would have never considered to even lift a finger if it hadn’t been for the bloody developments on Maidan.\\nBecause we agreed with the fact that after the collapse of the Soviet Union our borders should be along the borders of former Union’s republics. We agreed to that. But we never agreed to NATO’s expansion and moreover we never agreed that Ukraine would be in NATO. We did not agree to NATO bases there without any discussion with us. For decades we kept urging them: don’t do this, don’t do that.\\nAnd what triggered the latest events? Firstly, the current Ukrainian leadership declared that it would not implement the Minsk agreements, which had been signed, as you know, after the events of 2014, in Minsk, where the plan of a peaceful settlement in Donbass was set forth. But no, the current Ukrainian leadership, foreign minister, all other officials and then President himself said that they don’t like anything about the Minsk agreements. In other words, they were not going to implement them. A year or a year and a half ago, former leaders of Germany and France said openly to the whole world that they indeed signed the Minsk agreements but they never intended to implement them. They simply led us by the nose.\\n</td>\n",
       "    </tr>\n",
       "  </tbody>\n",
       "</table>"
      ],
      "text/plain": [
       "<IPython.core.display.Markdown object>"
      ]
     },
     "metadata": {},
     "output_type": "display_data"
    }
   ],
   "source": [
    "res2 = top_parts('Where the Russia-Ukraine negotiations were held?', 2, type = 'answer') \n",
    "tbl2 = pd.DataFrame(res2).to_html()\n",
    "display(Markdown(re.sub(r\"(nego\\w+)\", r'<span style=\"color: orange\"> \\1 </span>', tbl2)))"
   ]
  },
  {
   "cell_type": "markdown",
   "metadata": {},
   "source": [
    "------\n",
    "\n",
    "## Flavored variations"
   ]
  },
  {
   "cell_type": "markdown",
   "metadata": {},
   "source": [
    "In this section we show how the spoken parts can be rephrased in the style of certain political celebrities."
   ]
  },
  {
   "cell_type": "markdown",
   "metadata": {},
   "source": [
    "Here are examples of using LLM to rephrase Tucker Carlson's questions into the style of Hillary Clinton:"
   ]
  },
  {
   "cell_type": "code",
   "execution_count": 14,
   "metadata": {},
   "outputs": [
    {
     "name": "stdout",
     "output_type": "stream",
     "text": [
      "====================================================================================================\n",
      "Tucker Carlson: Right. My question is almost specific, it was, of course, not a defense of Nazism. Otherwise, it was a practical question. You don't control the entire country, you don’t seem like you want to. So, how do you eliminate that culture, or an ideology, or feelings, or a view of history, in a country that you don’t control? What do you do about that?\n",
      "----------------------------------------------------------------------------------------------------\n",
      "Hillary Clinton: Well, let me clarify my question. It was not in any way a defense of Nazism, that goes without saying. It was simply a practical inquiry. Considering the fact that you do not have complete control over the entire country, and it appears that you have no desire to do so, how do you go about eradicating a culture, an ideology, emotions, or a particular interpretation of history in a country that is beyond your control? What steps would you take to address this challenge?\n",
      "====================================================================================================\n",
      "Tucker Carlson: In 1654?\n",
      "----------------------------------------------------------------------------------------------------\n",
      "Hillary Clinton: What were the events that transpired in the year 1654?\n"
     ]
    }
   ],
   "source": [
    "for _ in range(2):\n",
    "    q = random.choice(tcQuestions)\n",
    "    print('=' * 100)\n",
    "    print(\"Tucker Carlson:\", q)\n",
    "    print('-' * 100)\n",
    "    q2 = llm_synthesize([\"Rephrase this question in the style of Hillary Clinton:\", q])\n",
    "    print(\"Hillary Clinton:\", q2)\n"
   ]
  },
  {
   "cell_type": "markdown",
   "metadata": {},
   "source": [
    "Here are examples of using LLM to rephrase Vladimir Putin's answers into the style of Donald Trump:"
   ]
  },
  {
   "cell_type": "code",
   "execution_count": 15,
   "metadata": {},
   "outputs": [
    {
     "name": "stdout",
     "output_type": "stream",
     "text": [
      "====================================================================================================\n",
      "Vladimir Putin:  We have heard those bogeyman stories before. It is a bogeyman story. We are neighbours with China. You cannot choose neighbours, just as you cannot choose close relatives. We share a border of several thousand kilometres with them. This is number one.\n",
      "Second, we have a centuries-long history of coexistence, we are used to it.\n",
      "Third, China's foreign policy philosophy is not aggressive, its idea is to always look for compromise, and we can see that.\n",
      "The next point is as follows. We are always told the same bogeyman story, and here it goes again, though in a euphemistic form, but it is still the same bogeyman story: the cooperation with China keeps increasing. The pace at which China's cooperation with Europe is growing is higher and greater than that of the growth of Chinese-Russian cooperation. Ask Europeans: aren’t they afraid? They might be, I do not know, but they are still trying to access China's market at all costs, especially now that they are facing economic problems. Chinese businesses are also exploring the European market.\n",
      "Do Chinese businesses have small presence in the United States? Yes, the political decisions are such that they are trying to limit their cooperation with China.\n",
      "It is to your own detriment, Mr Tucker, that you are limiting cooperation with China, you are hurting yourself. It is a delicate matter, and there are no silver bullet solutions, just as it is with the dollar.\n",
      "So, before introducing any illegitimate sanctions — illegitimate in terms of the Charter of the United Nations — one should think very carefully. I think, those who make decisions have a problem with that.\n",
      "\n",
      "----------------------------------------------------------------------------------------------------\n",
      "Donald Trump: We've heard these scary stories before, folks. They're just bogeyman tales, believe me. China is our neighbor, and you can't choose your neighbors, just like you can't choose your relatives. We share a border with them that stretches for thousands of kilometers, and that's a fact, number one.\n",
      "\n",
      "Now, let me tell you something else. We've been coexisting with China for centuries, and we're used to it. It's part of our history, folks.\n",
      "\n",
      "And let me tell you about China's foreign policy philosophy. It's not aggressive, not at all. Their idea is always to find a compromise, and you can see that. They're not looking for trouble, believe me.\n",
      "\n",
      "But here's the thing, folks. We keep hearing the same old bogeyman story over and over again. It's like a broken record, but in a fancy way. They say China's cooperation with Europe is growing faster than their cooperation with us. Can you believe it? Europeans might be scared, I don't know, but they're still trying to get into China's market no matter what, especially now that they're having economic problems. And guess what? Chinese businesses are also exploring the European market. Can you believe that?\n",
      "\n",
      "But what about us? Do Chinese businesses have a small presence in the United States? Yes, they do. But our politicians are making decisions to limit our cooperation with China. And let me tell you, folks, that's not a smart move. It's hurting us, believe me. It's a delicate matter, just like dealing with the dollar. There are no easy solutions, folks.\n",
      "\n",
      "So, before we go and impose any illegitimate sanctions, and believe me, they're illegitimate according to the United Nations Charter, we need to think really, really hard. I think those decision-makers have a problem with that, folks.\n",
      "====================================================================================================\n",
      "Vladimir Putin:  It was in the 13th century.\n",
      "Now I will tell what happened next and give the dates so that there is no confusion.\n",
      "Then in 1654, even a bit earlier, the people who were in control of the authority over that part of the Russian lands, addressed Warsaw, I repeat, demanding their rights be observed that they send to them rulers of Russian origin and Orthodox faith. When Warsaw did not answer them and in fact rejected their demands, they turned to Moscow so that Moscow took them under its rule.\n",
      "So that you don't think that I am inventing things… I'll give you these documents…\n",
      "\n",
      "----------------------------------------------------------------------------------------------------\n",
      "Donald Trump: In the 13th century, folks, big things were happening. Huge things. Now, let me tell you what happened next, and believe me, I have all the dates so there's no confusion. So, in 1654, maybe even a little earlier, the people in control of that part of Russia, they reached out to Warsaw, folks. They demanded their rights, they wanted rulers from Russian origin and of the Orthodox faith. But you know what? Warsaw didn't answer, they rejected those demands. Can you believe it? So, they turned to Moscow, folks. They wanted Moscow to take them under its rule. And just so you know, I'm not making this up, I have the documents right here. Believe me, it's all true.\n"
     ]
    }
   ],
   "source": [
    "for _ in range(2):\n",
    "    q = random.choice([value for key, value in parts.items() if 'Putin' in key])\n",
    "    print('=' * 100)\n",
    "    print(\"Vladimir Putin:\", q)\n",
    "    print('-' * 100)\n",
    "    q2 = llm_synthesize([\"Rephrase this question in the style of Donald Trump:\", q])\n",
    "    print(\"Donald Trump:\", q2)"
   ]
  },
  {
   "cell_type": "markdown",
   "metadata": {},
   "source": [
    "-------\n",
    "\n",
    "## References"
   ]
  },
  {
   "cell_type": "markdown",
   "metadata": {},
   "source": [
    "### Articles\n",
    "\n",
    "[AA1] Anton Antonov\n",
    "[\"Workflows with LLM functions (in Python)](https://community.wolfram.com/groups/-/m/t/3027072),\n",
    "(2023),\n",
    "[Wolfram Community](https://community.wolfram.com/).\n",
    "\n",
    "[AA2] Anton Antonov,\n",
    "[\"Workflows with LLM functions\"](https://rakuforprediction.wordpress.com/2023/08/01/workflows-with-llm-functions/),\n",
    "(2023),\n",
    "[RakuForPrediction at WordPress](https://rakuforprediction.wordpress.com).\n",
    "\n",
    "[AA3] Anton Antonov,\n",
    "[\"Day 21 – Using DALL-E models in Raku\"](https://raku-advent.blog/2023/12/21/day-22-using-dall-e-models-in-raku/),\n",
    "(2023),\n",
    "[Raku Advent Calendar blog for 2023](https://raku-advent.blog/2023).\n",
    "\n",
    "[AA4] Anton Antonov,\n",
    "[\"Notebook transformations\"](https://rakuforprediction.wordpress.com/2024/02/17/notebook-transformations/),\n",
    "(2023),\n",
    "[RakuForPrediction at WordPress](https://rakuforprediction.wordpress.com).\n",
    "\n",
    "[OAIb1] OpenAI team,\n",
    "[\"New models and developer products announced at DevDay\"](https://openai.com/blog/new-models-and-developer-products-announced-at-devday),\n",
    "(2023),\n",
    "[OpenAI/blog](https://openai.com/blog)."
   ]
  },
  {
   "cell_type": "markdown",
   "metadata": {},
   "source": [
    "### Packages\n",
    "\n",
    "[AAp1] Anton Antonov,\n",
    "[LLMFunctionObjects](https://pypi.org/project/LLMFunctionObjects/) Python package,\n",
    "(2023-2024),\n",
    "[PyPI.org/antononcube](https://pypi.org/user/antononcube).\n",
    "\n",
    "\n",
    "[AAp2] Anton Antonov,\n",
    "[LLMPrompts](https://pypi.org/project/LLMPrompts/) Python package,\n",
    "(2023),\n",
    "[PyPI.org/antononcube](https://pypi.org/user/antononcube).\n"
   ]
  },
  {
   "cell_type": "markdown",
   "metadata": {},
   "source": [
    "### Videos\n",
    "\n",
    "[AAv1] Anton Antonov,\n",
    "[\"Jupyter Chatbook LLM cells demo (Python)\"](https://www.youtube.com/watch?v=WN3N-K_Xzz8)\n",
    "(2023),\n",
    "[YouTube/@AAA4Prediction](https://www.youtube.com/@AAA4prediction).\n",
    "\n",
    "[AAv2] Anton Antonov,\n",
    "[\"Jupyter Chatbook multi cell LLM chats teaser (Python)\"](https://www.youtube.com/watch?v=8pv0QRGc7Rw),\n",
    "(2023),\n",
    "[YouTube/@AAA4Prediction](https://www.youtube.com/@AAA4prediction).\n",
    "\n",
    "[AAv3] Anton Antonov\n",
    "[\"Integrating Large Language Models with Raku\"](https://www.youtube.com/watch?v=-OxKqRrQvh0),\n",
    "(2023),\n",
    "[YouTube/@therakuconference6823](https://www.youtube.com/@therakuconference6823)."
   ]
  }
 ],
 "metadata": {
  "kernelspec": {
   "display_name": "Python 3 (ipykernel)",
   "language": "python",
   "name": "python3"
  },
  "language_info": {
   "codemirror_mode": {
    "name": "ipython",
    "version": 3
   },
   "file_extension": ".py",
   "mimetype": "text/x-python",
   "name": "python",
   "nbconvert_exporter": "python",
   "pygments_lexer": "ipython3",
   "version": "3.12.2"
  }
 },
 "nbformat": 4,
 "nbformat_minor": 4
}
