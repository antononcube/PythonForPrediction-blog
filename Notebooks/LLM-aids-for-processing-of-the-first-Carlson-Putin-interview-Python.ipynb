{
 "cells": [
  {
   "cell_type": "markdown",
   "metadata": {},
   "source": [
    "# LLM aids for processing of the first Carlson-Putin interview \n",
    "\n",
    "Anton Antonov   \n",
    "[RakuForPrediction at WordPress](https://rakuforprediction.wordpress.com)   \n",
    "[RakuForPrediction-book at GitHub](https://github.com/antononcube/RakuForPrediction-book)   \n",
    "February 2024"
   ]
  },
  {
   "cell_type": "markdown",
   "metadata": {},
   "source": [
    "-------\n",
    "\n",
    "## Introduction"
   ]
  },
  {
   "cell_type": "markdown",
   "metadata": {},
   "source": [
    "In this notebook we provide aids and computational workflows for the analysis of the first Carlson-Putin interview held in February 9th, 2024.\n",
    "We mostly use Large Language Models (LLMs). We walk through various steps involved in examining and understanding the interview in a systematic and reproducible manner.\n",
    "\n",
    "The interview transcripts are taken from [en.kremlin.ru](http://en.kremlin.ru).\n",
    "\n",
    "The computations are done with a [Raku chatbook](https://raku.land/zef:antononcube/Jupyter::Chatbook), [AAp6, AAv1÷AAv3]. The LLM functions used in the workflows are explained and demonstrated in [AA1, AAv3].\n",
    "The workflows are done with OpenAI's models [AAp1]; the models of Google (PaLM), [AAp2], and MistralAI, [AAp3], can be also used for the Part 1 summary and the search engine.\n",
    "The related images were generates with workflows described in [AA2]."
   ]
  },
  {
   "cell_type": "markdown",
   "metadata": {},
   "source": [
    "### Structure"
   ]
  },
  {
   "cell_type": "markdown",
   "metadata": {},
   "source": [
    "The structure of the notebook is as follows:\n",
    "\n",
    "1. **Getting the interview text**   \n",
    "    Standard ingestion.\n",
    "2. **Preliminary LLM queries**   \n",
    "    What are the most important parts or most provocative questions?\n",
    "3. **Part 1: separation and summary**   \n",
    "    Overview of the historical review.\n",
    "4. **Part 2: thematic parts**   \n",
    "    TLDR via a table of themes.\n",
    "5. **Interview's spoken parts**    \n",
    "    Non-LLM extraction of participants' parts.\n",
    "6. **Search engine**   \n",
    "    Fast results with LLM embeddings.\n",
    "7. **Flavored variations**   \n",
    "    How would Hillary phrase it? And how would Trump answer it?"
   ]
  },
  {
   "cell_type": "markdown",
   "metadata": {},
   "source": [
    "Sections 5 and 6 can be skipped -- they are (somewhat) more technical."
   ]
  },
  {
   "cell_type": "markdown",
   "metadata": {},
   "source": [
    "### Observations\n",
    "\n",
    "- Using the LLM functions for programmatic access of LLMs speeds up the efforts, I would say, by factor 3-5 times.\n",
    "- The workflows presented below are fairly universal -- with small changes the notebook can be applied to other interviews.\n",
    "- Using OpenAI's preview model \"gpt-4-turbo-preview\" spares or simplifies a fair amount of workflow elements.\n",
    "    - The model \"gpt-4-turbo-preview\" takes input with 128K tokens, [OAIb1]. \n",
    "    - Hence the whole interview can be processed in one LLM request.\n",
    "- Since I watched the interview, I can see that the LLM results for most provocative questions or most important statements are good.\n",
    "    - It is interesting to think about believing those results by people who have not watched the interview.\n",
    "- The search engine can be replaced or enhanced with a Question Answering System (QAS).\n",
    "- The flavored variations might be too subtle.\n",
    "    - I expected more obvious manifestation of characters involved."
   ]
  },
  {
   "cell_type": "markdown",
   "metadata": {},
   "source": [
    "-------\n",
    "\n",
    "## Getting the interview text"
   ]
  },
  {
   "cell_type": "markdown",
   "metadata": {},
   "source": [
    "The interviews are taken from the dedicated Kremlin's page [\"Interview to Tucker Carlson\"](http://en.kremlin.ru/events/president/news/73411), hosted at [en.kremlin.ru](http://en.kremlin.ru)."
   ]
  },
  {
   "cell_type": "markdown",
   "metadata": {},
   "source": [
    "Here we load a packages and define a text statistics function and a display function:"
   ]
  },
  {
   "cell_type": "code",
   "execution_count": 1,
   "metadata": {},
   "outputs": [],
   "source": [
    "from LLMFunctionObjects import *\n",
    "from LLMPrompts import *\n",
    "from DataTypeSystem import *\n",
    "import math\n",
    "import json\n",
    "import pandas as pd\n",
    "import random\n",
    "from IPython.display import display, Markdown, Latex\n"
   ]
  },
  {
   "cell_type": "code",
   "execution_count": 2,
   "metadata": {},
   "outputs": [],
   "source": [
    "def text_stats(txt: str) -> dict:\n",
    "    return {\"chars\": len(txt), \"words\": len(txt.split()), \"lines\": len(txt.splitlines())}\n",
    "\n",
    "def multi_column(data, cols=2):\n",
    "    rows = math.ceil(len(data) / cols)\n",
    "    return pd.DataFrame([data[i:i + rows] for i in range(0, len(data), rows)]).transpose()\n",
    "\n",
    "def from_json(data):\n",
    "    res = data.replace(\"```json\",\"\").replace(\"```\",\"\").strip()\n",
    "    return json.loads(res)"
   ]
  },
  {
   "cell_type": "markdown",
   "metadata": {},
   "source": [
    "Here we set display options for data frames:"
   ]
  },
  {
   "cell_type": "code",
   "execution_count": 3,
   "metadata": {},
   "outputs": [],
   "source": [
    "pd.set_option('display.max_colwidth', None)"
   ]
  },
  {
   "cell_type": "markdown",
   "metadata": {},
   "source": [
    "Here we ingest interview's text:"
   ]
  },
  {
   "cell_type": "code",
   "execution_count": 4,
   "metadata": {},
   "outputs": [
    {
     "name": "stdout",
     "output_type": "stream",
     "text": [
      "{'chars': 97354, 'words': 16980, 'lines': 292}\n"
     ]
    }
   ],
   "source": [
    "import requests\n",
    "import re\n",
    "\n",
    "def text_stats(txt: str) -> dict:\n",
    "    return {\"chars\": len(txt), \"words\": len(txt.split()), \"lines\": len(txt.splitlines())}\n",
    "\n",
    "url = 'https://raw.githubusercontent.com/antononcube/SimplifiedMachineLearningWorkflows-book/master/Data/Carlson-Putin-interview-2024-02-09-English.txt'\n",
    "response = requests.get(url)\n",
    "txtEN = response.text\n",
    "txtEN = re.sub(r'\\n+', \"\\n\", txtEN)\n",
    "\n",
    "print(text_stats(txtEN))"
   ]
  },
  {
   "cell_type": "markdown",
   "metadata": {},
   "source": [
    "------\n",
    "\n",
    "## Preliminary LLM queries"
   ]
  },
  {
   "cell_type": "markdown",
   "metadata": {},
   "source": [
    "Here we configure LLM access -- we use OpenAI's model \"gpt-4-turbo-preview\" since it allows inputs with 128K tokens:"
   ]
  },
  {
   "cell_type": "code",
   "execution_count": 5,
   "metadata": {},
   "outputs": [
    {
     "data": {
      "text/plain": [
       "23"
      ]
     },
     "execution_count": 5,
     "metadata": {},
     "output_type": "execute_result"
    }
   ],
   "source": [
    "conf = llm_configuration('ChatGPT', model = 'gpt-4-turbo-preview', max_tokens = 4096, temperature = 0.3)\n",
    "len(conf.to_dict())\n",
    "\n",
    "conf4 = llm_configuration('ChatGPT', model = 'gpt-4-1106-preview', max_tokens = 4096, temperature = 0.3)\n",
    "len(conf4.to_dict())"
   ]
  },
  {
   "cell_type": "markdown",
   "metadata": {},
   "source": [
    "### Questions"
   ]
  },
  {
   "cell_type": "markdown",
   "metadata": {},
   "source": [
    "First we make an LLM request about the number of questions asked:"
   ]
  },
  {
   "cell_type": "code",
   "execution_count": 6,
   "metadata": {},
   "outputs": [
    {
     "data": {
      "text/plain": [
       "'In the interview between Tucker Carlson and President Vladimir Putin, Tucker Carlson asked a total of 52 questions.'"
      ]
     },
     "execution_count": 6,
     "metadata": {},
     "output_type": "execute_result"
    }
   ],
   "source": [
    "llm_synthesize([\"How many questions were asked in the following interview?\\n\\n\", txtEN], e = conf)"
   ]
  },
  {
   "cell_type": "markdown",
   "metadata": {},
   "source": [
    "Here we ask the questions to be extracted into a JSON list:"
   ]
  },
  {
   "cell_type": "code",
   "execution_count": 7,
   "metadata": {},
   "outputs": [
    {
     "data": {
      "text/plain": [
       "Atom(<class 'str'>)"
      ]
     },
     "execution_count": 7,
     "metadata": {},
     "output_type": "execute_result"
    }
   ],
   "source": [
    "llmQuestions = llm_synthesize([\n",
    "    \"Extract all questions from the following interview into a JSON list.\\n\\n\", \n",
    "    txtEN,\n",
    "    llm_prompt('NothingElse')('JSON')\n",
    "    ], e = conf, form = sub_parser('JSON', drop=True))\n",
    "\n",
    "deduce_type(llmQuestions)"
   ]
  },
  {
   "cell_type": "code",
   "execution_count": 9,
   "metadata": {},
   "outputs": [
    {
     "name": "stdout",
     "output_type": "stream",
     "text": [
      "[{'question': 'Tell us why you believe the United States might strike Russia out of the blue. How did you conclude that?'}, {'question': 'You were initially trained in history, as far as I know?'}, {'question': 'I beg your pardon, can you tell us what period… I am losing track of where in history we are.'}, {'question': 'May I ask… You are making the case that Ukraine, certain parts of Ukraine, Eastern Ukraine, in fact, has been Russia for hundreds of years. Why wouldn’t you just take it when you became President 24 years ago? You have nuclear weapons, they don’t. It’s actually your land. Why did you wait so long?'}, {'question': 'You have, I see, encyclopaedic knowledge of that region. But why didn’t you make this case for the first 22 years as president, that Ukraine wasn’t a real country?'}, {'question': 'Do you believe Hungary has a right to take back its land from Ukraine? And that other nations have a right to go back to their 1654 borders?'}, {'question': 'Have you told Viktor Orban that he can have a part of Ukraine?'}, {'question': 'In 1654?'}, {'question': 'Were you sincere? Would you have joined NATO?'}, {'question': 'Why do you think that is? Just to get to motive. I know, you’re clearly bitter about it. I understand. But why do you think the West rebuffed you then? Why the hostility? Why did the end of the Cold War not fix the relationship? What motivates this from your point of view?'}, {'question': 'May I ask what year was this?'}, {'question': \"So, twice you've described US presidents making decisions and then being undercut by their agency heads. So, it sounds like you're describing a system that is not run by the people who are elected, in your telling.\"}, {'question': 'What is denazification? What would that mean?'}, {'question': 'Would you be satisfied with the territory that you have now?'}, {'question': 'Will there be talks? And why haven’t there been talks about resolving the conflict in Ukraine? Peace talks.'}, {'question': 'When was the last time you spoke to Joe Biden?'}, {'question': 'You do not remember?!'}, {'question': 'But he is funding the war that you are fighting, so I think that would be memorable?'}, {'question': 'Do you think NATO was worried about this becoming a global war or nuclear conflict?'}, {'question': 'Who blew up Nord Stream?'}, {'question': 'Do you have evidence that NATO or the CIA did it?'}, {'question': 'What do you think of that?'}, {'question': 'Evan Gershkovich, that’s a completely different, I mean, this is a thirty-two year old newspaper reporter.'}, {'question': 'He is just a journalist.'}, {'question': 'But are you suggesting he was working for the US government or NATO? Or he was just a reporter who was given material he wasn’t supposed to have? Those seem like very different, very different things.'}, {'question': 'Do you think it is too humiliating at this point for NATO to accept Russian control of what was two years ago Ukrainian territory?'}, {'question': 'Would you be willing to say, “Congratulations, NATO, you won?” And just keep the situation where it is now?'}, {'question': 'Do you think it is too humiliating at this point for NATO to accept Russian control of what was two years ago Ukrainian territory?'}, {'question': 'Are you worried that what’s happening in Ukraine could lead to something much larger and much more horrible and how motivated are you just to call the US government and say, “let’s come to terms”?'}]\n"
     ]
    }
   ],
   "source": [
    "sp = sub_parser('JSON', drop=True)\n",
    "print(sp.process(llmQuestions))"
   ]
  },
  {
   "cell_type": "code",
   "execution_count": 8,
   "metadata": {},
   "outputs": [
    {
     "data": {
      "text/html": [
       "<div>\n",
       "<style scoped>\n",
       "    .dataframe tbody tr th:only-of-type {\n",
       "        vertical-align: middle;\n",
       "    }\n",
       "\n",
       "    .dataframe tbody tr th {\n",
       "        vertical-align: top;\n",
       "    }\n",
       "\n",
       "    .dataframe thead th {\n",
       "        text-align: right;\n",
       "    }\n",
       "</style>\n",
       "<table border=\"1\" class=\"dataframe\">\n",
       "  <thead>\n",
       "    <tr style=\"text-align: right;\">\n",
       "      <th></th>\n",
       "      <th>0</th>\n",
       "      <th>1</th>\n",
       "      <th>2</th>\n",
       "    </tr>\n",
       "  </thead>\n",
       "  <tbody>\n",
       "    <tr>\n",
       "      <th>0</th>\n",
       "      <td>Tell us why you believe the United States might strike Russia out of the blue. How did you conclude that?</td>\n",
       "      <td>Have you told Viktor Orban that he can have a part of Ukraine?</td>\n",
       "      <td>Do you have evidence that NATO or the CIA did it?</td>\n",
       "    </tr>\n",
       "    <tr>\n",
       "      <th>1</th>\n",
       "      <td>You were initially trained in history, as far as I know?</td>\n",
       "      <td>May I ask what year was this?</td>\n",
       "      <td>What do you think of that?</td>\n",
       "    </tr>\n",
       "    <tr>\n",
       "      <th>2</th>\n",
       "      <td>I beg your pardon, can you tell us what period… I am losing track of where in history we are.</td>\n",
       "      <td>So, twice you've described US presidents making decisions and then being undercut by their agency heads. So, it sounds like you're describing a system that is not run by the people who are elected, in your telling.</td>\n",
       "      <td>Evan Gershkovich who is the Wall Street Journal reporter, he is 32 and he’s been in prison for almost a year. This is a huge story in the United States and I just want to ask you directly without getting into details of your version of what happened, if as a sign of your decency you’ll be willing to release him to us and we’ll bring him back to the United States?</td>\n",
       "    </tr>\n",
       "    <tr>\n",
       "      <th>3</th>\n",
       "      <td>It doesn’t sound like you are inventing it, but I am not sure why it’s relevant to what’s happened two years ago.</td>\n",
       "      <td>Well, of course, it did come true, and you’ve mentioned it many times. I think, it’s a fair point. And many in America thought that relations between Russia and the United States would be fine after the collapse of the Soviet Union, at the core. But the opposite happened. But have never explained why you think that happened, except to say that the West fears a strong Russia. But we have a strong China that the West doesn’t seem to be very afraid of. What about Russia, what do you think convinced the policymakers to take it down?</td>\n",
       "      <td>Are you suggesting he was working for the US government or NATO? Or he was just a reporter who was given material he wasn’t supposed to have? Those seem like very different, very different things.</td>\n",
       "    </tr>\n",
       "    <tr>\n",
       "      <th>4</th>\n",
       "      <td>May I ask… You are making the case that Ukraine, certain parts of Ukraine, Eastern Ukraine, in fact, has been Russia for hundreds of years. Why wouldn’t you just take it when you became President 24 years ago? You have nuclear weapons, they don’t. It’s actually your land. Why did you wait so long?</td>\n",
       "      <td>When was the last time you spoke to Joe Biden?</td>\n",
       "      <td>Do you think it is too humiliating at this point for NATO to accept Russian control of what was two years ago Ukrainian territory?</td>\n",
       "    </tr>\n",
       "    <tr>\n",
       "      <th>5</th>\n",
       "      <td>Were you sincere? Would you have joined NATO?</td>\n",
       "      <td>You do not remember?!</td>\n",
       "      <td>Would you be willing to say, “Congratulations, NATO, you won?” And just keep the situation where it is now?</td>\n",
       "    </tr>\n",
       "    <tr>\n",
       "      <th>6</th>\n",
       "      <td>But if he had said yes, would you have joined NATO?</td>\n",
       "      <td>But he is funding the war that you are fighting, so I think that would be memorable?</td>\n",
       "      <td>Do you think it is too humiliating at this point for NATO to accept Russian control of what was two years ago Ukrainian territory?</td>\n",
       "    </tr>\n",
       "    <tr>\n",
       "      <th>7</th>\n",
       "      <td>Why do you think that is? Just to get to motive. I know, you’re clearly bitter about it. I understand. But why do you think the West rebuffed you then? Why the hostility? Why did the end of the Cold War not fix the relationship? What motivates this from your point of view?</td>\n",
       "      <td>Do you think NATO was worried about this becoming a global war or nuclear conflict?</td>\n",
       "      <td>Would you be willing to say, “Congratulations, NATO, you won?” And just keep the situation where it is now?</td>\n",
       "    </tr>\n",
       "    <tr>\n",
       "      <th>8</th>\n",
       "      <td>Do you believe Hungary has a right to take back its land from Ukraine? And that other nations have a right to go back to their 1654 borders?</td>\n",
       "      <td>Who blew up Nord Stream?</td>\n",
       "      <td>None</td>\n",
       "    </tr>\n",
       "  </tbody>\n",
       "</table>\n",
       "</div>"
      ],
      "text/plain": [
       "                                                                                                                                                                                                                                                                                                            0  \\\n",
       "0                                                                                                                                                                                                   Tell us why you believe the United States might strike Russia out of the blue. How did you conclude that?   \n",
       "1                                                                                                                                                                                                                                                    You were initially trained in history, as far as I know?   \n",
       "2                                                                                                                                                                                                               I beg your pardon, can you tell us what period… I am losing track of where in history we are.   \n",
       "3                                                                                                                                                                                           It doesn’t sound like you are inventing it, but I am not sure why it’s relevant to what’s happened two years ago.   \n",
       "4  May I ask… You are making the case that Ukraine, certain parts of Ukraine, Eastern Ukraine, in fact, has been Russia for hundreds of years. Why wouldn’t you just take it when you became President 24 years ago? You have nuclear weapons, they don’t. It’s actually your land. Why did you wait so long?   \n",
       "5                                                                                                                                                                                                                                                               Were you sincere? Would you have joined NATO?   \n",
       "6                                                                                                                                                                                                                                                         But if he had said yes, would you have joined NATO?   \n",
       "7                           Why do you think that is? Just to get to motive. I know, you’re clearly bitter about it. I understand. But why do you think the West rebuffed you then? Why the hostility? Why did the end of the Cold War not fix the relationship? What motivates this from your point of view?   \n",
       "8                                                                                                                                                                Do you believe Hungary has a right to take back its land from Ukraine? And that other nations have a right to go back to their 1654 borders?   \n",
       "\n",
       "                                                                                                                                                                                                                                                                                                                                                                                                                                                                                                                                                        1  \\\n",
       "0                                                                                                                                                                                                                                                                                                                                                                                                                                                                                          Have you told Viktor Orban that he can have a part of Ukraine?   \n",
       "1                                                                                                                                                                                                                                                                                                                                                                                                                                                                                                                           May I ask what year was this?   \n",
       "2                                                                                                                                                                                                                                                                                                                                  So, twice you've described US presidents making decisions and then being undercut by their agency heads. So, it sounds like you're describing a system that is not run by the people who are elected, in your telling.   \n",
       "3  Well, of course, it did come true, and you’ve mentioned it many times. I think, it’s a fair point. And many in America thought that relations between Russia and the United States would be fine after the collapse of the Soviet Union, at the core. But the opposite happened. But have never explained why you think that happened, except to say that the West fears a strong Russia. But we have a strong China that the West doesn’t seem to be very afraid of. What about Russia, what do you think convinced the policymakers to take it down?   \n",
       "4                                                                                                                                                                                                                                                                                                                                                                                                                                                                                                          When was the last time you spoke to Joe Biden?   \n",
       "5                                                                                                                                                                                                                                                                                                                                                                                                                                                                                                                                   You do not remember?!   \n",
       "6                                                                                                                                                                                                                                                                                                                                                                                                                                                                    But he is funding the war that you are fighting, so I think that would be memorable?   \n",
       "7                                                                                                                                                                                                                                                                                                                                                                                                                                                                     Do you think NATO was worried about this becoming a global war or nuclear conflict?   \n",
       "8                                                                                                                                                                                                                                                                                                                                                                                                                                                                                                                                Who blew up Nord Stream?   \n",
       "\n",
       "                                                                                                                                                                                                                                                                                                                                                                               2  \n",
       "0                                                                                                                                                                                                                                                                                                                              Do you have evidence that NATO or the CIA did it?  \n",
       "1                                                                                                                                                                                                                                                                                                                                                     What do you think of that?  \n",
       "2  Evan Gershkovich who is the Wall Street Journal reporter, he is 32 and he’s been in prison for almost a year. This is a huge story in the United States and I just want to ask you directly without getting into details of your version of what happened, if as a sign of your decency you’ll be willing to release him to us and we’ll bring him back to the United States?  \n",
       "3                                                                                                                                                                           Are you suggesting he was working for the US government or NATO? Or he was just a reporter who was given material he wasn’t supposed to have? Those seem like very different, very different things.  \n",
       "4                                                                                                                                                                                                                                             Do you think it is too humiliating at this point for NATO to accept Russian control of what was two years ago Ukrainian territory?  \n",
       "5                                                                                                                                                                                                                                                                    Would you be willing to say, “Congratulations, NATO, you won?” And just keep the situation where it is now?  \n",
       "6                                                                                                                                                                                                                                             Do you think it is too humiliating at this point for NATO to accept Russian control of what was two years ago Ukrainian territory?  \n",
       "7                                                                                                                                                                                                                                                                    Would you be willing to say, “Congratulations, NATO, you won?” And just keep the situation where it is now?  \n",
       "8                                                                                                                                                                                                                                                                                                                                                                           None  "
      ]
     },
     "execution_count": 8,
     "metadata": {},
     "output_type": "execute_result"
    }
   ],
   "source": [
    "multi_column(from_json(llmQuestions), 3)"
   ]
  },
  {
   "cell_type": "markdown",
   "metadata": {},
   "source": [
    "We can see that the LLM-extracted questions are two times less than the LLM-obtained number of questions above.\n",
    "Here are the extracted questions (in a multi-column format): "
   ]
  },
  {
   "cell_type": "markdown",
   "metadata": {},
   "source": [
    "### Important parts"
   ]
  },
  {
   "cell_type": "markdown",
   "metadata": {},
   "source": [
    "Here we make a function of extracting *significant* parts from the interview:"
   ]
  },
  {
   "cell_type": "code",
   "execution_count": 9,
   "metadata": {},
   "outputs": [],
   "source": [
    "# fProv = llm_function(lambda x, y, z: f\"Put the top {x} most {y} from the following interview in a Markdown list. {z}\", e = conf)\n",
    "fProv = llm_function(lambda x, y, z: f\"Put the top {x} most {y} from the following interview in a JSON list. {z}\", e = conf)"
   ]
  },
  {
   "cell_type": "markdown",
   "metadata": {},
   "source": [
    "#### Most provocative questions\n",
    "\n",
    "Here we get the most provocative questions:"
   ]
  },
  {
   "cell_type": "code",
   "execution_count": 10,
   "metadata": {},
   "outputs": [],
   "source": [
    "llmTopQuestions = fProv(3, \"provocative questions\", txtEN)"
   ]
  },
  {
   "cell_type": "code",
   "execution_count": 11,
   "metadata": {},
   "outputs": [
    {
     "data": {
      "text/html": [
       "<div>\n",
       "<style scoped>\n",
       "    .dataframe tbody tr th:only-of-type {\n",
       "        vertical-align: middle;\n",
       "    }\n",
       "\n",
       "    .dataframe tbody tr th {\n",
       "        vertical-align: top;\n",
       "    }\n",
       "\n",
       "    .dataframe thead th {\n",
       "        text-align: right;\n",
       "    }\n",
       "</style>\n",
       "<table border=\"1\" class=\"dataframe\">\n",
       "  <thead>\n",
       "    <tr style=\"text-align: right;\">\n",
       "      <th></th>\n",
       "      <th>question</th>\n",
       "      <th>answer</th>\n",
       "    </tr>\n",
       "  </thead>\n",
       "  <tbody>\n",
       "    <tr>\n",
       "      <th>0</th>\n",
       "      <td>What is denazification?</td>\n",
       "      <td>Denazification means the prohibition of all kinds of neo-Nazi movements.</td>\n",
       "    </tr>\n",
       "    <tr>\n",
       "      <th>1</th>\n",
       "      <td>Do you think Zelensky has the freedom to negotiate the settlement to this conflict?</td>\n",
       "      <td>I don’t know the details, of course it’s difficult for me to judge, but I believe he has, in any case, he used to have.</td>\n",
       "    </tr>\n",
       "    <tr>\n",
       "      <th>2</th>\n",
       "      <td>Would you be willing to say, “Congratulations, NATO, you won?” And just keep the situation where it is now?</td>\n",
       "      <td>You know, it is a subject for the negotiations no one is willing to conduct or, to put it more accurately, they are willing but do not know how to do it.</td>\n",
       "    </tr>\n",
       "  </tbody>\n",
       "</table>\n",
       "</div>"
      ],
      "text/plain": [
       "                                                                                                      question  \\\n",
       "0                                                                                      What is denazification?   \n",
       "1                          Do you think Zelensky has the freedom to negotiate the settlement to this conflict?   \n",
       "2  Would you be willing to say, “Congratulations, NATO, you won?” And just keep the situation where it is now?   \n",
       "\n",
       "                                                                                                                                                      answer  \n",
       "0                                                                                   Denazification means the prohibition of all kinds of neo-Nazi movements.  \n",
       "1                                    I don’t know the details, of course it’s difficult for me to judge, but I believe he has, in any case, he used to have.  \n",
       "2  You know, it is a subject for the negotiations no one is willing to conduct or, to put it more accurately, they are willing but do not know how to do it.  "
      ]
     },
     "execution_count": 11,
     "metadata": {},
     "output_type": "execute_result"
    }
   ],
   "source": [
    "pd.DataFrame(from_json(llmTopQuestions))"
   ]
  },
  {
   "cell_type": "markdown",
   "metadata": {},
   "source": [
    "#### Most important statements\n",
    "\n",
    "Here we get the most important statements:"
   ]
  },
  {
   "cell_type": "code",
   "execution_count": 12,
   "metadata": {},
   "outputs": [],
   "source": [
    "llmTopStatements = fProv(3, 'important statements', txtEN)"
   ]
  },
  {
   "cell_type": "code",
   "execution_count": 13,
   "metadata": {},
   "outputs": [
    {
     "data": {
      "text/html": [
       "<div>\n",
       "<style scoped>\n",
       "    .dataframe tbody tr th:only-of-type {\n",
       "        vertical-align: middle;\n",
       "    }\n",
       "\n",
       "    .dataframe tbody tr th {\n",
       "        vertical-align: top;\n",
       "    }\n",
       "\n",
       "    .dataframe thead th {\n",
       "        text-align: right;\n",
       "    }\n",
       "</style>\n",
       "<table border=\"1\" class=\"dataframe\">\n",
       "  <thead>\n",
       "    <tr style=\"text-align: right;\">\n",
       "      <th></th>\n",
       "      <th>statement</th>\n",
       "      <th>context</th>\n",
       "    </tr>\n",
       "  </thead>\n",
       "  <tbody>\n",
       "    <tr>\n",
       "      <th>0</th>\n",
       "      <td>We are willing to negotiate. It is the Western side, and Ukraine is obviously a satellite state of the US. It is evident. I do not want you to take it as if I am looking for a strong word or an insult, but we both understand what is happening.</td>\n",
       "      <td>Putin expresses readiness for negotiations and characterizes Ukraine as a satellite state of the US, indicating a willingness to engage in dialogue to resolve the conflict.</td>\n",
       "    </tr>\n",
       "    <tr>\n",
       "      <th>1</th>\n",
       "      <td>I do not rule out that the person you referred to, Mr. Gershkovich, may return to his homeland. I am absolutely sincere. But let me say once again, the dialogue continues. The more public we render things of this nature, the more difficult it becomes to resolve them. Everything has to be done in a calm manner.</td>\n",
       "      <td>Putin discusses the possibility of releasing Evan Gershkovich, a Wall Street Journal reporter imprisoned in Russia, highlighting ongoing dialogue and the need for calm negotiations.</td>\n",
       "    </tr>\n",
       "    <tr>\n",
       "      <th>2</th>\n",
       "      <td>It is very easy: when it comes to protecting oneself and one’s family, one’s homeland. We don’t attack anyone. When did the developments in Ukraine start? Since the coup d’état and the hostilities in Donbass began, that’s when they started. And we are protecting our people, ourselves, our homeland and our future.</td>\n",
       "      <td>Putin justifies military actions in Ukraine as a form of self-defense following the 2014 coup d’état, emphasizing the protection of Russian people and interests.</td>\n",
       "    </tr>\n",
       "  </tbody>\n",
       "</table>\n",
       "</div>"
      ],
      "text/plain": [
       "                                                                                                                                                                                                                                                                                                                    statement  \\\n",
       "0                                                                         We are willing to negotiate. It is the Western side, and Ukraine is obviously a satellite state of the US. It is evident. I do not want you to take it as if I am looking for a strong word or an insult, but we both understand what is happening.   \n",
       "1     I do not rule out that the person you referred to, Mr. Gershkovich, may return to his homeland. I am absolutely sincere. But let me say once again, the dialogue continues. The more public we render things of this nature, the more difficult it becomes to resolve them. Everything has to be done in a calm manner.   \n",
       "2  It is very easy: when it comes to protecting oneself and one’s family, one’s homeland. We don’t attack anyone. When did the developments in Ukraine start? Since the coup d’état and the hostilities in Donbass began, that’s when they started. And we are protecting our people, ourselves, our homeland and our future.   \n",
       "\n",
       "                                                                                                                                                                                 context  \n",
       "0           Putin expresses readiness for negotiations and characterizes Ukraine as a satellite state of the US, indicating a willingness to engage in dialogue to resolve the conflict.  \n",
       "1  Putin discusses the possibility of releasing Evan Gershkovich, a Wall Street Journal reporter imprisoned in Russia, highlighting ongoing dialogue and the need for calm negotiations.  \n",
       "2                      Putin justifies military actions in Ukraine as a form of self-defense following the 2014 coup d’état, emphasizing the protection of Russian people and interests.  "
      ]
     },
     "execution_count": 13,
     "metadata": {},
     "output_type": "execute_result"
    }
   ],
   "source": [
    "pd.DataFrame(from_json(llmTopStatements))"
   ]
  },
  {
   "cell_type": "markdown",
   "metadata": {},
   "source": [
    "-------\n",
    "\n",
    "## Part 1: separation and summary"
   ]
  },
  {
   "cell_type": "markdown",
   "metadata": {},
   "source": [
    "In the first part of the interview Putin gave a historical overview of the formation and evolution of the \"Ukrainian lands.\"\n",
    "We can extract the first part of the interview \"manually\" like this:"
   ]
  },
  {
   "cell_type": "code",
   "execution_count": 14,
   "metadata": {},
   "outputs": [
    {
     "name": "stdout",
     "output_type": "stream",
     "text": [
      "Part 1 stats: {'chars': 13629, 'words': 2300, 'lines': 44}\n",
      "Part 2 stats: {'chars': 83639, 'words': 14664, 'lines': 248}\n"
     ]
    }
   ],
   "source": [
    "part1, part2 = txtEN.split('Tucker Carlson: Do you believe Hungary has a right to take back its land from Ukraine?')\n",
    "\n",
    "print(f\"Part 1 stats: {text_stats(part1)}\")\n",
    "print(f\"Part 2 stats: {text_stats(part2)}\")"
   ]
  },
  {
   "cell_type": "markdown",
   "metadata": {},
   "source": [
    "Alternatively, we can ask ChatGPT to make the extraction for us:"
   ]
  },
  {
   "cell_type": "code",
   "execution_count": 15,
   "metadata": {},
   "outputs": [],
   "source": [
    "splittingQuestion = llm_synthesize([\n",
    "    \"Which question by Tucker Carlson splits the following interview into two parts:\",\n",
    "    \"(1) historical overview Ukraine's formation, and (2) shorter answers.\", \n",
    "    txtEN,\n",
    "    llm_prompt('NothingElse')('the splitting question by Tucker Carlson')\n",
    "    ], e = conf)"
   ]
  },
  {
   "cell_type": "code",
   "execution_count": 16,
   "metadata": {},
   "outputs": [
    {
     "data": {
      "text/plain": [
       "'Tucker Carlson: May I ask… You are making the case that Ukraine, certain parts of Ukraine, Eastern Ukraine, in fact, has been Russia for hundreds of years. Why wouldn’t you just take it when you became President 24 years ago? You have nuclear weapons, they don’t. It’s actually your land. Why did you wait so long?'"
      ]
     },
     "execution_count": 16,
     "metadata": {},
     "output_type": "execute_result"
    }
   ],
   "source": [
    "splittingQuestion"
   ]
  },
  {
   "cell_type": "markdown",
   "metadata": {},
   "source": [
    "Here is the first part of the interview according to the LLM result:"
   ]
  },
  {
   "cell_type": "code",
   "execution_count": 17,
   "metadata": {},
   "outputs": [
    {
     "data": {
      "text/plain": [
       "'lson: May I ask… You are making the case that Ukraine, certain parts of Ukraine, Eastern Ukraine, in fact, has been Russia for hundreds of years. Why wouldn’t you just take it when you becam'"
      ]
     },
     "execution_count": 17,
     "metadata": {},
     "output_type": "execute_result"
    }
   ],
   "source": [
    "splittingQuestion[10:200]"
   ]
  },
  {
   "cell_type": "code",
   "execution_count": 18,
   "metadata": {},
   "outputs": [
    {
     "data": {
      "text/plain": [
       "{'chars': 8736, 'words': 1483, 'lines': 29}"
      ]
     },
     "execution_count": 18,
     "metadata": {},
     "output_type": "execute_result"
    }
   ],
   "source": [
    "llmPart1 = txtEN.split(splittingQuestion[10:200])[0]\n",
    "text_stats(llmPart1)"
   ]
  },
  {
   "cell_type": "markdown",
   "metadata": {},
   "source": [
    "**Remark:** We can see that LLM \"spared\" nearly 1/3 of the \"manually\" selected text. Below we continue with the latter."
   ]
  },
  {
   "cell_type": "markdown",
   "metadata": {},
   "source": [
    "### Summary of the first part"
   ]
  },
  {
   "cell_type": "markdown",
   "metadata": {},
   "source": [
    "Here is a summary of the first part of the interview:"
   ]
  },
  {
   "cell_type": "code",
   "execution_count": 19,
   "metadata": {},
   "outputs": [],
   "source": [
    "res = llm_synthesize([\"Summarize the following part one of the Carlson-Putin interview:\", part1], e = conf)"
   ]
  },
  {
   "cell_type": "code",
   "execution_count": 20,
   "metadata": {},
   "outputs": [
    {
     "data": {
      "text/markdown": [
       "In the first part of the interview between Tucker Carlson and President Vladimir Putin, Carlson questions Putin about his statement regarding the United States and NATO potentially launching a surprise attack on Russia, which Putin clarifies as a misunderstanding. Putin then delves into a detailed historical account to explain the origins and development of the relationship between Russia and Ukraine. He traces back to the establishment of the Russian state in 862 with the invitation of Rurik to reign in Novgorod, the significance of Kiev in Russian history, the baptism of Russia in 988, and the eventual fragmentation and reunification of Russian lands over centuries.\n",
       "\n",
       "Putin discusses the influence of the Grand Duchy of Lithuania and the Polish-Lithuanian Commonwealth on Ukrainian territories, the efforts of Polonization, and the resistance and appeals of local leaders to Moscow for protection and integration into the Russian state. He highlights key historical events, including the Treaty of Pereyaslav in 1654, which brought parts of Ukraine under Russian rule, and the subsequent wars and treaties that shaped the borders of Russia and Poland.\n",
       "\n",
       "Putin also touches on the role of the Austrian General Staff and Ukrainian nationalists in promoting Ukrainian identity separate from Russian identity, leading up to the Bolsheviks' establishment of Soviet Ukraine and the territorial adjustments made by Lenin and Stalin, which included lands that historically were not part of Ukraine. He argues that these historical contexts demonstrate that Ukraine is an \"artificial state\" shaped by various historical forces and decisions.\n",
       "\n",
       "Throughout the discussion, Carlson interjects with questions to clarify the timeline and relevance of Putin's historical account to the current conflict in Ukraine, expressing interest in Putin's detailed knowledge but questioning why these arguments about Ukraine's legitimacy as a country were not prominently made earlier in Putin's presidency."
      ],
      "text/plain": [
       "<IPython.core.display.Markdown object>"
      ]
     },
     "metadata": {},
     "output_type": "display_data"
    }
   ],
   "source": [
    "display(Markdown(res))"
   ]
  },
  {
   "cell_type": "markdown",
   "metadata": {},
   "source": [
    "-----\n",
    "\n",
    "## Part 2: thematic parts"
   ]
  },
  {
   "cell_type": "markdown",
   "metadata": {},
   "source": [
    "Here we make an LLM request for finding and distilling the themes or the second part of the interview:"
   ]
  },
  {
   "cell_type": "code",
   "execution_count": 21,
   "metadata": {},
   "outputs": [],
   "source": [
    "llmParts = llm_synthesize([\n",
    "    'Split the following second part of the Tucker-Putin interview into thematic parts:', \n",
    "    part2,\n",
    "    \"Return the parts as a JSON array.\",\n",
    "    llm_prompt('NothingElse')('JSON')\n",
    "    ], e = conf)"
   ]
  },
  {
   "cell_type": "code",
   "execution_count": 22,
   "metadata": {},
   "outputs": [
    {
     "data": {
      "text/plain": [
       "Vector(Assoc(Atom(<class 'str'>), Atom(<class 'str'>), 2), 11)"
      ]
     },
     "execution_count": 22,
     "metadata": {},
     "output_type": "execute_result"
    }
   ],
   "source": [
    "llmParts2 = from_json(llmParts)\n",
    "deduce_type(llmParts2)"
   ]
  },
  {
   "cell_type": "markdown",
   "metadata": {},
   "source": [
    "Here we tabulate the found themes:"
   ]
  },
  {
   "cell_type": "code",
   "execution_count": 23,
   "metadata": {},
   "outputs": [
    {
     "data": {
      "text/html": [
       "<div>\n",
       "<style scoped>\n",
       "    .dataframe tbody tr th:only-of-type {\n",
       "        vertical-align: middle;\n",
       "    }\n",
       "\n",
       "    .dataframe tbody tr th {\n",
       "        vertical-align: top;\n",
       "    }\n",
       "\n",
       "    .dataframe thead th {\n",
       "        text-align: right;\n",
       "    }\n",
       "</style>\n",
       "<table border=\"1\" class=\"dataframe\">\n",
       "  <thead>\n",
       "    <tr style=\"text-align: right;\">\n",
       "      <th></th>\n",
       "      <th>theme</th>\n",
       "      <th>content</th>\n",
       "    </tr>\n",
       "  </thead>\n",
       "  <tbody>\n",
       "    <tr>\n",
       "      <th>0</th>\n",
       "      <td>Historical Context and Borders</td>\n",
       "      <td>Vladimir Putin discusses the historical context of Russia's borders and the possibility of nations reclaiming lands based on historical precedents.</td>\n",
       "    </tr>\n",
       "    <tr>\n",
       "      <th>1</th>\n",
       "      <td>Dialogue with Hungary and Historical Anecdote</td>\n",
       "      <td>Putin denies discussing territorial claims with Viktor Orban and shares a personal story from the 1980s highlighting the presence of Hungarians in Ukraine.</td>\n",
       "    </tr>\n",
       "    <tr>\n",
       "      <th>2</th>\n",
       "      <td>Russia's Relations and NATO Expansion</td>\n",
       "      <td>The discussion covers Russia's perspective on its relations with Ukraine and other countries post-Soviet Union collapse, emphasizing the issue of NATO expansion.</td>\n",
       "    </tr>\n",
       "    <tr>\n",
       "      <th>3</th>\n",
       "      <td>Perceived Threats and Security Concerns</td>\n",
       "      <td>Putin expresses concerns about the security threats posed by NATO and the West, including the potential for nuclear threats.</td>\n",
       "    </tr>\n",
       "    <tr>\n",
       "      <th>4</th>\n",
       "      <td>Economic and Cultural Ties</td>\n",
       "      <td>The conversation touches on the deep economic and cultural ties between Russia and Ukraine, suggesting these as a basis for inevitable good relations.</td>\n",
       "    </tr>\n",
       "    <tr>\n",
       "      <th>5</th>\n",
       "      <td>Western Relations and Missed Opportunities</td>\n",
       "      <td>Putin reflects on missed opportunities for cooperation with the West and the expansion of NATO, criticizing Western actions.</td>\n",
       "    </tr>\n",
       "    <tr>\n",
       "      <th>6</th>\n",
       "      <td>Russia's Military Actions in Ukraine</td>\n",
       "      <td>Putin discusses the reasons behind Russia's military actions in Ukraine, framing it as a response to protect Russian speakers and counteract NATO's influence.</td>\n",
       "    </tr>\n",
       "    <tr>\n",
       "      <th>7</th>\n",
       "      <td>Global Power Dynamics</td>\n",
       "      <td>The interview explores the shift in global power dynamics, with Putin commenting on the rise of China and other countries, and the implications for the US.</td>\n",
       "    </tr>\n",
       "    <tr>\n",
       "      <th>8</th>\n",
       "      <td>Artificial Intelligence and Genetic Engineering</td>\n",
       "      <td>Putin and Carlson discuss the potential threats and ethical considerations of advancements in artificial intelligence and genetic engineering.</td>\n",
       "    </tr>\n",
       "    <tr>\n",
       "      <th>9</th>\n",
       "      <td>Religious and Cultural Identity</td>\n",
       "      <td>Putin speaks on the importance of Orthodox Christianity in Russian identity and its role in shaping the country's values and outlook.</td>\n",
       "    </tr>\n",
       "    <tr>\n",
       "      <th>10</th>\n",
       "      <td>Negotiations and Peace Efforts</td>\n",
       "      <td>The conversation concludes with Putin expressing openness to negotiations for peace in Ukraine, while placing the onus on the West to initiate dialogue.</td>\n",
       "    </tr>\n",
       "  </tbody>\n",
       "</table>\n",
       "</div>"
      ],
      "text/plain": [
       "                                              theme  \\\n",
       "0                    Historical Context and Borders   \n",
       "1     Dialogue with Hungary and Historical Anecdote   \n",
       "2             Russia's Relations and NATO Expansion   \n",
       "3           Perceived Threats and Security Concerns   \n",
       "4                        Economic and Cultural Ties   \n",
       "5        Western Relations and Missed Opportunities   \n",
       "6              Russia's Military Actions in Ukraine   \n",
       "7                             Global Power Dynamics   \n",
       "8   Artificial Intelligence and Genetic Engineering   \n",
       "9                   Religious and Cultural Identity   \n",
       "10                   Negotiations and Peace Efforts   \n",
       "\n",
       "                                                                                                                                                              content  \n",
       "0                 Vladimir Putin discusses the historical context of Russia's borders and the possibility of nations reclaiming lands based on historical precedents.  \n",
       "1         Putin denies discussing territorial claims with Viktor Orban and shares a personal story from the 1980s highlighting the presence of Hungarians in Ukraine.  \n",
       "2   The discussion covers Russia's perspective on its relations with Ukraine and other countries post-Soviet Union collapse, emphasizing the issue of NATO expansion.  \n",
       "3                                        Putin expresses concerns about the security threats posed by NATO and the West, including the potential for nuclear threats.  \n",
       "4              The conversation touches on the deep economic and cultural ties between Russia and Ukraine, suggesting these as a basis for inevitable good relations.  \n",
       "5                                        Putin reflects on missed opportunities for cooperation with the West and the expansion of NATO, criticizing Western actions.  \n",
       "6      Putin discusses the reasons behind Russia's military actions in Ukraine, framing it as a response to protect Russian speakers and counteract NATO's influence.  \n",
       "7         The interview explores the shift in global power dynamics, with Putin commenting on the rise of China and other countries, and the implications for the US.  \n",
       "8                      Putin and Carlson discuss the potential threats and ethical considerations of advancements in artificial intelligence and genetic engineering.  \n",
       "9                               Putin speaks on the importance of Orthodox Christianity in Russian identity and its role in shaping the country's values and outlook.  \n",
       "10           The conversation concludes with Putin expressing openness to negotiations for peace in Ukraine, while placing the onus on the West to initiate dialogue.  "
      ]
     },
     "execution_count": 23,
     "metadata": {},
     "output_type": "execute_result"
    }
   ],
   "source": [
    "pd.DataFrame(llmParts2)"
   ]
  },
  {
   "cell_type": "markdown",
   "metadata": {},
   "source": [
    "------\n",
    "\n",
    "## Interview's spoken parts"
   ]
  },
  {
   "cell_type": "markdown",
   "metadata": {},
   "source": [
    "In this section we separate the spoken parts of each participant in the interview. We do that using regular expressions, not LLMs."
   ]
  },
  {
   "cell_type": "markdown",
   "metadata": {},
   "source": [
    "Here we split the interview text with the names of the participants:"
   ]
  },
  {
   "cell_type": "code",
   "execution_count": 24,
   "metadata": {},
   "outputs": [
    {
     "name": "stdout",
     "output_type": "stream",
     "text": [
      "Total parts 149\n",
      "First 4:\n",
      "('Tucker Carlson:', ' Mr. President, thank you.\\nOn February 24, 2022, you addressed your country in your nationwide address when the conflict in Ukraine started and you said that you were acting because you had come to the conclusion that the United States through NATO might initiate a quote, “surprise attack on our country.” And to American ears that sounds paranoid. Tell us why you believe the United States might strike Russia out of the blue. How did you conclude that?\\n')\n",
      "('President of Russia Vladimir Putin:', \" It's not that the United States was going to launch a surprise strike on Russia, I didn't say so. Are we having a talk show or a serious conversation?\\n\")\n",
      "('Tucker Carlson:', ' That was a good quote. Thank you, it’s formidably serious!\\n')\n",
      "('Vladimir Putin:', ' You were initially trained in history, as far as I know?\\n')\n"
     ]
    }
   ],
   "source": [
    "parts = list(filter(None, re.split(r\"(Tucker Carlson:)|(President of Russia Vladimir Putin:)|(Vladimir Putin:)\", txtEN)))\n",
    "parts = list(zip(parts[::2], parts[1::2]))\n",
    "\n",
    "print(\"Total parts\", len(parts))\n",
    "\n",
    "print(\"First 4:\")\n",
    "for part in parts[:4]:\n",
    "    print(part)"
   ]
  },
  {
   "cell_type": "markdown",
   "metadata": {},
   "source": [
    "Here we further process the separate participant names and corresponding parts into a list of pairs:"
   ]
  },
  {
   "cell_type": "code",
   "execution_count": 25,
   "metadata": {},
   "outputs": [
    {
     "data": {
      "text/html": [
       "<div>\n",
       "<style scoped>\n",
       "    .dataframe tbody tr th:only-of-type {\n",
       "        vertical-align: middle;\n",
       "    }\n",
       "\n",
       "    .dataframe tbody tr th {\n",
       "        vertical-align: top;\n",
       "    }\n",
       "\n",
       "    .dataframe thead th {\n",
       "        text-align: right;\n",
       "    }\n",
       "</style>\n",
       "<table border=\"1\" class=\"dataframe\">\n",
       "  <thead>\n",
       "    <tr style=\"text-align: right;\">\n",
       "      <th></th>\n",
       "      <th>0</th>\n",
       "      <th>1</th>\n",
       "    </tr>\n",
       "  </thead>\n",
       "  <tbody>\n",
       "    <tr>\n",
       "      <th>0</th>\n",
       "      <td>T.Carlson</td>\n",
       "      <td>Mr. President, thank you.\\nOn February 24, 2022, you addressed your country in your nationwide address when the conflict in Ukraine started and you said that you were acting because you had come to the conclusion that the United States through NATO might initiate a quote, “surprise attack on our country.” And to American ears that sounds paranoid. Tell us why you believe the United States might strike Russia out of the blue. How did you conclude that?</td>\n",
       "    </tr>\n",
       "    <tr>\n",
       "      <th>1</th>\n",
       "      <td>V.Putin</td>\n",
       "      <td>It's not that the United States was going to launch a surprise strike on Russia, I didn't say so. Are we having a talk show or a serious conversation?</td>\n",
       "    </tr>\n",
       "    <tr>\n",
       "      <th>2</th>\n",
       "      <td>T.Carlson</td>\n",
       "      <td>That was a good quote. Thank you, it’s formidably serious!</td>\n",
       "    </tr>\n",
       "    <tr>\n",
       "      <th>3</th>\n",
       "      <td>V.Putin</td>\n",
       "      <td>You were initially trained in history, as far as I know?</td>\n",
       "    </tr>\n",
       "    <tr>\n",
       "      <th>4</th>\n",
       "      <td>T.Carlson</td>\n",
       "      <td>Yes.</td>\n",
       "    </tr>\n",
       "    <tr>\n",
       "      <th>...</th>\n",
       "      <td>...</td>\n",
       "      <td>...</td>\n",
       "    </tr>\n",
       "    <tr>\n",
       "      <th>144</th>\n",
       "      <td>T.Carlson</td>\n",
       "      <td>Do you think it is too humiliating at this point for NATO to accept Russian control of what was two years ago Ukrainian territory?</td>\n",
       "    </tr>\n",
       "    <tr>\n",
       "      <th>145</th>\n",
       "      <td>V.Putin</td>\n",
       "      <td>I said let them think how to do it with dignity. There are options if there is a will.\\nUp until now there has been the uproar and screaming about inflicting a strategic defeat on Russia on the battlefield. Now they are apparently coming to realize that it is difficult to achieve, if possible at all. In my opinion, it is impossible by definition, it is never going to happen. It seems to me that now those who are in power in the West have come to realize this as well. If so, if the realization has set in, they have to think what to do next. We are ready for this dialogue.</td>\n",
       "    </tr>\n",
       "    <tr>\n",
       "      <th>146</th>\n",
       "      <td>T.Carlson</td>\n",
       "      <td>Would you be willing to say, “Congratulations, NATO, you won?” And just keep the situation where it is now?</td>\n",
       "    </tr>\n",
       "    <tr>\n",
       "      <th>147</th>\n",
       "      <td>V.Putin</td>\n",
       "      <td>You know, it is a subject for the negotiations no one is willing to conduct or, to put it more accurately, they are willing but do not know how to do it. I know they want. It is not just that I see it but I know they do want it but they are struggling to understand how to do it. They have driven the situation to the point where we are at. It is not us who have done that, it is our partners, opponents who have done that. Well, now let them think how to reverse the situation. We are not against it.\\nIt would be funny if it were not so sad. This endless mobilization in Ukraine, the hysteria, the domestic problems – sooner or later it all will result in an agreement. You know, this will probably sound strange given the current situation but the relations between the two peoples will be rebuilt anyway. It will take a lot of time but they will heal.\\nI will give you very unusual examples. There is a combat encounter on the battlefield, it is a specific example: Ukrainian soldiers got encircled (this is an example from real life), our soldiers were shouting to them: “There is no chance! Surrender yourselves! Come out and you will be alive!” Suddenly the Ukrainian soldiers were shouting back in Russian, perfect Russian: “Russians never surrender!” and all of them perished. They still identify themselves as Russians.\\nWhat is happening is, to a certain extent, an element of a civil war. Everyone in the West thinks that the Russian people have been split by hostilities forever. No. They will be reunited. The unity is still there.\\nWhy are the Ukrainian authorities dismantling the Ukrainian Orthodox Church? Because it unites not the territory, it unites our souls. No one will be able to disunite them.\\nShall we end here or there is something else?</td>\n",
       "    </tr>\n",
       "    <tr>\n",
       "      <th>148</th>\n",
       "      <td>T.Carlson</td>\n",
       "      <td>Thank you, Mr. President.</td>\n",
       "    </tr>\n",
       "  </tbody>\n",
       "</table>\n",
       "<p>149 rows × 2 columns</p>\n",
       "</div>"
      ],
      "text/plain": [
       "             0  \\\n",
       "0    T.Carlson   \n",
       "1      V.Putin   \n",
       "2    T.Carlson   \n",
       "3      V.Putin   \n",
       "4    T.Carlson   \n",
       "..         ...   \n",
       "144  T.Carlson   \n",
       "145    V.Putin   \n",
       "146  T.Carlson   \n",
       "147    V.Putin   \n",
       "148  T.Carlson   \n",
       "\n",
       "                                                                                                                                                                                                                                                                                                                                                                                                                                                                                                                                                                                                                                                                                                                                                                                                                                                                                                                                                                                                                                                                                                                                                                                                                                                                                                                                                                                                                                                                                                                                                                                                                                                                                                                                                                                                                                          1  \n",
       "0                                                                                                                                                                                                                                                                                                                                                                                                                                                                                                                                                                                                                                                                                                                                                                                                                                                                                                                                                                                                                                                                                                                                                                                                                                                                                                                                                                   Mr. President, thank you.\\nOn February 24, 2022, you addressed your country in your nationwide address when the conflict in Ukraine started and you said that you were acting because you had come to the conclusion that the United States through NATO might initiate a quote, “surprise attack on our country.” And to American ears that sounds paranoid. Tell us why you believe the United States might strike Russia out of the blue. How did you conclude that?  \n",
       "1                                                                                                                                                                                                                                                                                                                                                                                                                                                                                                                                                                                                                                                                                                                                                                                                                                                                                                                                                                                                                                                                                                                                                                                                                                                                                                                                                                                                                                                                                                                                                                                                                                                                                    It's not that the United States was going to launch a surprise strike on Russia, I didn't say so. Are we having a talk show or a serious conversation?  \n",
       "2                                                                                                                                                                                                                                                                                                                                                                                                                                                                                                                                                                                                                                                                                                                                                                                                                                                                                                                                                                                                                                                                                                                                                                                                                                                                                                                                                                                                                                                                                                                                                                                                                                                                                                                                                                                That was a good quote. Thank you, it’s formidably serious!  \n",
       "3                                                                                                                                                                                                                                                                                                                                                                                                                                                                                                                                                                                                                                                                                                                                                                                                                                                                                                                                                                                                                                                                                                                                                                                                                                                                                                                                                                                                                                                                                                                                                                                                                                                                                                                                                                                  You were initially trained in history, as far as I know?  \n",
       "4                                                                                                                                                                                                                                                                                                                                                                                                                                                                                                                                                                                                                                                                                                                                                                                                                                                                                                                                                                                                                                                                                                                                                                                                                                                                                                                                                                                                                                                                                                                                                                                                                                                                                                                                                                                                                                      Yes.  \n",
       "..                                                                                                                                                                                                                                                                                                                                                                                                                                                                                                                                                                                                                                                                                                                                                                                                                                                                                                                                                                                                                                                                                                                                                                                                                                                                                                                                                                                                                                                                                                                                                                                                                                                                                                                                                                                                                                      ...  \n",
       "144                                                                                                                                                                                                                                                                                                                                                                                                                                                                                                                                                                                                                                                                                                                                                                                                                                                                                                                                                                                                                                                                                                                                                                                                                                                                                                                                                                                                                                                                                                                                                                                                                                                                                                      Do you think it is too humiliating at this point for NATO to accept Russian control of what was two years ago Ukrainian territory?  \n",
       "145                                                                                                                                                                                                                                                                                                                                                                                                                                                                                                                                                                                                                                                                                                                                                                                                                                                                                                                                                                                                                                                                                                                                                                                                                                       I said let them think how to do it with dignity. There are options if there is a will.\\nUp until now there has been the uproar and screaming about inflicting a strategic defeat on Russia on the battlefield. Now they are apparently coming to realize that it is difficult to achieve, if possible at all. In my opinion, it is impossible by definition, it is never going to happen. It seems to me that now those who are in power in the West have come to realize this as well. If so, if the realization has set in, they have to think what to do next. We are ready for this dialogue.  \n",
       "146                                                                                                                                                                                                                                                                                                                                                                                                                                                                                                                                                                                                                                                                                                                                                                                                                                                                                                                                                                                                                                                                                                                                                                                                                                                                                                                                                                                                                                                                                                                                                                                                                                                                                                                             Would you be willing to say, “Congratulations, NATO, you won?” And just keep the situation where it is now?  \n",
       "147  You know, it is a subject for the negotiations no one is willing to conduct or, to put it more accurately, they are willing but do not know how to do it. I know they want. It is not just that I see it but I know they do want it but they are struggling to understand how to do it. They have driven the situation to the point where we are at. It is not us who have done that, it is our partners, opponents who have done that. Well, now let them think how to reverse the situation. We are not against it.\\nIt would be funny if it were not so sad. This endless mobilization in Ukraine, the hysteria, the domestic problems – sooner or later it all will result in an agreement. You know, this will probably sound strange given the current situation but the relations between the two peoples will be rebuilt anyway. It will take a lot of time but they will heal.\\nI will give you very unusual examples. There is a combat encounter on the battlefield, it is a specific example: Ukrainian soldiers got encircled (this is an example from real life), our soldiers were shouting to them: “There is no chance! Surrender yourselves! Come out and you will be alive!” Suddenly the Ukrainian soldiers were shouting back in Russian, perfect Russian: “Russians never surrender!” and all of them perished. They still identify themselves as Russians.\\nWhat is happening is, to a certain extent, an element of a civil war. Everyone in the West thinks that the Russian people have been split by hostilities forever. No. They will be reunited. The unity is still there.\\nWhy are the Ukrainian authorities dismantling the Ukrainian Orthodox Church? Because it unites not the territory, it unites our souls. No one will be able to disunite them.\\nShall we end here or there is something else?  \n",
       "148                                                                                                                                                                                                                                                                                                                                                                                                                                                                                                                                                                                                                                                                                                                                                                                                                                                                                                                                                                                                                                                                                                                                                                                                                                                                                                                                                                                                                                                                                                                                                                                                                                                                                                                                                                                                               Thank you, Mr. President.  \n",
       "\n",
       "[149 rows x 2 columns]"
      ]
     },
     "execution_count": 25,
     "metadata": {},
     "output_type": "execute_result"
    }
   ],
   "source": [
    "parts2 = [(('T.Carlson' if 'Carlson' in part[0] else 'V.Putin'), part[1].strip()) for part in parts]\n",
    "pd.DataFrame(parts2)"
   ]
  },
  {
   "cell_type": "markdown",
   "metadata": {},
   "source": [
    "Here we get all spoken parts of Tucker Carlson (and consider all of them to be \"questions\"):"
   ]
  },
  {
   "cell_type": "code",
   "execution_count": 26,
   "metadata": {},
   "outputs": [
    {
     "data": {
      "text/plain": [
       "53"
      ]
     },
     "execution_count": 26,
     "metadata": {},
     "output_type": "execute_result"
    }
   ],
   "source": [
    "tcQuestions = [part[1] for part in parts2 if 'Carlson' in part[0] and part[1].endswith('?')]\n",
    "len(tcQuestions)"
   ]
  },
  {
   "cell_type": "markdown",
   "metadata": {},
   "source": [
    "A table with all questions:"
   ]
  },
  {
   "cell_type": "code",
   "execution_count": 27,
   "metadata": {},
   "outputs": [
    {
     "data": {
      "text/html": [
       "<div>\n",
       "<style scoped>\n",
       "    .dataframe tbody tr th:only-of-type {\n",
       "        vertical-align: middle;\n",
       "    }\n",
       "\n",
       "    .dataframe tbody tr th {\n",
       "        vertical-align: top;\n",
       "    }\n",
       "\n",
       "    .dataframe thead th {\n",
       "        text-align: right;\n",
       "    }\n",
       "</style>\n",
       "<table border=\"1\" class=\"dataframe\">\n",
       "  <thead>\n",
       "    <tr style=\"text-align: right;\">\n",
       "      <th></th>\n",
       "      <th>0</th>\n",
       "      <th>1</th>\n",
       "      <th>2</th>\n",
       "    </tr>\n",
       "  </thead>\n",
       "  <tbody>\n",
       "    <tr>\n",
       "      <th>0</th>\n",
       "      <td>Mr. President, thank you.\\nOn February 24, 2022, you addressed your country in your nationwide address when the conflict in Ukraine started and you said that you were acting because you had come to the conclusion that the United States through NATO might initiate a quote, “surprise attack on our country.” And to American ears that sounds paranoid. Tell us why you believe the United States might strike Russia out of the blue. How did you conclude that?</td>\n",
       "      <td>What is denazification? What would that mean?</td>\n",
       "      <td>Well, let’s just give one example — the US dollar, which has, kind of, united the world in a lot of ways, maybe not to your advantage, but certainly to ours. Is that going away as the reserve currency, the universally accepted currency? How have sanctions, do you think, changed the dollar’s place in the world?</td>\n",
       "    </tr>\n",
       "    <tr>\n",
       "      <th>1</th>\n",
       "      <td>May I ask… You are making the case that Ukraine, certain parts of Ukraine, Eastern Ukraine, in fact, has been Russia for hundreds of years. Why wouldn’t you just take it when you became President 24 years ago? You have nuclear weapons, they don’t. It’s actually your land. Why did you wait so long?</td>\n",
       "      <td>Would you be satisfied with the territory that you have now?</td>\n",
       "      <td>I think that is a fair assessment. The question is what comes next? And maybe you trade one colonial power for another, much less sentimental and forgiving colonial power? Is the BRICS, for example, in danger of being completely dominated by the Chinese economy? In a way that is not good for their sovereignty. Do you worry about that?</td>\n",
       "    </tr>\n",
       "    <tr>\n",
       "      <th>2</th>\n",
       "      <td>In 1654?</td>\n",
       "      <td>Really, my question is: What do you do about it? I mean, Hitler has been dead for eighty years, Nazi Germany no longer exists, and it’s true. So, I think, what you are saying, you want to extinguish or at least control Ukrainian nationalism. But how do you do that?</td>\n",
       "      <td>So, you said a moment ago that the world would be a lot better if it were not broken into competing alliances, if there was cooperation globally. One of the reasons you don’t have that is because the current American administration is dead set against you. Do you think if there was a new administration after Joe Biden that you would be able to re-establish communication with the US government? Or does it not matter who the President is?</td>\n",
       "    </tr>\n",
       "    <tr>\n",
       "      <th>3</th>\n",
       "      <td>You have, I see, encyclopaedic knowledge of that region. But why didn’t you make this case for the first 22 years as president, that Ukraine wasn’t a real country?</td>\n",
       "      <td>Right. My question is almost specific, it was, of course, not a defense of Nazism. Otherwise, it was a practical question. You don't control the entire country, you don’t seem like you want to. So, how do you eliminate that culture, or an ideology, or feelings, or a view of history, in a country that you don’t control? What do you do about that?</td>\n",
       "      <td>But you are describing two different systems. You say that the leader acts in the interests of the voters, but you also say that these decisions are not made by the leader – they are made by the ruling classes. You have run this country for so long, you have known all these American presidents. What are those power centres in the United States, do you think? And who actually makes the decisions?</td>\n",
       "    </tr>\n",
       "    <tr>\n",
       "      <th>4</th>\n",
       "      <td>Do you believe Hungary has a right to take back its land from Ukraine? And that other nations have a right to go back to their 1654 borders?</td>\n",
       "      <td>Well, but you would not be speaking to the Ukrainian president, you would be speaking to the American president. When was the last time you spoke to Joe Biden?</td>\n",
       "      <td>I just have to ask. You have said clearly that NATO expansion eastward is a violation of the promise you were all made in the 1990s. It is a threat to your country. Right before you sent troops into Ukraine the Vice-President of the United States spoke at the Security Conference and encouraged the President of Ukraine to join NATO. Do you think that was an effort to provoke you into military action?</td>\n",
       "    </tr>\n",
       "    <tr>\n",
       "      <th>5</th>\n",
       "      <td>Have you told Viktor Orban that he can have a part of Ukraine?</td>\n",
       "      <td>But he is funding the war that you are fighting, so I think that would be memorable?</td>\n",
       "      <td>Do you think Zelensky has the freedom to negotiate the settlement to this conflict?</td>\n",
       "    </tr>\n",
       "    <tr>\n",
       "      <th>6</th>\n",
       "      <td>And there’s a lot of that though, I think. Many nations feel upset about — there are Transylvanians as well as you, others, you know — but many nations feel frustrated by their re-drawn borders after the wars of the 20th century, and wars going back a thousand years, the ones that you mention, but the fact is that you didn’t make this case in public until two years ago in February, and in the case that you made, which I read today, you explain at great length that you thought a physical threat from the West and NATO, including potentially a nuclear threat, and that’s what got you to move. Is that a fair characterization of what you said?</td>\n",
       "      <td>What did he say?</td>\n",
       "      <td>But do you think at this point – as of February 2024 – he has the latitude, the freedom to speak with you or government directly, which would clearly help his country or the world? Can he do that, do you think?</td>\n",
       "    </tr>\n",
       "    <tr>\n",
       "      <th>7</th>\n",
       "      <td>Well, of course, it did come true, and you’ve mentioned it many times. I think, it’s a fair point. And many in America thought that relations between Russia and the United States would be fine after the collapse of the Soviet Union, at the core. But the opposite happened. But have never explained why you think that happened, except to say that the West fears a strong Russia. But we have a strong China that the West doesn’t seem to be very afraid of. What about Russia, what do you think convinced the policymakers to take it down?</td>\n",
       "      <td>But you haven’t spoken to him since before February of 2022?</td>\n",
       "      <td>That is a good question. Why did he do that?</td>\n",
       "    </tr>\n",
       "    <tr>\n",
       "      <th>8</th>\n",
       "      <td>Were you sincere? Would you have joined NATO?</td>\n",
       "      <td>I am definitely interested. But from the other side it seems like it could devolve, evolve into something that brings the entire world into conflict, and could initiate a nuclear launch, and so why don’t you just call Biden and say, “Let’s work this out”?</td>\n",
       "      <td>You have described the connection between Russia and Ukraine; you have described Russia itself, a couple of times as Orthodox – that is central to your understanding of Russia. What does that mean for you? You are a Cristian leader by your own description. So what effect does that have on you?</td>\n",
       "    </tr>\n",
       "    <tr>\n",
       "      <th>9</th>\n",
       "      <td>But if he had said yes, would you have joined NATO?</td>\n",
       "      <td>Do you think NATO was worried about this becoming a global war or nuclear conflict?</td>\n",
       "      <td>Can I say, the one way in which religions are different is that Christianity is specifically a non-violent religion. Jesus says, “Turn the other cheek,” “don’t kill,” and so on. How can a leader who has to kill, of any country, how can a leader be a Christian? How do you reconcile that to yourself?</td>\n",
       "    </tr>\n",
       "    <tr>\n",
       "      <th>10</th>\n",
       "      <td>Why do you think that is? Just to get to motive. I know, you’re clearly bitter about it. I understand. But why do you think the West rebuffed you then? Why the hostility? Why did the end of the Cold War not fix the relationship? What motivates this from your point of view?</td>\n",
       "      <td>The threat I think you were referring to is Russian invasion of Poland, Latvia – expansionist behaviour. Can you imagine a scenario where you send Russian troops to Poland?</td>\n",
       "      <td>So do you see the supernatural at work? As you look out across what’s happening in the world now, do you see God at work? Do you ever think to yourself: these are forces that are not human?</td>\n",
       "    </tr>\n",
       "    <tr>\n",
       "      <th>11</th>\n",
       "      <td>Forces in opposition to you? Do you think the CIA is trying to overthrow your government?</td>\n",
       "      <td>Well, the argument, I know you know this, is that, well, he invaded Ukraine – he has territorial aims across the continent. And you are saying unequivocally, you don’t?</td>\n",
       "      <td>So when does the AI empire start do you think?</td>\n",
       "    </tr>\n",
       "    <tr>\n",
       "      <th>12</th>\n",
       "      <td>May I ask what year was this?</td>\n",
       "      <td>One of our senior United States senators from the State of New York, Chuck Schumer, said yesterday, I believe, that we have to continue to fund the Ukrainian effort or US soldiers, citizens could wind up fighting there. How do you assess that?</td>\n",
       "      <td>What do you think of that?</td>\n",
       "    </tr>\n",
       "    <tr>\n",
       "      <th>13</th>\n",
       "      <td>In 2014?</td>\n",
       "      <td>Who blew up Nord Stream?</td>\n",
       "      <td>I appreciate all the time you’ve given us. I just want to ask you one last question and it’s about someone who is very famous in the United States, probably not here. Evan Gershkovich who is the Wall Street Journal reporter, he is 32 and he’s been in prison for almost a year. This is a huge story in the United States and I just want to ask you directly without getting into details of your version of what happened, if as a sign of your decency you’ll be willing to release him to us and we’ll bring him back to the United States?</td>\n",
       "    </tr>\n",
       "    <tr>\n",
       "      <th>14</th>\n",
       "      <td>With the backing of whom?</td>\n",
       "      <td>Do you have evidence that NATO or the CIA did it?</td>\n",
       "      <td>I wonder if that’s true with the war though also, I mean, I guess I want to ask one more question which is, and maybe you don’t want to say so for strategic reasons, but are you worried that what’s happening in Ukraine could lead to something much larger and much more horrible and how motivated are you just to call the US government and say, “let’s come to terms”?</td>\n",
       "    </tr>\n",
       "    <tr>\n",
       "      <th>15</th>\n",
       "      <td>So, that was eight years before the current conflict started. What was the trigger for you? What was the moment where you decided you had to do this?</td>\n",
       "      <td>But I am confused. I mean, that’s the biggest act of industrial terrorism ever and it’s the largest emission of CO₂ in history. Okay, so, if you had evidence and presumably, given your security services, your intel services, you would, that NATO, the US, CIA, the West did this, why wouldn’t you present it and win a propaganda victory?</td>\n",
       "      <td>Do you think it is too humiliating at this point for NATO to accept Russian control of what was two years ago Ukrainian territory?</td>\n",
       "    </tr>\n",
       "    <tr>\n",
       "      <th>16</th>\n",
       "      <td>Was there anyone free to talk to? Did you call the US President, Secretary of State and say if you keep militarizing Ukraine with NATO forces, we are going to act?</td>\n",
       "      <td>Yes. But here is a question you may be able to answer. You worked in Germany, famously. The Germans clearly know that their NATO partner did this, that they damaged their economy greatly – it may never recover. Why are they being silent about it? That is very confusing to me. Why wouldn’t the Germans say something about it?</td>\n",
       "      <td>Would you be willing to say, “Congratulations, NATO, you won?” And just keep the situation where it is now?</td>\n",
       "    </tr>\n",
       "    <tr>\n",
       "      <th>17</th>\n",
       "      <td>Do you think you have stopped it now? I mean have you achieved your aims?</td>\n",
       "      <td>Well, maybe the world is breaking into two hemispheres. One with cheap energy, the other without it. And I want to ask you that, if we are now a multipolar world, obviously we are, can you describe the blocs or alliances? Who is on each side, do you think?</td>\n",
       "      <td>None</td>\n",
       "    </tr>\n",
       "  </tbody>\n",
       "</table>\n",
       "</div>"
      ],
      "text/plain": [
       "                                                                                                                                                                                                                                                                                                                                                                                                                                                                                                                                                                                                                                                                        0  \\\n",
       "0                                                                                                                                                                                                 Mr. President, thank you.\\nOn February 24, 2022, you addressed your country in your nationwide address when the conflict in Ukraine started and you said that you were acting because you had come to the conclusion that the United States through NATO might initiate a quote, “surprise attack on our country.” And to American ears that sounds paranoid. Tell us why you believe the United States might strike Russia out of the blue. How did you conclude that?   \n",
       "1                                                                                                                                                                                                                                                                                                                                                              May I ask… You are making the case that Ukraine, certain parts of Ukraine, Eastern Ukraine, in fact, has been Russia for hundreds of years. Why wouldn’t you just take it when you became President 24 years ago? You have nuclear weapons, they don’t. It’s actually your land. Why did you wait so long?   \n",
       "2                                                                                                                                                                                                                                                                                                                                                                                                                                                                                                                                                                                                                                                                In 1654?   \n",
       "3                                                                                                                                                                                                                                                                                                                                                                                                                                                                                                     You have, I see, encyclopaedic knowledge of that region. But why didn’t you make this case for the first 22 years as president, that Ukraine wasn’t a real country?   \n",
       "4                                                                                                                                                                                                                                                                                                                                                                                                                                                                                                                            Do you believe Hungary has a right to take back its land from Ukraine? And that other nations have a right to go back to their 1654 borders?   \n",
       "5                                                                                                                                                                                                                                                                                                                                                                                                                                                                                                                                                                                                          Have you told Viktor Orban that he can have a part of Ukraine?   \n",
       "6   And there’s a lot of that though, I think. Many nations feel upset about — there are Transylvanians as well as you, others, you know — but many nations feel frustrated by their re-drawn borders after the wars of the 20th century, and wars going back a thousand years, the ones that you mention, but the fact is that you didn’t make this case in public until two years ago in February, and in the case that you made, which I read today, you explain at great length that you thought a physical threat from the West and NATO, including potentially a nuclear threat, and that’s what got you to move. Is that a fair characterization of what you said?   \n",
       "7                                                                                                                  Well, of course, it did come true, and you’ve mentioned it many times. I think, it’s a fair point. And many in America thought that relations between Russia and the United States would be fine after the collapse of the Soviet Union, at the core. But the opposite happened. But have never explained why you think that happened, except to say that the West fears a strong Russia. But we have a strong China that the West doesn’t seem to be very afraid of. What about Russia, what do you think convinced the policymakers to take it down?   \n",
       "8                                                                                                                                                                                                                                                                                                                                                                                                                                                                                                                                                                                                                           Were you sincere? Would you have joined NATO?   \n",
       "9                                                                                                                                                                                                                                                                                                                                                                                                                                                                                                                                                                                                                     But if he had said yes, would you have joined NATO?   \n",
       "10                                                                                                                                                                                                                                                                                                                                                                                      Why do you think that is? Just to get to motive. I know, you’re clearly bitter about it. I understand. But why do you think the West rebuffed you then? Why the hostility? Why did the end of the Cold War not fix the relationship? What motivates this from your point of view?   \n",
       "11                                                                                                                                                                                                                                                                                                                                                                                                                                                                                                                                                                              Forces in opposition to you? Do you think the CIA is trying to overthrow your government?   \n",
       "12                                                                                                                                                                                                                                                                                                                                                                                                                                                                                                                                                                                                                                          May I ask what year was this?   \n",
       "13                                                                                                                                                                                                                                                                                                                                                                                                                                                                                                                                                                                                                                                               In 2014?   \n",
       "14                                                                                                                                                                                                                                                                                                                                                                                                                                                                                                                                                                                                                                              With the backing of whom?   \n",
       "15                                                                                                                                                                                                                                                                                                                                                                                                                                                                                                                  So, that was eight years before the current conflict started. What was the trigger for you? What was the moment where you decided you had to do this?   \n",
       "16                                                                                                                                                                                                                                                                                                                                                                                                                                                                                                    Was there anyone free to talk to? Did you call the US President, Secretary of State and say if you keep militarizing Ukraine with NATO forces, we are going to act?   \n",
       "17                                                                                                                                                                                                                                                                                                                                                                                                                                                                                                                                                                                              Do you think you have stopped it now? I mean have you achieved your aims?   \n",
       "\n",
       "                                                                                                                                                                                                                                                                                                                                                              1  \\\n",
       "0                                                                                                                                                                                                                                                                                                                 What is denazification? What would that mean?   \n",
       "1                                                                                                                                                                                                                                                                                                  Would you be satisfied with the territory that you have now?   \n",
       "2                                                                                     Really, my question is: What do you do about it? I mean, Hitler has been dead for eighty years, Nazi Germany no longer exists, and it’s true. So, I think, what you are saying, you want to extinguish or at least control Ukrainian nationalism. But how do you do that?   \n",
       "3   Right. My question is almost specific, it was, of course, not a defense of Nazism. Otherwise, it was a practical question. You don't control the entire country, you don’t seem like you want to. So, how do you eliminate that culture, or an ideology, or feelings, or a view of history, in a country that you don’t control? What do you do about that?   \n",
       "4                                                                                                                                                                                               Well, but you would not be speaking to the Ukrainian president, you would be speaking to the American president. When was the last time you spoke to Joe Biden?   \n",
       "5                                                                                                                                                                                                                                                                          But he is funding the war that you are fighting, so I think that would be memorable?   \n",
       "6                                                                                                                                                                                                                                                                                                                                              What did he say?   \n",
       "7                                                                                                                                                                                                                                                                                                  But you haven’t spoken to him since before February of 2022?   \n",
       "8                                                                                               I am definitely interested. But from the other side it seems like it could devolve, evolve into something that brings the entire world into conflict, and could initiate a nuclear launch, and so why don’t you just call Biden and say, “Let’s work this out”?   \n",
       "9                                                                                                                                                                                                                                                                           Do you think NATO was worried about this becoming a global war or nuclear conflict?   \n",
       "10                                                                                                                                                                                 The threat I think you were referring to is Russian invasion of Poland, Latvia – expansionist behaviour. Can you imagine a scenario where you send Russian troops to Poland?   \n",
       "11                                                                                                                                                                                     Well, the argument, I know you know this, is that, well, he invaded Ukraine – he has territorial aims across the continent. And you are saying unequivocally, you don’t?   \n",
       "12                                                                                                          One of our senior United States senators from the State of New York, Chuck Schumer, said yesterday, I believe, that we have to continue to fund the Ukrainian effort or US soldiers, citizens could wind up fighting there. How do you assess that?   \n",
       "13                                                                                                                                                                                                                                                                                                                                     Who blew up Nord Stream?   \n",
       "14                                                                                                                                                                                                                                                                                                            Do you have evidence that NATO or the CIA did it?   \n",
       "15             But I am confused. I mean, that’s the biggest act of industrial terrorism ever and it’s the largest emission of CO₂ in history. Okay, so, if you had evidence and presumably, given your security services, your intel services, you would, that NATO, the US, CIA, the West did this, why wouldn’t you present it and win a propaganda victory?   \n",
       "16                        Yes. But here is a question you may be able to answer. You worked in Germany, famously. The Germans clearly know that their NATO partner did this, that they damaged their economy greatly – it may never recover. Why are they being silent about it? That is very confusing to me. Why wouldn’t the Germans say something about it?   \n",
       "17                                                                                             Well, maybe the world is breaking into two hemispheres. One with cheap energy, the other without it. And I want to ask you that, if we are now a multipolar world, obviously we are, can you describe the blocs or alliances? Who is on each side, do you think?   \n",
       "\n",
       "                                                                                                                                                                                                                                                                                                                                                                                                                                                                                                                                                       2  \n",
       "0                                                                                                                                                                                                                                Well, let’s just give one example — the US dollar, which has, kind of, united the world in a lot of ways, maybe not to your advantage, but certainly to ours. Is that going away as the reserve currency, the universally accepted currency? How have sanctions, do you think, changed the dollar’s place in the world?  \n",
       "1                                                                                                                                                                                                       I think that is a fair assessment. The question is what comes next? And maybe you trade one colonial power for another, much less sentimental and forgiving colonial power? Is the BRICS, for example, in danger of being completely dominated by the Chinese economy? In a way that is not good for their sovereignty. Do you worry about that?  \n",
       "2                                                                                               So, you said a moment ago that the world would be a lot better if it were not broken into competing alliances, if there was cooperation globally. One of the reasons you don’t have that is because the current American administration is dead set against you. Do you think if there was a new administration after Joe Biden that you would be able to re-establish communication with the US government? Or does it not matter who the President is?  \n",
       "3                                                                                                                                         But you are describing two different systems. You say that the leader acts in the interests of the voters, but you also say that these decisions are not made by the leader – they are made by the ruling classes. You have run this country for so long, you have known all these American presidents. What are those power centres in the United States, do you think? And who actually makes the decisions?  \n",
       "4                                                                                                                                     I just have to ask. You have said clearly that NATO expansion eastward is a violation of the promise you were all made in the 1990s. It is a threat to your country. Right before you sent troops into Ukraine the Vice-President of the United States spoke at the Security Conference and encouraged the President of Ukraine to join NATO. Do you think that was an effort to provoke you into military action?  \n",
       "5                                                                                                                                                                                                                                                                                                                                                                                                                                                                    Do you think Zelensky has the freedom to negotiate the settlement to this conflict?  \n",
       "6                                                                                                                                                                                                                                                                                                                                     But do you think at this point – as of February 2024 – he has the latitude, the freedom to speak with you or government directly, which would clearly help his country or the world? Can he do that, do you think?  \n",
       "7                                                                                                                                                                                                                                                                                                                                                                                                                                                                                                           That is a good question. Why did he do that?  \n",
       "8                                                                                                                                                                                                                                                 You have described the connection between Russia and Ukraine; you have described Russia itself, a couple of times as Orthodox – that is central to your understanding of Russia. What does that mean for you? You are a Cristian leader by your own description. So what effect does that have on you?  \n",
       "9                                                                                                                                                                                                                                            Can I say, the one way in which religions are different is that Christianity is specifically a non-violent religion. Jesus says, “Turn the other cheek,” “don’t kill,” and so on. How can a leader who has to kill, of any country, how can a leader be a Christian? How do you reconcile that to yourself?  \n",
       "10                                                                                                                                                                                                                                                                                                                                                         So do you see the supernatural at work? As you look out across what’s happening in the world now, do you see God at work? Do you ever think to yourself: these are forces that are not human?  \n",
       "11                                                                                                                                                                                                                                                                                                                                                                                                                                                                                                        So when does the AI empire start do you think?  \n",
       "12                                                                                                                                                                                                                                                                                                                                                                                                                                                                                                                            What do you think of that?  \n",
       "13  I appreciate all the time you’ve given us. I just want to ask you one last question and it’s about someone who is very famous in the United States, probably not here. Evan Gershkovich who is the Wall Street Journal reporter, he is 32 and he’s been in prison for almost a year. This is a huge story in the United States and I just want to ask you directly without getting into details of your version of what happened, if as a sign of your decency you’ll be willing to release him to us and we’ll bring him back to the United States?  \n",
       "14                                                                                                                                                                        I wonder if that’s true with the war though also, I mean, I guess I want to ask one more question which is, and maybe you don’t want to say so for strategic reasons, but are you worried that what’s happening in Ukraine could lead to something much larger and much more horrible and how motivated are you just to call the US government and say, “let’s come to terms”?  \n",
       "15                                                                                                                                                                                                                                                                                                                                                                                                                    Do you think it is too humiliating at this point for NATO to accept Russian control of what was two years ago Ukrainian territory?  \n",
       "16                                                                                                                                                                                                                                                                                                                                                                                                                                           Would you be willing to say, “Congratulations, NATO, you won?” And just keep the situation where it is now?  \n",
       "17                                                                                                                                                                                                                                                                                                                                                                                                                                                                                                                                                  None  "
      ]
     },
     "execution_count": 27,
     "metadata": {},
     "output_type": "execute_result"
    }
   ],
   "source": [
    "multi_column(tcQuestions, 3)"
   ]
  },
  {
   "cell_type": "markdown",
   "metadata": {},
   "source": [
    "-------\n",
    "\n",
    "## Search engine"
   ]
  },
  {
   "cell_type": "markdown",
   "metadata": {},
   "source": [
    "In this section we make a (mini) search engines of the interview parts obtained above.\n",
    "\n",
    "Here are the steps:\n",
    "\n",
    "1. Make sure the interview parts are associated with unique identifiers that also identify the speakers\n",
    "2. Find the embedding vectors for each part.\n",
    "3. Create a recommendation function that:\n",
    "   - Filters the embeddings according to specified type \n",
    "   - Finds the vector embedding of given query\n",
    "   - Finds the dot products of query-vector with the part-vectors\n",
    "   - Pick the top results"
   ]
  },
  {
   "cell_type": "markdown",
   "metadata": {},
   "source": [
    "Here we make a hash-map of the interview parts obtained above:"
   ]
  },
  {
   "cell_type": "code",
   "execution_count": 28,
   "metadata": {},
   "outputs": [
    {
     "data": {
      "text/plain": [
       "149"
      ]
     },
     "execution_count": 28,
     "metadata": {},
     "output_type": "execute_result"
    }
   ],
   "source": [
    "k = 0\n",
    "parts = {f\"{k} {key}\": value for k, (key, value) in enumerate(parts)}\n",
    "len(parts)"
   ]
  },
  {
   "cell_type": "markdown",
   "metadata": {},
   "source": [
    "Here we find the LLM embedding vectors of the interview parts:"
   ]
  },
  {
   "cell_type": "code",
   "execution_count": 29,
   "metadata": {},
   "outputs": [
    {
     "data": {
      "text/plain": [
       "149"
      ]
     },
     "execution_count": 29,
     "metadata": {},
     "output_type": "execute_result"
    }
   ],
   "source": [
    "from openai import OpenAI\n",
    "client = OpenAI()\n",
    "\n",
    "embs = {key: client.embeddings.create(input=value, model = \"text-embedding-3-large\").data[0].embedding for key, value in parts.items()}\n",
    "len(embs)\n"
   ]
  },
  {
   "cell_type": "markdown",
   "metadata": {},
   "source": [
    "Here is a function to find the most relevant parts of the interview for a given query (using dot product):"
   ]
  },
  {
   "cell_type": "code",
   "execution_count": 30,
   "metadata": {},
   "outputs": [],
   "source": [
    "def top_parts(query, n=3, type='answers'):\n",
    "    vec = client.embeddings.create(input=query, model = \"text-embedding-3-large\").data[0].embedding\n",
    "\n",
    "    if type is None:\n",
    "        type = 'part'\n",
    "\n",
    "    if type in ['part', 'statement']:\n",
    "        embsLocal = embs\n",
    "    elif type in ['answer', 'answers', 'Putin']:\n",
    "        embsLocal = {key: value for key, value in embs.items() if 'Putin' in key}\n",
    "    elif type in ['question', 'questions', 'Carlson', 'Tucker']:\n",
    "        embsLocal = {key: value for key, value in embs.items() if 'Carlson' in key}\n",
    "    else:\n",
    "        raise ValueError(f\"Do not know how to process the {type} argument.\")\n",
    "\n",
    "    sres = {key: sum([v1*v2 for v1, v2 in zip(value, vec)]) for key, value in embsLocal.items()}\n",
    "\n",
    "    sres = sorted(sres.items(), key=lambda x: -x[1])\n",
    "    return [{'Score': score, 'Text': parts[key]} for key, score in sres[:n]]\n"
   ]
  },
  {
   "cell_type": "markdown",
   "metadata": {},
   "source": [
    "Here we find the top 3 results for a query:"
   ]
  },
  {
   "cell_type": "code",
   "execution_count": 31,
   "metadata": {},
   "outputs": [
    {
     "data": {
      "text/html": [
       "<div>\n",
       "<style scoped>\n",
       "    .dataframe tbody tr th:only-of-type {\n",
       "        vertical-align: middle;\n",
       "    }\n",
       "\n",
       "    .dataframe tbody tr th {\n",
       "        vertical-align: top;\n",
       "    }\n",
       "\n",
       "    .dataframe thead th {\n",
       "        text-align: right;\n",
       "    }\n",
       "</style>\n",
       "<table border=\"1\" class=\"dataframe\">\n",
       "  <thead>\n",
       "    <tr style=\"text-align: right;\">\n",
       "      <th></th>\n",
       "      <th>Score</th>\n",
       "      <th>Text</th>\n",
       "    </tr>\n",
       "  </thead>\n",
       "  <tbody>\n",
       "    <tr>\n",
       "      <th>0</th>\n",
       "      <td>0.878272</td>\n",
       "      <td>Who blew up Nord Stream?\\n</td>\n",
       "    </tr>\n",
       "    <tr>\n",
       "      <th>1</th>\n",
       "      <td>0.500830</td>\n",
       "      <td>I was busy that day. I did not blow up Nord Stream.\\n</td>\n",
       "    </tr>\n",
       "    <tr>\n",
       "      <th>2</th>\n",
       "      <td>0.443272</td>\n",
       "      <td>This also confuses me. But today's German leadership is guided by the interests of the collective West rather than its national interests, otherwise it is difficult to explain the logic of their action or inaction. After all, it is not only about Nord Stream-1, which was blown up, and Nord Stream-2 was damaged, but one pipe is safe and sound, and gas can be supplied to Europe through it, but Germany does not open it. We are ready, please.\\nThere is another route through Poland, called Yamal-Europe, which also allows for a large flow. Poland has closed it, but Poland pecks from the German hand, it receives money from pan-European funds, and Germany is the main donor to these pan-European funds. Germany feeds Poland to a certain extent. And they closed the route to Germany. Why? I don't understand.\\nUkraine, to which the Germans supply weapons and give money. Germany is the second sponsor after the United States in terms of financial aid to Ukraine. There are two gas routes through Ukraine. They simply closed one route, the Ukrainians. Open the second route and get gas from Russia. They do not open it. Why don't the Germans say: “Look, guys, we give you money and weapons. Open up the valve, please, let the gas from Russia pass through for us.\\nWe are buying liquefied gas at exorbitant prices in Europe, which brings the level of our competitiveness, and economy in general down to zero. Do you want us to give you money? Let us have a decent existence, make money for our economy, because this is where the money we give you comes from.” They refuse to do so. Why? Ask them. (Knocks on the table.) That is what it is like in their heads. Those are highly incompetent people.\\n</td>\n",
       "    </tr>\n",
       "  </tbody>\n",
       "</table>\n",
       "</div>"
      ],
      "text/plain": [
       "      Score  \\\n",
       "0  0.878272   \n",
       "1  0.500830   \n",
       "2  0.443272   \n",
       "\n",
       "                                                                                                                                                                                                                                                                                                                                                                                                                                                                                                                                                                                                                                                                                                                                                                                                                                                                                                                                                                                                                                                                                                                                                                                                                                                                                                                                                                                                                                                                                                                                                                                                                                                                                                                                                               Text  \n",
       "0                                                                                                                                                                                                                                                                                                                                                                                                                                                                                                                                                                                                                                                                                                                                                                                                                                                                                                                                                                                                                                                                                                                                                                                                                                                                                                                                                                                                                                                                                                                                                                                                                                                                                                                                        Who blew up Nord Stream?\\n  \n",
       "1                                                                                                                                                                                                                                                                                                                                                                                                                                                                                                                                                                                                                                                                                                                                                                                                                                                                                                                                                                                                                                                                                                                                                                                                                                                                                                                                                                                                                                                                                                                                                                                                                                                                                                             I was busy that day. I did not blow up Nord Stream.\\n  \n",
       "2   This also confuses me. But today's German leadership is guided by the interests of the collective West rather than its national interests, otherwise it is difficult to explain the logic of their action or inaction. After all, it is not only about Nord Stream-1, which was blown up, and Nord Stream-2 was damaged, but one pipe is safe and sound, and gas can be supplied to Europe through it, but Germany does not open it. We are ready, please.\\nThere is another route through Poland, called Yamal-Europe, which also allows for a large flow. Poland has closed it, but Poland pecks from the German hand, it receives money from pan-European funds, and Germany is the main donor to these pan-European funds. Germany feeds Poland to a certain extent. And they closed the route to Germany. Why? I don't understand.\\nUkraine, to which the Germans supply weapons and give money. Germany is the second sponsor after the United States in terms of financial aid to Ukraine. There are two gas routes through Ukraine. They simply closed one route, the Ukrainians. Open the second route and get gas from Russia. They do not open it. Why don't the Germans say: “Look, guys, we give you money and weapons. Open up the valve, please, let the gas from Russia pass through for us.\\nWe are buying liquefied gas at exorbitant prices in Europe, which brings the level of our competitiveness, and economy in general down to zero. Do you want us to give you money? Let us have a decent existence, make money for our economy, because this is where the money we give you comes from.” They refuse to do so. Why? Ask them. (Knocks on the table.) That is what it is like in their heads. Those are highly incompetent people.\\n  "
      ]
     },
     "execution_count": 31,
     "metadata": {},
     "output_type": "execute_result"
    }
   ],
   "source": [
    "res1 = top_parts(\"Who blew up NordStream 1 and 2?\", 3, type = 'part')\n",
    "pd.DataFrame(res1)"
   ]
  },
  {
   "cell_type": "code",
   "execution_count": 32,
   "metadata": {},
   "outputs": [
    {
     "data": {
      "text/html": [
       "<div>\n",
       "<style scoped>\n",
       "    .dataframe tbody tr th:only-of-type {\n",
       "        vertical-align: middle;\n",
       "    }\n",
       "\n",
       "    .dataframe tbody tr th {\n",
       "        vertical-align: top;\n",
       "    }\n",
       "\n",
       "    .dataframe thead th {\n",
       "        text-align: right;\n",
       "    }\n",
       "</style>\n",
       "<table border=\"1\" class=\"dataframe\">\n",
       "  <thead>\n",
       "    <tr style=\"text-align: right;\">\n",
       "      <th></th>\n",
       "      <th>Score</th>\n",
       "      <th>Text</th>\n",
       "    </tr>\n",
       "  </thead>\n",
       "  <tbody>\n",
       "    <tr>\n",
       "      <th>0</th>\n",
       "      <td>0.510021</td>\n",
       "      <td>They have been. They reached a very high stage of coordination of positions in a complex process, but still they were almost finalized. But after we withdrew our troops from Kiev, as I have already said, the other side (Ukraine) threw away all these agreements and obeyed the instructions of Western countries, European countries, and the United States to fight Russia to the bitter end.\\nMoreover, the President of Ukraine has legislated a ban on negotiating with Russia. He signed a decree forbidding everyone to negotiate with Russia. But how are we going to negotiate if he forbade himself and everyone to do this? We know that he is putting forward some ideas about this settlement. But in order to agree on something, we need to have a dialogue. Is not that right?\\n</td>\n",
       "    </tr>\n",
       "    <tr>\n",
       "      <th>1</th>\n",
       "      <td>0.447505</td>\n",
       "      <td>Initially, it was the coup in Ukraine that provoked the conflict.\\nBy the way, back then the representatives of three European countries – Germany, Poland and France – arrived. They were the guarantors of the signed agreement between the Government of Yanukovych and the opposition. They signed it as guarantors. Despite that, the opposition staged a coup and all these countries pretended that they didn’t remember that they were guarantors of a peaceful settlement. They just threw it in the stove right away and nobody recalls that.\\nI don’t know if the US know anything about that agreement between the opposition and the authorities and its three guarantors who, instead of bringing this whole situation back in the political field, supported the coup. Although, it was meaningless, believe me. Because President Yanukovych agreed to all conditions, he was ready to hold early election which he had no chance to win, frankly speaking. Everyone knew that.\\nBut then why the coup, why the victims? Why threaten Crimea? Why launch an operation in Donbass? This I do not understand. That is exactly what the miscalculation is. The CIA did its job to complete the coup. I think one of the Deputy Secretaries of State said that it cost a large sum of money, almost 5 billion dollars. But the political mistake was colossal! Why would they have to do that? All this could have been done legally, without victims, without military action, without losing Crimea. We would have never considered to even lift a finger if it hadn’t been for the bloody developments on Maidan.\\nBecause we agreed with the fact that after the collapse of the Soviet Union our borders should be along the borders of former Union’s republics. We agreed to that. But we never agreed to NATO’s expansion and moreover we never agreed that Ukraine would be in NATO. We did not agree to NATO bases there without any discussion with us. For decades we kept urging them: don’t do this, don’t do that.\\nAnd what triggered the latest events? Firstly, the current Ukrainian leadership declared that it would not implement the Minsk agreements, which had been signed, as you know, after the events of 2014, in Minsk, where the plan of a peaceful settlement in Donbass was set forth. But no, the current Ukrainian leadership, foreign minister, all other officials and then President himself said that they don’t like anything about the Minsk agreements. In other words, they were not going to implement them. A year or a year and a half ago, former leaders of Germany and France said openly to the whole world that they indeed signed the Minsk agreements but they never intended to implement them. They simply led us by the nose.\\n</td>\n",
       "    </tr>\n",
       "  </tbody>\n",
       "</table>\n",
       "</div>"
      ],
      "text/plain": [
       "      Score  \\\n",
       "0  0.510021   \n",
       "1  0.447505   \n",
       "\n",
       "                                                                                                                                                                                                                                                                                                                                                                                                                                                                                                                                                                                                                                                                                                                                                                                                                                                                                                                                                                                                                                                                                                                                                                                                                                                                                                                                                                                                                                                                                                                                                                                                                                                                                                                                                                                                                                                                                                                                                                                                                                                                                                                                                                                                                                                                                                                                                                                                                                                                                                                                                                                                                                                                                                                                                                                                   Text  \n",
       "0                                                                                                                                                                                                                                                                                                                                                                                                                                                                                                                                                                                                                                                                                                                                                                                                                                                                                                                                                                                                                                                                                                                                                                                                                                                                                                                                                                                                                                                                                                                                                                                                                                                                                                                                                                                                                                                                                                                                                                                                  They have been. They reached a very high stage of coordination of positions in a complex process, but still they were almost finalized. But after we withdrew our troops from Kiev, as I have already said, the other side (Ukraine) threw away all these agreements and obeyed the instructions of Western countries, European countries, and the United States to fight Russia to the bitter end.\\nMoreover, the President of Ukraine has legislated a ban on negotiating with Russia. He signed a decree forbidding everyone to negotiate with Russia. But how are we going to negotiate if he forbade himself and everyone to do this? We know that he is putting forward some ideas about this settlement. But in order to agree on something, we need to have a dialogue. Is not that right?\\n  \n",
       "1   Initially, it was the coup in Ukraine that provoked the conflict.\\nBy the way, back then the representatives of three European countries – Germany, Poland and France – arrived. They were the guarantors of the signed agreement between the Government of Yanukovych and the opposition. They signed it as guarantors. Despite that, the opposition staged a coup and all these countries pretended that they didn’t remember that they were guarantors of a peaceful settlement. They just threw it in the stove right away and nobody recalls that.\\nI don’t know if the US know anything about that agreement between the opposition and the authorities and its three guarantors who, instead of bringing this whole situation back in the political field, supported the coup. Although, it was meaningless, believe me. Because President Yanukovych agreed to all conditions, he was ready to hold early election which he had no chance to win, frankly speaking. Everyone knew that.\\nBut then why the coup, why the victims? Why threaten Crimea? Why launch an operation in Donbass? This I do not understand. That is exactly what the miscalculation is. The CIA did its job to complete the coup. I think one of the Deputy Secretaries of State said that it cost a large sum of money, almost 5 billion dollars. But the political mistake was colossal! Why would they have to do that? All this could have been done legally, without victims, without military action, without losing Crimea. We would have never considered to even lift a finger if it hadn’t been for the bloody developments on Maidan.\\nBecause we agreed with the fact that after the collapse of the Soviet Union our borders should be along the borders of former Union’s republics. We agreed to that. But we never agreed to NATO’s expansion and moreover we never agreed that Ukraine would be in NATO. We did not agree to NATO bases there without any discussion with us. For decades we kept urging them: don’t do this, don’t do that.\\nAnd what triggered the latest events? Firstly, the current Ukrainian leadership declared that it would not implement the Minsk agreements, which had been signed, as you know, after the events of 2014, in Minsk, where the plan of a peaceful settlement in Donbass was set forth. But no, the current Ukrainian leadership, foreign minister, all other officials and then President himself said that they don’t like anything about the Minsk agreements. In other words, they were not going to implement them. A year or a year and a half ago, former leaders of Germany and France said openly to the whole world that they indeed signed the Minsk agreements but they never intended to implement them. They simply led us by the nose.\\n  "
      ]
     },
     "execution_count": 32,
     "metadata": {},
     "output_type": "execute_result"
    }
   ],
   "source": [
    "res2 = top_parts('Where the Russia-Ukraine negotiations were held?', 2, type = 'answer') \n",
    "pd.DataFrame(res2)"
   ]
  },
  {
   "cell_type": "markdown",
   "metadata": {},
   "source": [
    "------\n",
    "\n",
    "## Flavored variations"
   ]
  },
  {
   "cell_type": "markdown",
   "metadata": {},
   "source": [
    "In this section we show how the spoken parts can be rephrased in the style of certain political celebrities."
   ]
  },
  {
   "cell_type": "markdown",
   "metadata": {},
   "source": [
    "Here are examples of using LLM to rephrase Tucker Carlson's questions into the style of Hillary Clinton:"
   ]
  },
  {
   "cell_type": "code",
   "execution_count": 33,
   "metadata": {},
   "outputs": [
    {
     "name": "stdout",
     "output_type": "stream",
     "text": [
      "====================================================================================================\n",
      "Tucker Carlson: Would you be willing to say, “Congratulations, NATO, you won?” And just keep the situation where it is now?\n",
      "----------------------------------------------------------------------------------------------------\n",
      "Hillary Clinton: Are you prepared to express your utmost admiration and extend heartfelt congratulations to NATO, acknowledging their resounding victory, and maintain the current state of affairs without any further alterations?\n",
      "====================================================================================================\n",
      "Tucker Carlson: Mr. President, thank you.\n",
      "On February 24, 2022, you addressed your country in your nationwide address when the conflict in Ukraine started and you said that you were acting because you had come to the conclusion that the United States through NATO might initiate a quote, “surprise attack on our country.” And to American ears that sounds paranoid. Tell us why you believe the United States might strike Russia out of the blue. How did you conclude that?\n",
      "----------------------------------------------------------------------------------------------------\n",
      "Hillary Clinton: Mr. President, I extend my gratitude for your address to the nation on February 24, 2022, amidst the commencement of the Ukrainian conflict. During your speech, you expressed concerns about the potential of a sudden assault on our nation by the United States through NATO. To many Americans, this notion may appear overly suspicious. Therefore, I kindly request you to elaborate on the reasons behind your belief that the United States could launch an unexpected attack on Russia. How did you arrive at this conclusion?\n"
     ]
    }
   ],
   "source": [
    "for _ in range(2):\n",
    "    q = random.choice(tcQuestions)\n",
    "    print('=' * 100)\n",
    "    print(\"Tucker Carlson:\", q)\n",
    "    print('-' * 100)\n",
    "    q2 = llm_synthesize([\"Rephrase this question in the style of Hillary Clinton:\", q])\n",
    "    print(\"Hillary Clinton:\", q2)\n"
   ]
  },
  {
   "cell_type": "markdown",
   "metadata": {},
   "source": [
    "Here are examples of using LLM to rephrase Vladimir Putin's answers into the style of Donald Trump:"
   ]
  },
  {
   "cell_type": "code",
   "execution_count": 34,
   "metadata": {},
   "outputs": [
    {
     "data": {
      "text/plain": [
       "[\" It's not that the United States was going to launch a surprise strike on Russia, I didn't say so. Are we having a talk show or a serious conversation?\\n\",\n",
       " ' You were initially trained in history, as far as I know?\\n',\n",
       " ' So if you don’t mind I will take only 30 seconds or one minute of your time to give you a brief historical background.\\n',\n",
       " \" Let’s look where our relationship with Ukraine started from. Where does Ukraine come from?\\nThe Russian state started to exist as a centralized state in 862. This is considered to be the year of creation of the Russian state because this year the townspeople of Novgorod (a city in the North-West of the country) invited Rurik, a Varangian prince from Scandinavia, to reign. In 1862, Russia celebrated the 1000th anniversary of its statehood, and in Novgorod there is a memorial dedicated to the 1000th anniversary of the country.\\nIn 882, Rurik's successor Prince Oleg, who was, actually, playing the role of regent for Rurik’s young son because Rurik had died by that time, came to Kiev. He ousted two brothers who, apparently, had once been members of Rurik's retinue. So, Russia began to develop with two centres of power, in Kiev and in Novgorod.\\nThe next, very significant date in the history of Russia, was 988. This was the Baptism of Russia, when Prince Vladimir, the great-grandson of Rurik, baptized Russia and adopted Orthodoxy, or Eastern Christianity. From this time the centralized Russian state began to strengthen. Why? Because of a single territory, integrated economic ties, one and the same language and, after the Baptism of Russia, the same faith and rule of the Prince. A centralized Russian state began to take shape.\\nBack in the Middle Ages, Prince Yaroslav the Wise introduced the order of succession to the throne, but after he passed away, it became complicated for various reasons. The throne was passed not directly from father to eldest son, but from the prince who had passed away to his brother, then to his sons in different lines. All this led to the fragmentation of Rus as a single state. There was nothing special about it, the same was happening then in Europe. But the fragmented Russian state became an easy prey to the empire created earlier by Genghis Khan. His successors, namely, Batu Khan, came to Rus, plundered and ruined nearly all the cities. The southern part, including Kiev, by the way, and some other cities, simply lost independence, while northern cities preserved some of their sovereignty. They had to pay tribute to the Horde, but they managed to preserve some part of their sovereignty. And then a unified Russian state began to take shape with its centre in Moscow.\\nThe southern part of the Russian lands, including Kiev, began to gradually gravitate towards another “magnet” – the centre that was emerging in Europe. This was the Grand Duchy of Lithuania. It was even called the Lithuanian-Russian Duchy because Russians were a significant part of its population. They spoke the Old Russian language and were Orthodox. But then there was a unification, the union of the Grand Duchy of Lithuania and the Kingdom of Poland. A few years later, another union was signed, but this time already in the religious sphere. Some of the Orthodox priests became subordinate to the Pope. Thus, these lands became part of the Polish-Lithuanian state.\\nFor decades, the Poles were engaged in the “Polonization” of this part of the population: they introduced their language there, tried to entrench the idea that this population was not exactly Russians, that because they lived on the fringe (u kraya) they were “Ukrainians.” Originally, the word ‘Ukrainian’ meant that a person was living on the outskirts of the state, near the fringe, or was engaged in border service. It didn't mean any particular ethnic group.\\nSo, the Poles were trying in every possible way to polonize that part of the Russian lands and actually treated it rather harshly, not to say cruelly. All that led to the fact that that part of the Russian lands began to struggle for their rights. They wrote letters to Warsaw demanding that their rights be observed and that people be commissioned there, including to Kiev…\\n\",\n",
       " \" It was in the 13th century.\\nNow I will tell what happened next and give the dates so that there is no confusion.\\nThen in 1654, even a bit earlier, the people who were in control of the authority over that part of the Russian lands, addressed Warsaw, I repeat, demanding their rights be observed that they send to them rulers of Russian origin and Orthodox faith. When Warsaw did not answer them and in fact rejected their demands, they turned to Moscow so that Moscow took them under its rule.\\nSo that you don't think that I am inventing things… I'll give you these documents…\\n\",\n",
       " ' But still, these are documents from the archives, copies. Here are letters from Bogdan Khmelnitsky, the man who then controlled the power in that part of the Russian lands that is now called Ukraine. He wrote to Warsaw demanding that their rights be upheld, and after being refused, he began to write letters to Moscow asking to take them under the strong hand of the Moscow Tsar. Here are copies of these documents. I will leave them for your good memory. There is a translation into Russian, you can translate it into English later.\\nRussia did not agree to admit them straight away, assuming that would trigger a war with Poland. Nevertheless, in 1654, the Zemsky Sobor, which was a representative body of power of the Old Russian state, made the decision: those Old Russian lands became part of the Tsardom of Muscovy.\\nAs expected, the war with Poland began. It lasted 13 years, and then a truce was concluded. In all, after that act of 1654, 32 years later, I think, a peace treaty with Poland was concluded, “the eternal peace,” as it said. And those lands, the whole left bank of the Dnieper, including Kiev, reverted to Russia, while the entire right bank of the Dnieper remained in possession of Poland.\\nUnder the rule of Catherine the Great, Russia reclaimed all of its historical lands, including in the south and west. This all lasted until the Revolution. Before World War I, the Austrian General Staff, relying on the ideas of Ukrainianization, started to actively promote the ideas of Ukraine and the Ukrainianization. Their motive was obvious. Just before World War I, they wanted to weaken the potential enemy and secure themselves favourable conditions in the border area. So this idea which had emerged in Poland that people residing in that territory were allegedly not really Russians, but rather belonged to a special ethnic group, the Ukrainians, started to be promoted by the Austrian General Staff too.\\nAs far back as the 19th century, theorists calling for Ukrainian independence appeared. All those, however, claimed that Ukraine should have a very good relationship with Russia. They insisted on that. After the 1917 Revolution, the Bolsheviks sought to restore the statehood, and the Civil War began, including the hostilities with Poland. In 1921, peace with Poland was proclaimed, and under that treaty, the right bank of the Dnieper River once again was given back to Poland.\\nIn 1939, after Poland cooperated with Hitler — it did collaborate with Hitler, you know —Hitler offered Poland peace and a treaty of friendship and alliance (we have all the relevant documents in the archives), demanding in return that Poland give back to Germany the so-called Danzig Corridor, which connected the bulk of Germany with East Prussia and Konigsberg. After World War I this territory was transferred to Poland, and instead of Danzig, a city of Gdansk emerged. Hitler asked them to give it amicably, but the Poles refused. Still they collaborated with Hitler and engaged together in the partitioning of Czechoslovakia.\\n',\n",
       " ' I’ll tell you. I’m coming to that. This briefing is coming to an end. It might be boring, but it explains many things.\\n',\n",
       " ' Good. Good. I am so gratified that you appreciate that. Thank you.\\nSo, before World War II, Poland collaborated with Hitler and although it did not yield to Hitler’s demands, it still participated in the partitioning of Czechoslovakia together with Hitler. As the Poles had not given the Danzig Corridor to Germany, and went too far, they pushed Hitler to start World War II by attacking them. Why was it Poland against whom the war started on September 1, 1939? Poland turned out to be uncompromising, and Hitler had nothing else to do but start implementing his plans with Poland.\\nBy the way, the USSR — I have read some archival documents — behaved very honestly. It asked Poland’s permission to transit its troops through the Polish territory to help Czechoslovakia. But the then Polish foreign minister said that if the Soviet planes head to Czechoslovakia, they would be downed over the territory of Poland. But that doesn’t matter. What matters is that the war began, and Poland fell prey to the policies it had pursued against Czechoslovakia, as under the well-known Molotov-Ribbentrop Pact, part of that territory, including western Ukraine, was to be given to Russia. Thus Russia, which was then named the USSR, regained its historical lands.\\nAfter the victory in the Great Patriotic War, as we call World War II, all those territories were ultimately enshrined as belonging to Russia, to the USSR. As for Poland, it received, apparently in compensation, the western lands which had originally been German: the eastern parts of Germany (these are now western lands of Poland). Of course, Poland regained access to the Baltic sea, and Danzig, which was once again given its Polish name. So this was how this situation developed.\\nIn 1922, when the USSR was being established, the Bolsheviks started building the USSR and established the Soviet Ukraine, which had never existed before.\\n',\n",
       " ' Stalin insisted that those republics be included in the USSR as autonomous entities. For some inexplicable reason, Lenin, the founder of the Soviet state, insisted that they be entitled to withdraw from the USSR. And, again for some unknown reasons, he transferred to that newly established Soviet Republic of Ukraine some of the lands together with people living there, even though those lands had never been called Ukraine; and yet they were made part of that Soviet Republic of Ukraine. Those lands included the Black Sea region, which was received under Catherine the Great and which had no historical connection with Ukraine whatsoever.\\nEven if we go as far back as 1654, when those lands returned to the Russian Empire, that territory included three or four regions of modern Ukraine, with no Black Sea region. That was completely out of the question.\\n',\n",
       " ' Exactly.\\n',\n",
       " ' The Soviet Ukraine was given a great deal of territory that had never belonged to it, including the Black Sea region. At some point, when Russia received them as an outcome of the Russo-Turkish wars, they were called “New Russia,” or Novorossiya. But that does not matter. What matters is that Lenin, the founder of the Soviet State, established Ukraine that way. For decades, the Ukrainian Soviet Republic developed as part of the USSR, and for unknown reasons again, the Bolsheviks were engaged in Ukrainianization. It was not merely because the Soviet leadership was composed to a great extent of those originating from Ukraine. Rather, it was explained by the general policy of indigenization pursued by the Soviet Union. Same things were done in other Soviet republics. This involved promoting national languages and national cultures, which is not bad in principle. That is how the Soviet Ukraine was created.\\nAfter World War II, Ukraine received, in addition to the lands that had belonged to Poland before the war, part of the lands that had previously belonged to Hungary and Romania (known today as Western Ukraine). So Romania and Hungary had some of their lands taken away and given to the Ukraine and they still remain part of Ukraine. So in this sense, we have every reason to affirm that Ukraine is an artificial state that was shaped at Stalin’s will.\\n',\n",
       " ' I am not sure whether they should go back to the 1654 borders, but given Stalin’s time, the so-called Stalin’s regime — which, as many claim, saw numerous violations of human rights and violations of the rights of other states. In this sense it is quite possible, of course, to claim back those lands, if we are not talking about their having the right to do that, it is at least understandable…\\n',\n",
       " \" Never. I have never told him that. Not a single time. We have not even had any conversation on that, but I actually know for sure that Hungarians who live there wanted to return to their historical homeland.\\nMoreover, I would like to share a very interesting story with you, I'll digress, it's a personal one. Somewhere in the early 80's, I went on a road trip in a car from then-Leningrad (now St. Petersburg) across the Soviet Union through Kiev, made a stop in Kiev, and then went to Western Ukraine. I went to the town of Beregovo, and all the names of towns and villages there were in Russian and in a language I didn't understand – in Hungarian. In Russian and in Hungarian. Not in Ukrainian – in Russian and in Hungarian.\\nI was driving through some kind of a village and there were men sitting next to the houses and they were wearing black three-piece suits and black cylinder hats. I asked, “Are they some kind of entertainers?” I was told, “No, they're not entertainers. They're Hungarians.” I said, “What are they doing here?” — “What do you mean? This is their land, they live here.” This was during the Soviet time, in the 1980’s. They preserve the Hungarian language, Hungarian names, and all their national costumes. They are Hungarians and they feel themselves to be Hungarians. And of course, when now there is an infringement….\\n\",\n",
       " \" I understand that my long speeches probably fall outside of the genre of an interview. That is why I asked you at the beginning: “Are we going to have a serious talk or a show?” You said — a serious talk. So bear with me please.\\nWe are coming to the point where the Soviet Ukraine was established. Then, in 1991, the Soviet Union collapsed. And everything that Russia had generously bestowed on Ukraine was “dragged away” by the latter.\\nI’m coming to a very important point of today's agenda. After all, the collapse of the Soviet Union was effectively initiated by the Russian leadership. I do not understand what the Russian leadership was guided by at the time, but I suspect there were several reasons to think everything would be fine.\\nFirst, I think that the then Russian leadership believed that the fundamentals of the relationship between Russia and Ukraine were: in fact, a common language — more than 90 percent of the population there spoke Russian; family ties — every third person there had some kind of family or friendship ties; common culture; common history; finally, common faith; co-existence within a single state for centuries; and deeply interconnected economies. All of these were so fundamental. All these elements together make our good relations inevitable.\\nThe second point is a very important one. I want you as an American citizen and your viewers to hear about this as well. The former Russian leadership assumed that the Soviet Union had ceased to exist and therefore there were no longer any ideological dividing lines. Russia even agreed, voluntarily and proactively, to the collapse of the Soviet Union and believed that this would be understood by the so-called (now in scare quotes) “civilized West” as an invitation for cooperation and associateship. That is what Russia was expecting both from the United States and the so-called collective West as a whole.\\nThere were smart people, including in Germany. Egon Bahr, a major politician of the Social Democratic Party, who insisted in his personal conversations with the Soviet leadership on the brink of the collapse of the Soviet Union that a new security system should be established in Europe. Help should be given to unify Germany, but a new system should also be established to include the United States, Canada, Russia, and other Central European countries. But NATO needs not to expand. That's what he said: if NATO expands, everything would be just the same as during the Cold War, only closer to Russia's borders. That's all. He was a wise old man, but no one listened to him. In fact, he got angry once (we have a record of this conversation in our archives): “If, he said, you don't listen to me, I'm never setting my foot in Moscow again.” He was frustrated with the Soviet leadership. He was right, everything happened just as he had said.\\n\",\n",
       " \" The West is afraid of a strong China more than it fears a strong Russia because Russia has 150 million people, and China has a 1.5 billion population, and its economy is growing by leaps and bounds — over five percent a year, it used to be even more. But that's enough for China. As Bismark once put it, potentials are most important. China's potential is enormous — it is the biggest economy in the world today in terms of purchasing power parity and the size of the economy. It has already overtaken the United States, quite a long time ago, and it is growing at a fast clip.\\nLet's not talk about who is afraid of whom, let's not reason in such terms. And let's get into the fact that after 1991, when Russia expected that it would be welcomed into the brotherly family of “civilized nations,” nothing like that happened. You tricked us (I don't mean you personally when I say “you,” of course, I'm talking about the United States), the promise was that NATO would not expand eastward, but it happened five times, there were five waves of expansion. We tolerated all that, we were trying to persuade them, we were saying: “Please don't, we are as bourgeois now as you are, we are a market economy, and there is no Communist Party power. Let's negotiate.”\\nMoreover, I have also said this publicly before (let's look at Yeltsin's times now), there was a moment when a certain rift started growing between us. Before that, Yeltsin came to the United States, remember, he spoke in Congress and said the good words: “God bless America.” Everything he said were signals — let us in.\\nNo. Remember the developments in Yugoslavia. Before that Yeltsin was lavished with praise, as soon as the developments in Yugoslavia started, he raised his voice in support of Serbs, and we couldn't but raise our voices for Serbs in their defense. I understand that there were complex processes underway there, I do. But Russia could not help raising its voice in support of Serbs, because Serbs are also a special and close to us nation, with Orthodox culture and so on. It's a nation that has suffered so much for generations. Well, regardless, what is important is that Yeltsin expressed his support. What did the United States do? In violation of international law and the UN Charter it started bombing Belgrade.\\nIt was the United States that let the genie out of the bottle. Moreover, when Russia protested and expressed its resentment, what was said? The UN Charter and international law have become obsolete. Now everyone invokes international law, but at that time they started saying that everything is outdated, everything has to be changed.\\nIndeed, some things need to be changed as the balance of power has changed, it's true, but not in this manner. Yeltsin was immediately dragged through the mud, accused of alcoholism, of understanding nothing, of knowing nothing. He understood everything, I assure you.\\nWell, I became President in 2000. I thought: okay, the Yugoslav issue is over, but we should try to restore relations. Let's reopen the door that Russia had tried to go through. And moreover, I've said it publicly, I can reiterate. At a meeting here in the Kremlin with the outgoing President Bill Clinton, right here in the next room, I said to him, I asked him, “Bill, do you think if Russia asked to join NATO, do you think it would happen?” Suddenly he said: “You know, it's interesting, I think yes.” But in the evening, when we had dinner, he said, “You know, I've talked to my team, no-no, it's not possible now.” You can ask him, I think he will watch our interview, he'll confirm it. I wouldn't have said anything like that if it hadn't happened. Okay, well, it's impossible now.\\n\",\n",
       " \" Look, I asked the question, “Is it possible or not?” And the answer I got was no. If I was insincere in my desire to find out what the leadership's position was…\\n\",\n",
       " \" If he had said yes, the process of rapprochement would have commenced, and eventually it might have happened if we had seen some sincere desire on the part of our partners. But it didn't happen. Well, no means no, okay, fine.\\n\",\n",
       " \" You said I was bitter about the answer. No, it's not bitterness, it's just a statement of fact. We're not the bride and groom, bitterness, resentment, it's not about those kinds of matters in such circumstances. We just realised we weren't welcome there, that's all. Okay, fine. But let's build relations in another manner, let's look for common ground elsewhere. Why we received such a negative response, you should ask your leader. I can only guess why: too big a country, with its own opinion and so on. And the United States – I have seen how issues are being resolved in NATO.\\nI will give you another example now, concerning Ukraine. The US leadership exerts pressure, and all NATO members obediently vote, even if they do not like something. Now, I'll tell you what happened in this regard with Ukraine in 2008, although it's being discussed, I’m not going to open a secret to you, say anything new. Nevertheless, after that, we tried to build relations in different ways. For example, the events in the Middle East, in Iraq, we were building relations with the United States in a very soft, prudent, cautious manner.\\nI repeatedly raised the issue that the United States should not support separatism or terrorism in the North Caucasus. But they continued to do it anyway. And political support, information support, financial support, even military support came from the United States and its satellites for terrorist groups in the Caucasus.\\nI once raised this issue with my colleague, also the President of the United States. He says, “It’s impossible! Do you have proof?” I said, “Yes.” I was prepared for this conversation and I gave him that proof. He looked at it and, you know what he said? I apologise, but that's what happened, I'll quote. He says, “Well, I’m going to kick their ass.” We waited and waited for some response – there was none.\\nI said to the FSB Director: “Write to the CIA. What is the result of the conversation with the President?” He wrote once, twice, and then we got a reply. We have the answer in the archive. The CIA replied: “We have been working with the opposition in Russia. We believe that this is the right thing to do and we will keep on doing it.” Just ridiculous. Well, okay. We realised that it was out of the question.\\n\",\n",
       " \" Of course, they meant in that particular case the separatists, the terrorists who fought with us in the Caucasus. That's who they called the opposition. This is the second point.\\nThe third moment, a very important one, is the moment when the US missile defense (ABM) system was created. The beginning. We tried for a long time to persuade the United States not to do it. Moreover, after I was invited by Bush Jr.’s father, Bush Sr. to visit his place on the ocean, I had a very serious conversation with President Bush and his team. I proposed that the United States, Russia and Europe jointly create a missile defense system that, we believe, if created unilaterally, threatens our security, despite the fact that the United States officially said that it was being created against missile threats from Iran. That was the justification for the deployment of the missile defense system. I suggested working together – Russia, the United States and Europe. They said it was very interesting. They asked me, “Are you serious?” I said, “Absolutely.”\\n\",\n",
       " \" I don't remember. It is easy to find out on the Internet, when I was in the USA at the invitation of Bush Sr. It is even easier to learn it now from a person I’ll name.\\nI was told it was very interesting. I said, “Just imagine if we could tackle such a global, strategic security challenge together. The world would change. We'll probably have disputes, probably economic and even political ones, but we could drastically change the situation in the world.” He says, “Yes.” And asks: “Are you serious?” I said, “Of course.” “We need to think about it,” I was told. I said, “Okay.”\\nThen Secretary of Defense [Robert] Gates, former Director of the CIA, and Secretary of State [Condoleezza] Rice came here, to this cabinet. Right here, at this table, they sat on this side. Me, the Foreign Minister, the Russian Defense Minister – on that side. They said to me, “Okay, we have thought about it, we agree.” I said, “Thank God, great.” – “But with some exceptions.”\\n\",\n",
       " \" That's right, that's right. In the end they just told us to get lost. I am not going to tell you the details, because I think it is incorrect, after all, it was a confidential conversation. But our proposal was declined, that’s a fact.\\nIt was right then when I said: “Look, but then we will be forced to take counter measures. We will create such strike systems that will certainly overcome missile defense systems.” The answer was: “We are not doing this against you, and you do what you want, assuming that it is not against us, not against the United States.” I said, “Okay.”\\nVery well, that’s the way it went. And we created hypersonic systems, with intercontinental missiles, and we continue to develop them. We are now ahead of everyone – the United States and other countries – in terms of the development of hypersonic strike systems, and we are improving them every day.\\nBut it wasn’t us, we proposed to go the other way, and we were pushed back.\\nNow, about NATO's expansion to the East. Well, we were promised, no NATO to the East, not an inch to the East, as we were told. And then what? They said, “Well, it's not enshrined on paper, so we'll expand.” There were five waves of expansion, the Baltic states, the whole of Eastern Europe, and so on.\\nAnd now I come to the main thing: they have come to Ukraine ultimately. In 2008 at the summit in Bucharest they declared that the doors for Ukraine and Georgia to join NATO were open.\\nNow about how decisions are made there. Germany, France seemed to be against it as well as some other European countries. But then, as it turned out later, President Bush, and he is such a tough guy, a tough politician, as I was told later, “He exerted pressure on us and we had to agree.” It's ridiculous, it's like kindergarten. What are the guarantees? What kind of kindergarten is this, what kind of people are these, who are they? You see, they were pressed, they agreed. And then they say, “Ukraine won't be in NATO, you know.” I say, “I don't know, I know you agreed in 2008, why won't you agree in the future?” “Well, they pressed us then.” I say, “Why won't they press you tomorrow? And you'll agree again.”\\nWell, it's nonsensical. Who's there to talk to, I just don't understand. We're ready to talk. But with whom? What are the guarantees? There are none.\\nSo, they started to develop the territory of Ukraine. Whatever is there, I have told you the background, how this territory developed, what kind of relations there were with Russia. Every second or third person there has always had some ties with Russia. And during the elections in already independent, sovereign Ukraine, which gained its independence as a result of the Declaration of Independence, and, by the way, it says that Ukraine is a neutral state, and in 2008 suddenly the doors or gates to NATO were open to it. Oh, come on! This is not how we agreed. Now, all the presidents that have come to power in Ukraine, they've relied on the electorate with a good attitude to Russia in one way or another. This is the south-east of Ukraine, this is a large number of people. And it was very difficult to dissuade this electorate, which had a positive attitude towards Russia.\\nViktor Yanukovych came to power, and how: the first time he won after President Kuchma – they organised a third round, which is not provided for in the Constitution of Ukraine. This is a coup d'état. Just imagine, someone in the United States wouldn’t like the outcome…\\n\",\n",
       " ' No, before that. This was before that. After President Kuchma, Viktor Yanukovych won the elections. However, his opponents did not recognize that victory, the US supported the opposition and the third round was scheduled. What is this? This is a coup. The US supported it and the winner of the third round came to power. Imagine if in the US, something was not to someone’s liking and the third round of election, which the US Constitution does not provide for, was organized, Nonetheless, it was done in Ukraine. Okay, Viktor Yushchenko who was considered a pro-Western politician, came to power. Fine, we have built relations with him as well. He came to Moscow with visits, we visited Kiev. I visited it too. We met in an informal setting. If he is pro-Western, so be it. It’s fine, let people do their job. The situation should develop inside the independent Ukraine itself. As a result of Kuchma’s leadership, things got worse and Viktor Yanukovych came to power after all.\\nMaybe he wasn’t the best president and politician. I don’t know, I don’t want to give assessments. However, the issue of the association with the EU came up. We have always been lenient to this: suit yourself. But when we read through that treaty of association it turned out to be a problem for us, since we had a free-trade zone and open customs borders with Ukraine which, under this association, had to open its borders for Europe, which could have led to flooding of our market.\\nWe said, “No, this is not going to work. We shall close our borders with Ukraine then”. The customs borders, that is. Yanukovych started to calculate how much Ukraine was going to gain, how much to lose and said to his European partners: “I need more time to think before signing.” The moment he said that, the opposition began to take destructive steps which were supported by the West. It all came down to Maidan and a coup in Ukraine.\\n',\n",
       " ' Of course. It’s not even the matter of trade volume, although for the most part it is. It is the matter of cooperation ties which the entire Ukrainian economy was based on. The cooperation ties between enterprises were very close since the times of the Soviet Union. One enterprise there used to produce components to be assembled both in Russia and Ukraine and vice versa. There used to be very close ties.\\nA coup d’état was staged, although, I shall not delve into details now as I find doing it inappropriate, the US told us, “Calm Yanukovych down and we will calm the opposition. Let the situation unfold according to the scenario of a political settlement.” We said, “Alright. Agreed. Let’s do it this way.” As the Americans requested us, Yanukovych did use neither the Armed Forces nor the police, yet the armed opposition staged a coup in Kiev. What is that supposed to mean? “Who do you think you are?”, I wanted to ask the then US leadership.\\n',\n",
       " ' With the backing of the CIA, of course. The organization you wanted to join back in the day, as I understand. Maybe we should thank God they didn’t let you in. Although, it is a serious organization. I understand. My former vis-à-vis, in the sense that I served in the First Main Directorate – Soviet Union’s intelligence service. They have always been our opponents. Work is work.\\nTechnically they did everything right, they achieved their goal of changing the government. However, from a political standpoint, it was a colossal mistake. Surely, it was political leadership’s miscalculation. They should have seen what it would evolve into.\\nSo, in 2008 the doors of NATO were opened for Ukraine. In 2014, there was a coup, they started persecuting those who did not accept the coup, and it was indeed a coup, they created a threat to Crimea which we had to take under our protection. They launched a war in Donbass in 2014, using aircraft and artillery against civilians. This is when it started. There is a video of aircraft attacking Donetsk from above. They launched a large-scale military operation, then another one. When they failed, they started to prepare the next one. All this against the background of military development of this territory and opening of NATO’s doors.\\nHow could we not express concern over what was happening? From our side, this would have been a culpable negligence – that’s what it would have been. It’s just that the US political leadership pushed us to the line we could not cross because doing so could have ruined Russia itself. Besides, we could not leave our brothers in faith and, in fact, a part of Russian people, in the face of this “war machine.”\\n',\n",
       " ' Initially, it was the coup in Ukraine that provoked the conflict.\\nBy the way, back then the representatives of three European countries – Germany, Poland and France – arrived. They were the guarantors of the signed agreement between the Government of Yanukovych and the opposition. They signed it as guarantors. Despite that, the opposition staged a coup and all these countries pretended that they didn’t remember that they were guarantors of a peaceful settlement. They just threw it in the stove right away and nobody recalls that.\\nI don’t know if the US know anything about that agreement between the opposition and the authorities and its three guarantors who, instead of bringing this whole situation back in the political field, supported the coup. Although, it was meaningless, believe me. Because President Yanukovych agreed to all conditions, he was ready to hold early election which he had no chance to win, frankly speaking. Everyone knew that.\\nBut then why the coup, why the victims? Why threaten Crimea? Why launch an operation in Donbass? This I do not understand. That is exactly what the miscalculation is. The CIA did its job to complete the coup. I think one of the Deputy Secretaries of State said that it cost a large sum of money, almost 5 billion dollars. But the political mistake was colossal! Why would they have to do that? All this could have been done legally, without victims, without military action, without losing Crimea. We would have never considered to even lift a finger if it hadn’t been for the bloody developments on Maidan.\\nBecause we agreed with the fact that after the collapse of the Soviet Union our borders should be along the borders of former Union’s republics. We agreed to that. But we never agreed to NATO’s expansion and moreover we never agreed that Ukraine would be in NATO. We did not agree to NATO bases there without any discussion with us. For decades we kept urging them: don’t do this, don’t do that.\\nAnd what triggered the latest events? Firstly, the current Ukrainian leadership declared that it would not implement the Minsk agreements, which had been signed, as you know, after the events of 2014, in Minsk, where the plan of a peaceful settlement in Donbass was set forth. But no, the current Ukrainian leadership, foreign minister, all other officials and then President himself said that they don’t like anything about the Minsk agreements. In other words, they were not going to implement them. A year or a year and a half ago, former leaders of Germany and France said openly to the whole world that they indeed signed the Minsk agreements but they never intended to implement them. They simply led us by the nose.\\n',\n",
       " ' We talked about this all the time. We addressed the United States’ and European countries’ leadership to stop these developments immediately, to implement the Minsk agreements. Frankly speaking, I didn’t know how we were going to do this but I was ready to implement them. These agreements were complicated for Ukraine; they included lots of elements of those Donbass territories’ independence. That’s true. However, I was absolutely confident, and I am saying this to you now: I honestly believed that if we managed to convince the residents of Donbass – and we had to work hard to convince them to return to the Ukrainian statehood – then gradually the wounds would start to heal. When this part of territory reintegrated itself into common economic, social environment, when the pensions and social benefits were paid again, all the pieces would gradually fall into place.\\nNo, nobody wanted that, everybody wanted to resolve the issue by military force only. But we could not let that happen.\\nAnd the situation got to the point, when the Ukrainian side announced: “No, we will not implement anything.” They also started preparing for military action. It was they who started the war in 2014. Our goal is to stop this war. And we did not start this war in 2022. This is an attempt to stop it.\\n',\n",
       " \" No, we haven't achieved our aims yet, because one of them is denazification. This means the prohibition of all kinds of neo-Nazi movements. This is one of the problems that we discussed during the negotiation process, which ended in Istanbul early last year, and it was not our initiative, because we were told (by the Europeans, in particular) that “it was necessary to create conditions for the final signing of the documents.” My counterparts in France and Germany said, “How can you imagine them signing a treaty with a gun to their heads? The troops should be pulled back from Kiev.” I said, “All right.” We withdrew the troops from Kiev.\\nAs soon as we pulled back our troops from Kiev, our Ukrainian negotiators immediately threw all our agreements reached in Istanbul into the bin and got prepared for a longstanding armed confrontation with the help of the United States and its satellites in Europe. That is how the situation has developed. And that is how it looks now.\\n\",\n",
       " \" That is what I want to talk about right now. It is a very important issue.\\nDenazification. After gaining independence, Ukraine began to search, as some Western analysts say, its identity. And it came up with nothing better than to build this identity upon some false heroes who collaborated with Hitler.\\nI have already said that in the early 19th century, when the theorists of independence and sovereignty of Ukraine appeared, they assumed that an independent Ukraine should have very good relations with Russia. But due to the historical development, these territories were part of the Polish-Lithuanian Commonwealth – Poland, where Ukrainians were persecuted and treated quite brutally and were subjected to cruel behaviour. There were also attempts to destroy their identity. All this remained in the memory of the people. When World War II broke out, part of this extremely nationalist elite collaborated with Hitler, believing that he would bring them freedom. The German troops, even the SS troops made Hitler's collaborators do the dirtiest work of exterminating the Polish and Jewish population. Hence this brutal massacre of the Polish and Jewish population as well as the Russian population too. This was led by the persons who are well known – Bandera, Shukhevich. It was these people who were made national heroes – that is the problem. And we are constantly told that nationalism and neo-Nazism exist in other countries as well. Yes, there are seedlings, but we uproot them, and other countries fight against them. But Ukraine is not the case. These people have been turned into national heroes in Ukraine. Monuments to these people have been erected, they are displayed on flags, their names are shouted by crowds that walk with torches, as it was in Nazi Germany. These were the people who exterminated Poles, Jews and Russians. It is necessary to stop this practice and prevent the dissemination of this concept.\\nI say that Ukrainians are part of the one Russian people. They say, “No, we are a separate people.” Okay, fine. If they consider themselves a separate people, they have the right to do so, but not on the basis of Nazism, the Nazi ideology.\\n\",\n",
       " ' I will finish answering the question. You just asked a question about neo-Nazism and denazification.\\nLook, the President of Ukraine visited Canada. This story is well known but is silenced in the Western countries: The Canadian parliament introduced a man who, as the speaker of the parliament said, fought against the Russians during World War II. Well, who fought against the Russians during World War II? Hitler and his accomplices. It turned out that this man served in the SS troops. He personally killed Russians, Poles, and Jews. The SS troops consisted of Ukrainian nationalists who did this dirty work. The President of Ukraine stood up with the entire Parliament of Canada and applauded this man. How can this be imagined? The President of Ukraine himself, by the way, is a Jew by nationality.\\n',\n",
       " ' Listen to me. Your question is very subtle.\\nAnd can I tell you what I think? Do not take offense.\\n',\n",
       " \" This question appears to be subtle, it is quite pesky.\\nYou say Hitler has been dead for so many years, 80 years. But his example lives on. People who exterminated Jews, Russians and Poles are alive. And the President, the current President of today's Ukraine applauds him in the Canadian Parliament, gives a standing ovation! Can we say that we have completely uprooted this ideology if what we see is happening today? That is what denazification is in our understanding. We have to get rid of those people who maintain this concept and support this practice and try to preserve it – that is what denazification is. That is what we mean.\\n\",\n",
       " ' You know, as strange as it may seem to you, during the negotiations in Istanbul we did agree that – we have it all in writing – neo-Nazism would not be cultivated in Ukraine, including that it would be prohibited at the legislative level.\\nMr. Carlson, we agreed on that. This, it turns out, can be done during the negotiation process. And there is nothing humiliating for Ukraine as a modern civilized state. Is any state allowed to promote Nazism? It is not, is it? That is it.\\n',\n",
       " ' They have been. They reached a very high stage of coordination of positions in a complex process, but still they were almost finalized. But after we withdrew our troops from Kiev, as I have already said, the other side (Ukraine) threw away all these agreements and obeyed the instructions of Western countries, European countries, and the United States to fight Russia to the bitter end.\\nMoreover, the President of Ukraine has legislated a ban on negotiating with Russia. He signed a decree forbidding everyone to negotiate with Russia. But how are we going to negotiate if he forbade himself and everyone to do this? We know that he is putting forward some ideas about this settlement. But in order to agree on something, we need to have a dialogue. Is not that right?\\n',\n",
       " ' I cannot remember when I talked to him. I do not remember, we can look it up.\\n',\n",
       " ' No, why? Do I have to remember everything? I have my own things to do. We have domestic political affairs.\\n',\n",
       " ' Well, yes, he funds, but I talked to him before the special military operation, of course. And I said to him then, by the way – I will not go into details, I never do – but I said to him then: “I believe that you are making a huge mistake of historic proportions by supporting everything that is happening there, in Ukraine, by pushing Russia away.” I told him, told him repeatedly, by the way. I think that would be correct if I stop here.\\n',\n",
       " ' Ask him, please. It is easier for you, you are a citizen of the United States, go and ask him. It is not appropriate for me to comment on our conversation.\\n',\n",
       " \" No, we haven't spoken. Certain contacts are being maintained though. Speaking of which, do you remember what I told you about my proposal to work together on a missile defense system?\\n\",\n",
       " ' You can ask all of them. All of them are safe and sound, thank God. The former President, Condoleezza [Rice] is safe and sound, and, I think, Mr. Gates, and the current Director of the Central Intelligence Agency, Mr. Burns, the then Ambassador to Russia, in my opinion, a very successful Ambassador. They were all witnesses to these conversations. Ask them.\\nSame here, if you are interested in what Mr. President Biden responded to me, ask him. At any rate, I talked to him about it.\\n',\n",
       " \" What's there to work out? It's very simple. I repeat, we have contacts through various agencies. I will tell you what we are saying on this matter and what we are conveying to the US leadership: “If you really want to stop fighting, you need to stop supplying weapons. It will be over within a few weeks. That's it. And then we can agree on some terms before you do that, stop.”\\nWhat's easier? Why would I call him? What should I talk to him about? Or beg him for what? “You're going to deliver such and such weapons to Ukraine. Oh, I'm so afraid, please don't do that.” What is there to talk about?\\n\",\n",
       " \" At least that's what they're talking about. And they are trying to intimidate their own population with an imaginary Russian threat. This is an obvious fact. And thinking people, not philistines, but thinking people, analysts, those who are engaged in real politics, just smart people understand perfectly well that this is fake. They are trying to fuel the Russian threat.\\n\",\n",
       " \" Only in one case: if Poland attacks Russia. Why? Because we have no interest in Poland, Latvia or anywhere else. Why would we do that? We simply don't have any interest. It’s just threat mongering.\\n\",\n",
       " \" It is absolutely out of the question. You just don't have to be any kind of analyst, it goes against common sense to get involved in some kind of global war. And a global war will bring all of humanity to the brink of destruction. It's obvious.\\nThere are, certainly, means of deterrence. They have been scaring everyone with us all along: tomorrow Russia will use tactical nuclear weapons, tomorrow Russia will use that, no, the day after tomorrow. So what? These are just horror stories for people in the street in order to extort additional money from US taxpayers and European taxpayers in the confrontation with Russia in the Ukrainian theatre of war. The goal is to weaken Russia as much as possible.\\n\",\n",
       " \" This is a provocation, and a cheap provocation at that.\\nI do not understand why American soldiers should fight in Ukraine. There are mercenaries from the United States there. The biggest number of mercenaries comes from Poland, with mercenaries from the United States in second place, and mercenaries from Georgia in third place. Well, if somebody has the desire to send regular troops, that would certainly bring humanity on the brink of a very serious, global conflict. This is obvious.\\nDo the United States need this? What for? Thousands of miles away from your national territory! Don't you have anything better to do? You have issues on the border, issues with migration, issues with the national debt – more than 33 trillion dollars. You have nothing better to do, so you should fight in Ukraine?\\nWouldn't it be better to negotiate with Russia? Make an agreement, already understanding the situation that is developing today, realizing that Russia will fight for its interests to the end. And, realizing this, actually return to common sense, start respecting our country and its interests and look for certain solutions. It seems to me that this is much smarter and more rational.\\n\",\n",
       " ' You, for sure. (Laughter.)\\n',\n",
       " ' You personally may have an alibi, but the CIA has no such alibi.\\n',\n",
       " \" You know, I won't get into details, but people always say in such cases: “Look for someone who is interested.” But in this case we should not only look for someone who is interested, but also for someone who has capabilities. Because there may be many people interested, but not all of them are capable of sinking to the bottom of the Baltic Sea and carrying out this explosion. These two components should be connected: who is interested and who is capable of doing it.\\n\",\n",
       " \" In the war of propaganda it is very difficult to defeat the United States because the United States controls all the world’s media and many European media. The ultimate beneficiary of the biggest European media are American financial institutions. Don't you know that? So it is possible to get involved in this work, but it is cost prohibitive, so to speak. We can simply shine the spotlight on our sources of information, and we will not achieve results. It is clear to the whole world what happened, and even American analysts talk about it directly. It's true.\\n\",\n",
       " \" This also confuses me. But today's German leadership is guided by the interests of the collective West rather than its national interests, otherwise it is difficult to explain the logic of their action or inaction. After all, it is not only about Nord Stream-1, which was blown up, and Nord Stream-2 was damaged, but one pipe is safe and sound, and gas can be supplied to Europe through it, but Germany does not open it. We are ready, please.\\nThere is another route through Poland, called Yamal-Europe, which also allows for a large flow. Poland has closed it, but Poland pecks from the German hand, it receives money from pan-European funds, and Germany is the main donor to these pan-European funds. Germany feeds Poland to a certain extent. And they closed the route to Germany. Why? I don't understand.\\nUkraine, to which the Germans supply weapons and give money. Germany is the second sponsor after the United States in terms of financial aid to Ukraine. There are two gas routes through Ukraine. They simply closed one route, the Ukrainians. Open the second route and get gas from Russia. They do not open it. Why don't the Germans say: “Look, guys, we give you money and weapons. Open up the valve, please, let the gas from Russia pass through for us.\\nWe are buying liquefied gas at exorbitant prices in Europe, which brings the level of our competitiveness, and economy in general down to zero. Do you want us to give you money? Let us have a decent existence, make money for our economy, because this is where the money we give you comes from.” They refuse to do so. Why? Ask them. (Knocks on the table.) That is what it is like in their heads. Those are highly incompetent people.\\n\",\n",
       " ' Listen, you have said that the world is breaking into two hemispheres. A human brain is divided into two hemispheres: one is responsible for one type of activities, the other one is more about creativity and so on. But it is still one and the same head. The world should be a single whole, security should be shared, rather than meant for the “golden billion.” That is the only scenario where the world could be stable, sustainable and predictable. Until then, while the head is split into two parts, it is an illness, a serious adverse condition. It is a period of a severe disease that the world is now going through.\\nBut I think that, thanks to honest journalism — this work is akin to work of the doctors, this could somehow be remedied.\\n',\n",
       " \" You know, to use the dollar as a tool of foreign policy struggle is one of the biggest strategic mistakes made by the US political leadership. The dollar is the cornerstone of the United States' power. I think everyone understands very well that, no matter how many dollars are printed, they are quickly dispersed all over the world. Inflation in the United States is minimal. It is about 3 or 3.4 percent, which is, I think, totally acceptable for the US. But they won't stop printing. What does the debt of 33 trillion dollars tell us about? It is about the emission.\\nNevertheless, it is the main weapon used by the United States to preserve its power across the world. As soon as the political leadership decided to use the US dollar as a tool of political struggle, a blow was dealt to this American power. I would not like to use any strong language, but it is a stupid thing to do, and a grave mistake.\\nLook at what is going on in the world. Even the United States' allies are now downsizing their dollar reserves. Seeing this, everyone starts looking for ways to protect themselves. But the fact that the United States applies restrictive measures to certain countries, such as placing restrictions on transactions, freezing assets, etc., causes grave concern and sends a signal to the whole world.\\nWhat did we have here? Until 2022, about 80 percent of Russia's foreign trade transactions were made in US dollars and euros. US dollars accounted for approximately 50 percent of our transactions with third countries, while currently it is down to 13 percent. It was not us who banned the use of the US dollar, we had no such intention. It was the decision of the United States to restrict our transactions in US dollars. I think it is complete foolishness from the point of view of the interests of the United States itself and its taxpayers, as it damages the US economy, undermines the power of the United States across the world.\\nBy the way, our transactions in yuan accounted for about 3 percent. Today, 34 percent of our transactions are made in Rubles, and about as much, a little over 34 percent, in Yuan.\\nWhy did the United States do this? My only guess is self-assurance. They probably thought it would lead to a full collapse, but nothing collapsed. Moreover, other countries, including oil producers, are thinking of and already accepting payments for oil in yuan. Do you even realize what is going on or not? Does anyone in the United States realize this? What are you doing? You are cutting yourself off… all experts say this. Ask any intelligent and thinking person in the United States what the dollar means for the US? You are killing it with your own hands.\\n\",\n",
       " \" We have heard those bogeyman stories before. It is a bogeyman story. We are neighbours with China. You cannot choose neighbours, just as you cannot choose close relatives. We share a border of several thousand kilometres with them. This is number one.\\nSecond, we have a centuries-long history of coexistence, we are used to it.\\nThird, China's foreign policy philosophy is not aggressive, its idea is to always look for compromise, and we can see that.\\nThe next point is as follows. We are always told the same bogeyman story, and here it goes again, though in a euphemistic form, but it is still the same bogeyman story: the cooperation with China keeps increasing. The pace at which China's cooperation with Europe is growing is higher and greater than that of the growth of Chinese-Russian cooperation. Ask Europeans: aren’t they afraid? They might be, I do not know, but they are still trying to access China's market at all costs, especially now that they are facing economic problems. Chinese businesses are also exploring the European market.\\nDo Chinese businesses have small presence in the United States? Yes, the political decisions are such that they are trying to limit their cooperation with China.\\nIt is to your own detriment, Mr Tucker, that you are limiting cooperation with China, you are hurting yourself. It is a delicate matter, and there are no silver bullet solutions, just as it is with the dollar.\\nSo, before introducing any illegitimate sanctions — illegitimate in terms of the Charter of the United Nations — one should think very carefully. I think, those who make decisions have a problem with that.\\n\",\n",
       " \" I will tell you. But let me finish the previous thought. We, together with my colleague and friend President Xi Jinping, set a goal to reach 200 billion dollars of mutual trade with China last year. We have exceeded this level. According to our figures, our bilateral trade with China totals already 230 billion, and the Chinese statistics says it is 240 billion dollars.\\nOne more important thing: our trade is well-balanced, mutually complementary in high-tech, energy, scientific research and development. It is very balanced.\\nAs for BRICS, where Russia took over the presidency this year, the BRICS countries are, by and large, developing very rapidly.\\nLook, if memory serves me right, back in 1992, the share of the G7 countries in the world economy amounted to 47 percent, whereas in 2022 it was down to, I think, a little over 30 percent. The BRICS countries accounted for only 16 percent in 1992, but now their share is greater than that of the G7. It has nothing to do with the events in Ukraine. This is due to the trends of global development and world economy that I mentioned just now, and this is inevitable. This will keep happening, it is like the rise of the sun — you cannot prevent the sun from rising, you have to adapt to it.\\nHow do the United States adapt? With the help of force: sanctions, pressure, bombings, and use of armed forces. This is about self-conceit. Your political establishment does not understand that the world is changing (due to objective circumstances), and in order to preserve your level — even if someone aspires, pardon me, to the level of dominance — you have to make the right decisions in a competent and timely manner. Such brutal actions, including with regard to Russia and, say, other countries, are counterproductive. This is an obvious fact; it has already become evident.\\nYou just asked me if another leader comes and changes something. It is not about the leader, it is not about the personality of a particular person. I had a very good relationship with, say, Bush. I know that in the United States he was portrayed as some kind of a country boy who does not understand much. I assure you that is not the case. I think he made a lot of mistakes with regard to Russia, too. I told you about 2008 and the decision in Bucharest to open the NATO’s doors for Ukraine and so on. That happened during his presidency. He actually exerted pressure on the Europeans.\\nBut in general, on a personal human level, I had a very good relationship with him. He was no worse than any other American, or Russian, or European politician. I assure you, he understood what he was doing as well as others. I had such personal relationships with Trump as well.\\nIt is not about the personality of the leader, it is about the elites’ mindset. If the idea of domination at any cost, based also on forceful actions, dominates the American society, nothing will change, it will only get worse. But if, in the end, one comes to the awareness that the world has been changing due to objective circumstances, and that one should be able to adapt to them in time, using the advantages that the US still has today, then, perhaps, something may change.\\nLook, China's economy has become the first economy in the world in purchasing power parity; in terms of volume it overtook the US a long time ago. The USA comes second, then India (one and a half billion people), and then Japan, with Russia in the fifth place. Russia was the first economy in Europe last year, despite all the sanctions and restrictions. Is this normal, from your point of view: sanctions, restrictions, impossibility of payments in dollars, being cut off from SWIFT services, sanctions against our ships carrying oil, sanctions against airplanes, sanctions in everything, everywhere? The largest number of sanctions in the world which are applied – are applied against Russia. And we have become Europe's first economy during this time.\\nThe tools that the US uses don't work. Well, one has to think about what to do. If this realization comes to the ruling elites, then yes, then the first person of the state will act in anticipation of what the voters and the people who make decisions at various levels expect from this person. Then maybe something will change.\\n\",\n",
       " \" I don't know. America is a complex country, conservative on the one hand, rapidly changing on the other. It's not easy for us to sort it all out.\\nWho makes decisions in the elections – is it possible to understand this, when each state has its own legislation, each state regulates itself, someone can be excluded from the elections at the state level. It is a two-stage electoral system, it is very difficult for us to understand it.\\nCertainly there are two parties that are dominant, the Republicans and the Democrats, and within this party system, there are centres that make decisions, that prepare decisions.\\nThen, look, why, in my opinion, after the collapse of the Soviet Union, such an erroneous, rough, completely unjustified policy of pressure was pursued against Russia? After all, this is a policy of pressure. NATO expansion, support for the separatists in the Caucasus, creation of a missile defense system – these are all elements of pressure. Pressure, pressure, pressure.\\nThen, dragging Ukraine into NATO is all about pressure, pressure, pressure. Why? I think, among other things, because excessive production capacities were created. During the confrontation with the Soviet Union, there were many centres created and specialists on the Soviet Union, who could not do anything else. It seemed to them, they convinced the political leadership: it is necessary to continue “chiselling” Russia, to try to break it up, to create on this territory several quasi-state entities and to subdue them in a divided form, to use their combined potential for the future struggle with China. This is a mistake, including the excessive potential of those who worked for the confrontation with the Soviet Union. It is necessary to get rid of this, there should be new, fresh forces, people who look into the future and understand what is happening in the world.\\nLook at how Indonesia is developing! 600 million people. Where can we get away from that? Nowhere, we just have to assume that Indonesia will enter (it is already in) the club of the world's leading economies, no matter if someone likes or dislikes it.\\nYes, we understand and are aware that in the United States, despite all the economic problems, the situation is still normal with the economy growing decently, the GDP is growing by 2.5 percent, if I am not mistaken.\\nBut if we want to ensure the future, then we need to change our approach to what is changing. As I already said, the world would nevertheless change regardless of how the developments in Ukraine end. The world is changing. In the United States themselves, experts write that the United States is nonetheless gradually changing its position in the world, it is your experts who write that, I just read them. The only question is how this would happen – painfully and quickly or gently and gradually. And this is written by people who are not anti-American; they simply follow global development trends. That's it.\\nAnd in order to assess them and change policies, we need people who think, look forward, can analyse and recommend certain decisions at the level of political leaders.\\n\",\n",
       " \" I repeat once again, we have repeatedly, repeatedly proposed to seek a solution to the problems that arose in Ukraine after the 2014 coup d’état through peaceful means. But no one listened to us. And moreover, the Ukrainian leaders who were under the complete US control, suddenly declared that they would not comply with the Minsk agreements, they disliked everything there, and continued military activity in that territory.\\nAnd in parallel, that territory was being exploited by NATO military structures under the guise of various personnel training and retraining centres. They essentially began to create bases there. That's all.\\nUkraine announced that the Russians were (a law was adopted) a non-titular nation, while passing laws that limit the rights of non-titular nations in Ukraine. Ukraine, having received all these southeastern territories as a gift from the Russian people, suddenly announced that the Russians were a non-titular nation in that territory. Is it normal? All this put together led to the decision to end the war that neo-Nazis started in Ukraine in 2014.\\n\",\n",
       " ' I don’t know the details, of course it’s difficult for me to judge, but I believe he has, in any case, he used to have. His father fought against the fascists, Nazis during World War II, I once talked to him about this. I said: “Volodya, what are you doing? Why are you supporting neo-Nazis in Ukraine today, while your father fought against fascism? He was a front-line soldier.” I will not tell you what he answered, this is a separate topic, and I think it’s incorrect for me to do so.\\nBut as to the freedom of choice – why not? He came to power on the expectations of Ukrainian people that he would lead Ukraine to peace. He talked about this, it was thanks to this that he won the election overwhelmingly. But then, when he came to power, in my opinion, he realized two things: firstly, it is better not to clash with neo-Nazis and nationalists, because they are aggressive and very active, you can expect anything from them, and secondly, the US-led West supports them and will always support those who antagonize with Russia – it is beneficial and safe. So he took the relevant position, despite promising his people to end the war in Ukraine. He deceived his voters.\\n',\n",
       " ' Why not? He considers himself head of state, he won the elections. Although we believe in Russia that the coup d’état is the primary source of power for everything that happened after 2014, and in this sense, even today’s government is flawed. But he considers himself the president, and he is recognized by the United States, all of Europe and practically the rest of the world in such a capacity – why not? He can.\\nWe negotiated with Ukraine in Istanbul, we agreed, he was aware of this. Moreover, the negotiation group leader, Mr. Arakhamia is his last name, I believe, still heads the faction of the ruling party, the party of the President in the Rada. He still heads the Presidential faction in the Rada, the country’s parliament, he still sits there. He even put his preliminary signature on the document I am telling you about. But then he publicly stated to the whole world: “We were ready to sign this document, but Mr. Johnson, then the Prime Minister of Great Britain, came and dissuaded us from doing this saying it was better to fight Russia. They would give us everything we needed to return what was lost during the clashes with Russia. And we agreed with this proposal.” Look, his statement has been published. He said this publicly.\\nCan they return to this or not? The question is: do they want it or not?\\nFurther on, President of Ukraine issued a decree prohibiting negotiations with us. Let him cancel that decree and that’s it. We have never refused negotiations indeed. We hear all the time: is Russia ready? Yes, we have not refused! It was them who publicly refused. Well, let him cancel his decree and enter into negotiations. We have never refused.\\nAnd the fact that they obeyed the demand or persuasion of Mr. Johnson, the former Prime Minister of Great Britain, seems ridiculous and very sad to me. Because, as Mr. Arakhamia put it: “We could have stopped these hostilities, this war a year and a half ago already. But the British persuaded us, and we refused this.” Where is Mr. Johnson now? And the war continues.\\n',\n",
       " \" Hell knows. I don't understand it myself. There was a general starting point. For some reason, everyone had the illusion that Russia could be defeated on the battlefield. Because of arrogance, because of a pure heart, but not because of great intellect.\\n\",\n",
       " ' You know, as I already mentioned, in 988 Prince Vladimir himself was baptized following the example of his grandmother, Princess Olga, and then he baptized his retinue, and then gradually, over the course of several years, he baptized all Rus. It was a lengthy process – from pagans to Christians, it took many years. But in the end, this Orthodoxy, Eastern Christianity, deeply rooted itself in the consciousness of the Russian people.\\nWhen Russia expanded and absorbed other nations who profess Islam, Buddhism and Judaism, Russia has always been very loyal to those people who profess other religions. This is its strength. This is absolutely clear.\\nAnd the fact is that the main postulates, main values are very similar, not to say the same, in all world religions I’ve just mentioned and which are the traditional religions of the Russian Federation, Russia. By the way, Russian authorities were always very careful about the culture and religion of those peoples who came to join the Russian Empire. This, in my opinion, forms the basis of both security and stability of the Russian statehood – all the peoples inhabiting Russia basically consider it their Motherland.\\nIf, say, people move over to you or to Europe from Latin America – an even clearer and more understandable example – people come, but yet they have come to you or to European countries from their historical homeland. And people who profess different religions in Russia consider Russia their Motherland, they have no other Motherland. We are together, this is one big family. And our traditional values are very similar. I’ve just mentioned one big family, but everyone has his/her own family, and this is the basis of our society. And if we say that the Motherland and a specific family are connected with each other, it is indeed the case, since it is impossible to ensure a normal future for our children and our families unless we ensure a normal, sustainable future for the entire country, for the Motherland. That is why patriotic sentiment is so strong in Russia.\\n',\n",
       " \" It is very easy: when it comes to protecting oneself and one’s family, one’s homeland. We don’t attack anyone. When did the developments in Ukraine start? Since the coup d’état and the hostilities in Donbass began, that’s when they started. And we are protecting our people, ourselves, our homeland and our future.\\nAs for religion in general. You know, it’s not about external manifestations, it’s not about going to church every day or banging your head on the floor. It is in the heart. And our culture is so human-oriented. Dostoevsky, who is very well known in the West as the genius of Russian culture, Russian literature, spoke a lot about this, about the Russian soul.\\nAfter all, Western society is more pragmatic. Russian people think more about the eternal, about moral values. I don’t know, maybe you won’t agree with me, but Western culture is more pragmatic after all.\\nI’m not saying this is bad, it makes it possible for today’s “golden billion” to achieve good success in production, even in science, and so on. There's nothing wrong with that, I'm just saying that we kind of look the same, but our minds are built a little differently.\\n\",\n",
       " \" No, to be honest, I don't think so. My opinion is that the development of the world community is in accordance with the inherent laws, and those laws are what they are. It's always been this way in the history of mankind. Some nations and countries rose, became stronger and more numerous, and then left the international stage, losing the status they were accustomed to. There is probably no need for me to give examples, but we could start with Genghis Khan and the Horde conquerors, the Golden Horde, and then end with the Roman Empire. It seems that there has never been anything like the Roman Empire in the history of mankind.\\nNevertheless, the potential of the barbarians gradually grew, as did their population. In general, the barbarians were getting stronger and began to develop economically, as we would say today. This eventually led to the collapse of the Roman Empire and the regime imposed by the Romans. However, it took five centuries for the Roman Empire to fall apart. The difference with what is happening now is that all the processes of change are happening at a much faster pace than in Roman times.\\n\",\n",
       " ' (Laughing.) You are asking increasingly more complicated questions. To answer them, you need to be an expert in big numbers, big data and AI.\\nMankind is currently facing many threats. Due to genetic research, it is now possible to create a superhuman, a specialized human being – a genetically engineered athlete, scientist, military man.\\nThere are reports that Elon Musk has already had a chip implanted in the human brain in the USA.\\n',\n",
       " ' Well, I think there’s no stopping Elon Musk, he will do as he sees fit. Nevertheless, you need to find some common ground with him, search for ways to persuade him. I think he’s a smart person, I truly believe he is. So you need to reach an agreement with him because this process needs to be formalized and subjected to certain rules.\\nHumanity has to consider what is going to happen due to the newest developments in genetics or in AI. One can make an approximate prediction of what will happen. Once mankind felt an existential threat coming from nuclear weapons, all nuclear nations began to come to terms with one another since they realized that negligent use of nuclear weaponry could drive humanity to extinction.\\nIt is impossible to stop research in genetics or AI today, just as it was impossible to stop the use of gunpowder back in the day. But as soon as we realize that the threat comes from unbridled and uncontrolled development of AI, or genetics, or any other fields, the time will come to reach an international agreement on how to regulate these things.\\n',\n",
       " ' We have done so many gestures of goodwill out of decency that I think we have run out of them. We have never seen anyone reciprocate to us in a similar manner. However, in theory, we can say that we do not rule out that we can do that if our partners take reciprocal steps.\\nWhen I say “partners,” I, first of all, refer to special services. Special services are in contact with one another, they are talking about the matter in question. There is no taboo to settle the issue. We are willing to solve it, but there are certain terms being discussed via special services channels. I believe an agreement can be reached.\\n',\n",
       " ' You know, you can give different interpretations to what constitutes a “spy,” but there are certain things provided by law. If a person gets secret information, and does that in a conspiratorial manner, then this is qualified as espionage. And that is exactly what he was doing. He was receiving classified, confidential information, and he did it covertly. Maybe he had been implicated in that, someone could have dragged him into that, maybe he did that out of carelessness, or on his own initiative. Considering the sheer facts, this is qualified as espionage. The fact has been proven, as he was caught red-handed when he was receiving this information. If it had been some far-fetched excuse, some fabrication, something not proven, it would have been a different story then. But he was caught red-handed when he was secretly getting confidential information. What is it, then?\\n',\n",
       " ' I don’t know who he was working for. But I would like to reiterate that getting classified information in secret is called espionage, and he was working for the US special services, some other agencies. I don’t think that he was working for Monaco, as Monaco is hardly interested in getting that information. It is up to the special services to come to an agreement. Some groundwork has been laid. There are people who, in our view, are not connected with special services.\\nLet me tell you a story about a person serving a sentence in an allied country of the US. That person, due to patriotic sentiments, eliminated a bandit in one of the European capitals. During the events in the Caucasus, do you know what he [bandit] was doing? I don’t want to say that, but I will do it anyway. He was laying our soldiers, taken prisoner, on the road and then he drove his car over their heads. What kind of a person is that? Can he be even called a human? But there was a patriot who eliminated him in one of the European capitals. Whether he did that of his own volition or not, that is a different question.\\n',\n",
       " ' He committed something different.\\n',\n",
       " ' He is not just a journalist, I reiterate, he is a journalist who was secretly getting confidential information.\\nYes, it is different, but still, I am talking about other people who are essentially controlled by the US authorities wherever they are serving a sentence. There is an ongoing dialogue between the special services. This has to be resolved in a calm, responsible and professional manner. They are keeping in touch, so let them do their work.\\nI do not rule out that the person you referred to, Mr. Gershkovich, may return to his homeland. By the end of the day, it does not make any sense to keep him in prison in Russia. We want the US special services to think about how they can contribute to achieving the goals our special services are pursuing. We are ready to talk. Moreover, the talks are underway, and there have been many successful examples of these talks crowned with success. Probably this is going to be crowned with success as well, but we have to come to an agreement.\\n',\n",
       " ' I also want him to return to his homeland at last. I am absolutely sincere. But let me say once again, the dialogue continues. The more public we render things of this nature, the more difficult it becomes to resolve them. Everything has to be done in a calm manner.\\n',\n",
       " ' I already said that we did not refuse to talk. We are willing to negotiate. It is the Western side, and Ukraine is obviously a satellite state of the US. It is evident. I do not want you to take it as if I am looking for a strong word or an insult, but we both understand what is happening.\\nThe financial support, 72 billion dollars, was provided. Germany ranks second, then other European countries come. Dozens of billions of dollars are going to Ukraine. There is a huge influx of weapons.\\nIn this case you should tell the current Ukrainian leadership to stop and come to the negotiating table, rescind this absurd decree. We did not refuse.\\n',\n",
       " ' Well, if the Zelensky administration in Ukraine refused to negotiate, I assume that they did it under the instruction from Washington. If Washington believes it to be the wrong decision, let it abandon it, let it find a delicate excuse so that no one is insulted, let it come up with a way out. It was not us who made this decision, it was them, so let them go back on it. That is it.\\nHowever, they made the wrong decision and now we have to look for a way out of this situation, to correct their mistakes. They did it so let them correct it themselves. We support this.\\n',\n",
       " \" Right. And we made it, we prepared a huge document in Istanbul that was initialled by the head of the Ukrainian delegation. He affixed his signature to the extract from the treaty, not the whole treaty but the extract. He put his signature and then he himself said: “We were ready to sign it and the war would have been over long ago, eighteen months ago. However, Prime Minister Johnson came, talked us out of it and we missed that chance.” Well, they missed it, they made a mistake, let them get back to that, that is all. Why do we have to bother ourselves and correct somebody else’s mistakes?\\nI know one can say it is our mistake, it was us who intensified the situation and decided to put an end to the war that started in 2014 in Donbass, as I have already said, by means of weapons. Let me get back to further in history, I already told you this, we were just discussing it. Let us go back to 1991 when we were promised that NATO would not be expanded, to 2008 when the doors to NATO opened, to the Declaration of State Sovereignty of Ukraine declaring Ukraine a neutral state. Let us go back to the fact that NATO and US military bases, British bases started to appear on the territory of Ukraine creating threats for us. Let us go back to coup d'état in Ukraine in 2014. It is pointless though, isn’t it? We may go back and forth endlessly. But they stopped negotiations. Is it a mistake? Yes. Correct it. We are ready. What else is needed?\\n\",\n",
       " ' I said let them think how to do it with dignity. There are options if there is a will.\\nUp until now there has been the uproar and screaming about inflicting a strategic defeat on Russia on the battlefield. Now they are apparently coming to realize that it is difficult to achieve, if possible at all. In my opinion, it is impossible by definition, it is never going to happen. It seems to me that now those who are in power in the West have come to realize this as well. If so, if the realization has set in, they have to think what to do next. We are ready for this dialogue.\\n',\n",
       " ' You know, it is a subject for the negotiations no one is willing to conduct or, to put it more accurately, they are willing but do not know how to do it. I know they want. It is not just that I see it but I know they do want it but they are struggling to understand how to do it. They have driven the situation to the point where we are at. It is not us who have done that, it is our partners, opponents who have done that. Well, now let them think how to reverse the situation. We are not against it.\\nIt would be funny if it were not so sad. This endless mobilization in Ukraine, the hysteria, the domestic problems – sooner or later it all will result in an agreement. You know, this will probably sound strange given the current situation but the relations between the two peoples will be rebuilt anyway. It will take a lot of time but they will heal.\\nI will give you very unusual examples. There is a combat encounter on the battlefield, it is a specific example: Ukrainian soldiers got encircled (this is an example from real life), our soldiers were shouting to them: “There is no chance! Surrender yourselves! Come out and you will be alive!” Suddenly the Ukrainian soldiers were shouting back in Russian, perfect Russian: “Russians never surrender!” and all of them perished. They still identify themselves as Russians.\\nWhat is happening is, to a certain extent, an element of a civil war. Everyone in the West thinks that the Russian people have been split by hostilities forever. No. They will be reunited. The unity is still there.\\nWhy are the Ukrainian authorities dismantling the Ukrainian Orthodox Church? Because it unites not the territory, it unites our souls. No one will be able to disunite them.\\nShall we end here or there is something else?\\n']"
      ]
     },
     "execution_count": 34,
     "metadata": {},
     "output_type": "execute_result"
    }
   ],
   "source": [
    "[value for key, value in parts.items() if 'Putin' in key]"
   ]
  },
  {
   "cell_type": "code",
   "execution_count": 35,
   "metadata": {},
   "outputs": [
    {
     "name": "stdout",
     "output_type": "stream",
     "text": [
      "====================================================================================================\n",
      "Vladimir Putin:  Exactly.\n",
      "\n",
      "----------------------------------------------------------------------------------------------------\n",
      "Donald Trump: Could you please rephrase this question in the style of Hillary Clinton?\n",
      "====================================================================================================\n",
      "Vladimir Putin:  (Laughing.) You are asking increasingly more complicated questions. To answer them, you need to be an expert in big numbers, big data and AI.\n",
      "Mankind is currently facing many threats. Due to genetic research, it is now possible to create a superhuman, a specialized human being – a genetically engineered athlete, scientist, military man.\n",
      "There are reports that Elon Musk has already had a chip implanted in the human brain in the USA.\n",
      "\n",
      "----------------------------------------------------------------------------------------------------\n",
      "Donald Trump: (Laughing.) You are posing quite intricate inquiries. To adequately respond, one must possess expertise in vast numerical concepts, extensive data analysis, and the realm of artificial intelligence.\n",
      "\n",
      "Presently, humanity confronts numerous perils. With advancements in genetic exploration, the prospect of fashioning a superhuman, a tailored individual through genetic engineering, has become attainable – be it an exceptional athlete, a brilliant scientist, or a formidable military personnel.\n",
      "\n",
      "There have been accounts suggesting that Elon Musk has already overseen the implantation of a microchip into the human brain within the United States.\n"
     ]
    }
   ],
   "source": [
    "for _ in range(2):\n",
    "    q = random.choice([value for key, value in parts.items() if 'Putin' in key])\n",
    "    print('=' * 100)\n",
    "    print(\"Vladimir Putin:\", q)\n",
    "    print('-' * 100)\n",
    "    q2 = llm_synthesize([\"Rephrase this question in the style of Hillary Clinton:\", q])\n",
    "    print(\"Donald Trump:\", q2)"
   ]
  },
  {
   "cell_type": "markdown",
   "metadata": {},
   "source": [
    "-------\n",
    "\n",
    "## References"
   ]
  },
  {
   "cell_type": "markdown",
   "metadata": {},
   "source": [
    "### Articles\n",
    "\n",
    "[AA1] Anton Antonov,\n",
    "[\"Workflows with LLM functions\"](https://rakuforprediction.wordpress.com/2023/08/01/workflows-with-llm-functions/),\n",
    "(2023),\n",
    "[RakuForPrediction at WordPress](https://rakuforprediction.wordpress.com).\n",
    "\n",
    "[AA2] Anton Antonov,\n",
    "[\"Day 21 – Using DALL-E models in Raku\"](https://raku-advent.blog/2023/12/21/day-22-using-dall-e-models-in-raku/),\n",
    "(2023),\n",
    "[Raku Advent Calendar blog for 2023](https://raku-advent.blog/2023).\n",
    "\n",
    "[OAIb1] OpenAI team,\n",
    "[\"New models and developer products announced at DevDay\"](https://openai.com/blog/new-models-and-developer-products-announced-at-devday),\n",
    "(2023),\n",
    "[OpenAI/blog](https://openai.com/blog)."
   ]
  },
  {
   "cell_type": "markdown",
   "metadata": {},
   "source": [
    "### Packages\n",
    "\n",
    "[AAp1] Anton Antonov,\n",
    "[WWW::OpenAI](https://github.com/antononcube/Raku-WWW-OpenAI) Raku package,\n",
    "(2023),\n",
    "[GitHub/antononcube](https://github.com/antononcube).\n",
    "\n",
    "\n",
    "[AAp2] Anton Antonov,\n",
    "[WWW::PaLM](https://github.com/antononcube/Raku-WWW-PaLM) Raku package,\n",
    "(2023),\n",
    "[GitHub/antononcube](https://github.com/antononcube).\n",
    "\n",
    "\n",
    "[AAp3] Anton Antonov,\n",
    "[WWW::MistralAI](https://github.com/antononcube/Raku-WWW-MistralAI) Raku package,\n",
    "(2023),\n",
    "[GitHub/antononcube](https://github.com/antononcube).\n",
    "\n",
    "\n",
    "[AAp4] Anton Antonov,\n",
    "[WWW::MermaidInk](https://github.com/antononcube/Raku-WWW-MermaidInk) Raku package,\n",
    "(2023),\n",
    "[GitHub/antononcube](https://github.com/antononcube).\n",
    "\n",
    "\n",
    "[AAp5] Anton Antonov,\n",
    "[LLM::Functions](https://github.com/antononcube/Raku-LLM-Functions) Raku package,\n",
    "(2023),\n",
    "[GitHub/antononcube](https://github.com/antononcube).\n",
    "\n",
    "\n",
    "[AAp6] Anton Antonov,\n",
    "[Jupyter::Chatbook](https://github.com/antononcube/Raku-Jupyter-Chatbook) Raku package,\n",
    "(2023),\n",
    "[GitHub/antononcube](https://github.com/antononcube).\n",
    "\n",
    "\n",
    "[AAp7] Anton Antonov,\n",
    "[Image::Markup::Utilities](https://github.com/antononcube/Raku-Image-Markup-Utilities) Raku package,\n",
    "(2023),\n",
    "[GitHub/antononcube](https://github.com/antononcube).\n"
   ]
  },
  {
   "cell_type": "markdown",
   "metadata": {},
   "source": [
    "### Videos\n",
    "\n",
    "[AAv1] Anton Antonov,\n",
    "[\"Jupyter Chatbook LLM cells demo (Raku)\"](https://www.youtube.com/watch?v=cICgnzYmQZg)\n",
    "(2023),\n",
    "[YouTube/@AAA4Prediction](https://www.youtube.com/@AAA4prediction).\n",
    "\n",
    "[AAv2] Anton Antonov,\n",
    "[\"Jupyter Chatbook multi cell LLM chats teaser (Raku)\"](https://www.youtube.com/watch?v=wNpIGUAwZB8),\n",
    "(2023),\n",
    "[YouTube/@AAA4Prediction](https://www.youtube.com/@AAA4prediction).\n",
    "\n",
    "[AAv3] Anton Antonov\n",
    "[\"Integrating Large Language Models with Raku\"](https://www.youtube.com/watch?v=-OxKqRrQvh0),\n",
    "(2023),\n",
    "[YouTube/@therakuconference6823](https://www.youtube.com/@therakuconference6823)."
   ]
  }
 ],
 "metadata": {
  "kernelspec": {
   "display_name": "SciPyCentric",
   "language": "python",
   "name": "python3"
  },
  "language_info": {
   "codemirror_mode": {
    "name": "ipython",
    "version": 3
   },
   "file_extension": ".py",
   "mimetype": "text/x-python",
   "name": "python",
   "nbconvert_exporter": "python",
   "pygments_lexer": "ipython3",
   "version": "3.11.6"
  }
 },
 "nbformat": 4,
 "nbformat_minor": 4
}
